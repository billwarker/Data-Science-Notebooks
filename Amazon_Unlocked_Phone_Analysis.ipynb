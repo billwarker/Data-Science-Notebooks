{
 "cells": [
  {
   "cell_type": "markdown",
   "metadata": {},
   "source": [
    "# Amazon Unlocked Phone Analysis\n",
    "\n",
    "In this analysis I'm analyzing a dataset of over 400,000 reviews for unlocked cellphones on Amazon.com. Each review has information on the phone's listing name, brand, and price, as well as the review text and rating.\n",
    "\n",
    "For the first half of this analysis I'll examine phone name, brand, and price. I'm curious to see what the most popular phones and brands are, and how these variables impact price and review ratings.\n",
    "\n",
    "In the second half I'll perform sentiment analysis on the reviews themselves by building a model that can accurately discern whether the reviewer's opinions are generally positive, neutral, or negative."
   ]
  },
  {
   "cell_type": "markdown",
   "metadata": {},
   "source": [
    "## Setup and a quick look at the data"
   ]
  },
  {
   "cell_type": "code",
   "execution_count": 626,
   "metadata": {
    "colab": {},
    "colab_type": "code",
    "id": "h-TZL0kt9gQE"
   },
   "outputs": [],
   "source": [
    "import pandas as pd\n",
    "import matplotlib.pyplot as plt\n",
    "import numpy as np\n",
    "import seaborn as sns\n",
    "\n",
    "pd.set_option('display.max_colwidth', -1) # visibility\n",
    "pd.set_option('display.max_columns', 50)\n",
    "\n",
    "sns.set_style(\"darkgrid\") # plotting style\n",
    "%matplotlib inline\n",
    "# plots show up in notebook\n",
    "\n",
    "np.random.seed(42) # seeding random number generator for reproducibility"
   ]
  },
  {
   "cell_type": "code",
   "execution_count": 3,
   "metadata": {
    "colab": {
     "base_uri": "https://localhost:8080/",
     "height": 257
    },
    "colab_type": "code",
    "id": "vgr2OmJZ9t8l",
    "outputId": "345e8d77-cacd-4736-e7d0-ba7da3296561"
   },
   "outputs": [
    {
     "data": {
      "text/html": [
       "<div>\n",
       "<style scoped>\n",
       "    .dataframe tbody tr th:only-of-type {\n",
       "        vertical-align: middle;\n",
       "    }\n",
       "\n",
       "    .dataframe tbody tr th {\n",
       "        vertical-align: top;\n",
       "    }\n",
       "\n",
       "    .dataframe thead th {\n",
       "        text-align: right;\n",
       "    }\n",
       "</style>\n",
       "<table border=\"1\" class=\"dataframe\">\n",
       "  <thead>\n",
       "    <tr style=\"text-align: right;\">\n",
       "      <th></th>\n",
       "      <th>Product Name</th>\n",
       "      <th>Brand Name</th>\n",
       "      <th>Price</th>\n",
       "      <th>Rating</th>\n",
       "      <th>Reviews</th>\n",
       "      <th>Review Votes</th>\n",
       "    </tr>\n",
       "  </thead>\n",
       "  <tbody>\n",
       "    <tr>\n",
       "      <th>0</th>\n",
       "      <td>\"CLEAR CLEAN ESN\" Sprint EPIC 4G Galaxy SPH-D700*FRONT CAMERA*ANDROID*SLIDER*QWERTY KEYBOARD*TOUCH SCREEN</td>\n",
       "      <td>Samsung</td>\n",
       "      <td>199.99</td>\n",
       "      <td>5</td>\n",
       "      <td>I feel so LUCKY to have found this used (phone to us &amp; not used hard at all), phone on line from someone who upgraded and sold this one. My Son liked his old one that finally fell apart after 2.5+ years and didn't want an upgrade!! Thank you Seller, we really appreciate it &amp; your honesty re: said used phone.I recommend this seller very highly &amp; would but from them again!!</td>\n",
       "      <td>1.0</td>\n",
       "    </tr>\n",
       "    <tr>\n",
       "      <th>1</th>\n",
       "      <td>\"CLEAR CLEAN ESN\" Sprint EPIC 4G Galaxy SPH-D700*FRONT CAMERA*ANDROID*SLIDER*QWERTY KEYBOARD*TOUCH SCREEN</td>\n",
       "      <td>Samsung</td>\n",
       "      <td>199.99</td>\n",
       "      <td>4</td>\n",
       "      <td>nice phone, nice up grade from my pantach revue. Very clean set up and easy set up. never had an android phone but they are fantastic to say the least. perfect size for surfing and social media. great phone samsung</td>\n",
       "      <td>0.0</td>\n",
       "    </tr>\n",
       "  </tbody>\n",
       "</table>\n",
       "</div>"
      ],
      "text/plain": [
       "                                                                                                Product Name  \\\n",
       "0  \"CLEAR CLEAN ESN\" Sprint EPIC 4G Galaxy SPH-D700*FRONT CAMERA*ANDROID*SLIDER*QWERTY KEYBOARD*TOUCH SCREEN   \n",
       "1  \"CLEAR CLEAN ESN\" Sprint EPIC 4G Galaxy SPH-D700*FRONT CAMERA*ANDROID*SLIDER*QWERTY KEYBOARD*TOUCH SCREEN   \n",
       "\n",
       "  Brand Name   Price  Rating  \\\n",
       "0  Samsung    199.99  5        \n",
       "1  Samsung    199.99  4        \n",
       "\n",
       "                                                                                                                                                                                                                                                                                                                                                                                  Reviews  \\\n",
       "0  I feel so LUCKY to have found this used (phone to us & not used hard at all), phone on line from someone who upgraded and sold this one. My Son liked his old one that finally fell apart after 2.5+ years and didn't want an upgrade!! Thank you Seller, we really appreciate it & your honesty re: said used phone.I recommend this seller very highly & would but from them again!!   \n",
       "1  nice phone, nice up grade from my pantach revue. Very clean set up and easy set up. never had an android phone but they are fantastic to say the least. perfect size for surfing and social media. great phone samsung                                                                                                                                                                   \n",
       "\n",
       "   Review Votes  \n",
       "0  1.0           \n",
       "1  0.0           "
      ]
     },
     "execution_count": 3,
     "metadata": {},
     "output_type": "execute_result"
    }
   ],
   "source": [
    "csv = \"Amazon_Unlocked_Mobile.csv\"\n",
    "df = pd.read_csv(csv)\n",
    "df.head(2)"
   ]
  },
  {
   "cell_type": "code",
   "execution_count": 665,
   "metadata": {
    "colab": {
     "base_uri": "https://localhost:8080/",
     "height": 287
    },
    "colab_type": "code",
    "id": "C6IKwdvK93Lz",
    "outputId": "3f8f9bf2-144b-41db-9ef4-d0f893343c71"
   },
   "outputs": [
    {
     "data": {
      "text/html": [
       "<div>\n",
       "<style scoped>\n",
       "    .dataframe tbody tr th:only-of-type {\n",
       "        vertical-align: middle;\n",
       "    }\n",
       "\n",
       "    .dataframe tbody tr th {\n",
       "        vertical-align: top;\n",
       "    }\n",
       "\n",
       "    .dataframe thead th {\n",
       "        text-align: right;\n",
       "    }\n",
       "</style>\n",
       "<table border=\"1\" class=\"dataframe\">\n",
       "  <thead>\n",
       "    <tr style=\"text-align: right;\">\n",
       "      <th></th>\n",
       "      <th>Price</th>\n",
       "      <th>Rating</th>\n",
       "      <th>Review Votes</th>\n",
       "    </tr>\n",
       "  </thead>\n",
       "  <tbody>\n",
       "    <tr>\n",
       "      <th>count</th>\n",
       "      <td>407907.000000</td>\n",
       "      <td>413840.000000</td>\n",
       "      <td>401544.000000</td>\n",
       "    </tr>\n",
       "    <tr>\n",
       "      <th>mean</th>\n",
       "      <td>226.867155</td>\n",
       "      <td>3.819578</td>\n",
       "      <td>1.507237</td>\n",
       "    </tr>\n",
       "    <tr>\n",
       "      <th>std</th>\n",
       "      <td>273.006259</td>\n",
       "      <td>1.548216</td>\n",
       "      <td>9.163853</td>\n",
       "    </tr>\n",
       "    <tr>\n",
       "      <th>min</th>\n",
       "      <td>1.730000</td>\n",
       "      <td>1.000000</td>\n",
       "      <td>0.000000</td>\n",
       "    </tr>\n",
       "    <tr>\n",
       "      <th>25%</th>\n",
       "      <td>79.990000</td>\n",
       "      <td>3.000000</td>\n",
       "      <td>0.000000</td>\n",
       "    </tr>\n",
       "    <tr>\n",
       "      <th>50%</th>\n",
       "      <td>144.710000</td>\n",
       "      <td>5.000000</td>\n",
       "      <td>0.000000</td>\n",
       "    </tr>\n",
       "    <tr>\n",
       "      <th>75%</th>\n",
       "      <td>269.990000</td>\n",
       "      <td>5.000000</td>\n",
       "      <td>1.000000</td>\n",
       "    </tr>\n",
       "    <tr>\n",
       "      <th>max</th>\n",
       "      <td>2598.000000</td>\n",
       "      <td>5.000000</td>\n",
       "      <td>645.000000</td>\n",
       "    </tr>\n",
       "  </tbody>\n",
       "</table>\n",
       "</div>"
      ],
      "text/plain": [
       "               Price         Rating   Review Votes\n",
       "count  407907.000000  413840.000000  401544.000000\n",
       "mean   226.867155     3.819578       1.507237     \n",
       "std    273.006259     1.548216       9.163853     \n",
       "min    1.730000       1.000000       0.000000     \n",
       "25%    79.990000      3.000000       0.000000     \n",
       "50%    144.710000     5.000000       0.000000     \n",
       "75%    269.990000     5.000000       1.000000     \n",
       "max    2598.000000    5.000000       645.000000   "
      ]
     },
     "execution_count": 665,
     "metadata": {},
     "output_type": "execute_result"
    }
   ],
   "source": [
    "data = df.copy()\n",
    "data.describe()"
   ]
  },
  {
   "cell_type": "markdown",
   "metadata": {},
   "source": [
    "- Average review rating is almost a 4 - most people are pretty happy with their new phones.\n",
    "- Someone bought a phone for $2600\n",
    "- Most reviews barely get any votes, with a standard deviation of 9 the average is being brought up by a few very high outliers (like the max of 645)"
   ]
  },
  {
   "cell_type": "code",
   "execution_count": 5,
   "metadata": {
    "colab": {
     "base_uri": "https://localhost:8080/",
     "height": 212
    },
    "colab_type": "code",
    "id": "mQh1EOkK93XB",
    "outputId": "d57e0336-ba94-40be-bc54-0a340caf4b0b"
   },
   "outputs": [
    {
     "name": "stdout",
     "output_type": "stream",
     "text": [
      "<class 'pandas.core.frame.DataFrame'>\n",
      "RangeIndex: 413840 entries, 0 to 413839\n",
      "Data columns (total 6 columns):\n",
      "Product Name    413840 non-null object\n",
      "Brand Name      348669 non-null object\n",
      "Price           407907 non-null float64\n",
      "Rating          413840 non-null int64\n",
      "Reviews         413778 non-null object\n",
      "Review Votes    401544 non-null float64\n",
      "dtypes: float64(2), int64(1), object(3)\n",
      "memory usage: 18.9+ MB\n"
     ]
    }
   ],
   "source": [
    "data.info()"
   ]
  },
  {
   "cell_type": "markdown",
   "metadata": {},
   "source": [
    "- 65,000 samples are missing brand names\n",
    "- Price and Review votes are also missing a couple thousand samples\n",
    "- Small number of missing reviews will have to be dropped as no way to impute text"
   ]
  },
  {
   "cell_type": "markdown",
   "metadata": {},
   "source": [
    "Visualizing the distributions of numerical variables:"
   ]
  },
  {
   "cell_type": "code",
   "execution_count": 6,
   "metadata": {
    "colab": {
     "base_uri": "https://localhost:8080/",
     "height": 897
    },
    "colab_type": "code",
    "id": "PNAO4EcY9_nT",
    "outputId": "765267ae-2c2d-4679-ad2e-550ead8b3ba8"
   },
   "outputs": [
    {
     "data": {
      "image/png": "[encoded data removed]",
      "text/plain": [
       "<matplotlib.figure.Figure at 0x14ec550a208>"
      ]
     },
     "metadata": {},
     "output_type": "display_data"
    }
   ],
   "source": [
    "data.hist(bins=50, figsize=(20,15))\n",
    "plt.show()"
   ]
  },
  {
   "cell_type": "code",
   "execution_count": 629,
   "metadata": {},
   "outputs": [
    {
     "data": {
      "text/plain": [
       "5    0.540318\n",
       "1    0.174826\n",
       "4    0.148347\n",
       "3    0.076757\n",
       "2    0.059753\n",
       "Name: Rating, dtype: float64"
      ]
     },
     "execution_count": 629,
     "metadata": {},
     "output_type": "execute_result"
    }
   ],
   "source": [
    "data[\"Rating\"].value_counts()/len(data) # exact proportions of ratings"
   ]
  },
  {
   "cell_type": "markdown",
   "metadata": {},
   "source": [
    "- Price and review votes are right skewed (mean higher than median), ratings are left skewed (median higher than mean)\n",
    "- Small number of outliers in price and review stretch the distributions out\n",
    "- Ratings of 5 make up just over half of the entire rating distribution; will require stratified sampling for training/test sets"
   ]
  },
  {
   "cell_type": "markdown",
   "metadata": {
    "colab_type": "text",
    "id": "5HUdnEgiuuAb"
   },
   "source": [
    "## Exploratory Analysis"
   ]
  },
  {
   "cell_type": "markdown",
   "metadata": {
    "colab_type": "text",
    "id": "uMgO4PRFayLO"
   },
   "source": [
    "### Product Name"
   ]
  },
  {
   "cell_type": "markdown",
   "metadata": {},
   "source": [
    "Unique product names:"
   ]
  },
  {
   "cell_type": "code",
   "execution_count": 8,
   "metadata": {
    "colab": {
     "base_uri": "https://localhost:8080/",
     "height": 34
    },
    "colab_type": "code",
    "id": "22mvbmHCCyN1",
    "outputId": "2a1ab5eb-b1c9-4817-b09c-0df5f220cb2e"
   },
   "outputs": [
    {
     "data": {
      "text/plain": [
       "4410"
      ]
     },
     "execution_count": 8,
     "metadata": {},
     "output_type": "execute_result"
    }
   ],
   "source": [
    "len(data[\"Product Name\"].unique())"
   ]
  },
  {
   "cell_type": "markdown",
   "metadata": {},
   "source": [
    "Top 1000 product names ranked by frequency:"
   ]
  },
  {
   "cell_type": "code",
   "execution_count": 9,
   "metadata": {
    "colab": {
     "base_uri": "https://localhost:8080/",
     "height": 212
    },
    "colab_type": "code",
    "id": "CnMWuPuba3dy",
    "outputId": "7f916477-27e8-424b-d520-91b40f75388d"
   },
   "outputs": [
    {
     "data": {
      "text/plain": [
       "Apple iPhone 4s 8GB Unlocked Smartphone w/ 8MP Camera, White (Certified Refurbished)          1451\n",
       "Apple MF259LL/A - iPhone 4s 8GB / 8MP Camera - Unlocked - Black (Certified Refurbished)       1241\n",
       "BLU Studio 5.0 C HD Unlocked Cellphone, Black                                                 1194\n",
       "OtterBox Iphone 5/5S/SE Defender Case w/ Drop and Dust Proctection - Realtree AP Pink         1129\n",
       "Motorola Moto E (1st Generation) - Black - 4 GB - Global GSM Unlocked Phone                   1127\n",
       "Apple iPhone 5s 32GB (Silver) - AT&T                                                          1118\n",
       "BLU Energy X Plus Smartphone - With 4000 mAh Super Battery- US GSM Unlocked - Grey            1111\n",
       "Samsung Galaxy S Duos II S7582 DUAL SIM Factory Unlocked International Version - Black        1109\n",
       "Samsung Galaxy S Duos II GT-S7582 Factory Unlocked Cellphone, International Version, White    1108\n",
       "Samsung Galaxy S Duos GT-S7562 GSM Unlocked Touchscreen 5MP Camera Smartphone White           1096\n",
       "Name: Product Name, dtype: int64"
      ]
     },
     "execution_count": 9,
     "metadata": {},
     "output_type": "execute_result"
    }
   ],
   "source": [
    "top1000_products = data[\"Product Name\"].value_counts()[:1000]\n",
    "top1000_products[:10]"
   ]
  },
  {
   "cell_type": "markdown",
   "metadata": {},
   "source": [
    "- Apple's iPhone 4s is at the top of the pack with both its white and black 8GB variants\n",
    "- Surprisingly BLU's cellphones beat out Samsung Galaxy S "
   ]
  },
  {
   "cell_type": "markdown",
   "metadata": {},
   "source": [
    "Create a pivot table to see average price and rating, then also add frequency:"
   ]
  },
  {
   "cell_type": "code",
   "execution_count": 630,
   "metadata": {
    "colab": {},
    "colab_type": "code",
    "id": "qfH4bNYHbaPK"
   },
   "outputs": [],
   "source": [
    "avg_price_and_rating = data.pivot_table(index=\"Product Name\", values=[\"Price\", \"Rating\"])\n",
    "top1000_price_and_rating = avg_price_and_rating.loc[top1000_products.index]\n",
    "top1000_price_and_rating[\"Count\"] = data[\"Product Name\"].value_counts()"
   ]
  },
  {
   "cell_type": "code",
   "execution_count": 631,
   "metadata": {
    "colab": {
     "base_uri": "https://localhost:8080/",
     "height": 197
    },
    "colab_type": "code",
    "id": "GxXSgmw0ggGU",
    "outputId": "194eb4fa-60a1-4441-f479-55b121947a3e"
   },
   "outputs": [
    {
     "data": {
      "text/html": [
       "<div>\n",
       "<style scoped>\n",
       "    .dataframe tbody tr th:only-of-type {\n",
       "        vertical-align: middle;\n",
       "    }\n",
       "\n",
       "    .dataframe tbody tr th {\n",
       "        vertical-align: top;\n",
       "    }\n",
       "\n",
       "    .dataframe thead th {\n",
       "        text-align: right;\n",
       "    }\n",
       "</style>\n",
       "<table border=\"1\" class=\"dataframe\">\n",
       "  <thead>\n",
       "    <tr style=\"text-align: right;\">\n",
       "      <th></th>\n",
       "      <th>Price</th>\n",
       "      <th>Rating</th>\n",
       "      <th>Count</th>\n",
       "    </tr>\n",
       "  </thead>\n",
       "  <tbody>\n",
       "    <tr>\n",
       "      <th>Apple iPhone 4s 8GB Unlocked Smartphone w/ 8MP Camera, White (Certified Refurbished)</th>\n",
       "      <td>99.99</td>\n",
       "      <td>3.428670</td>\n",
       "      <td>1451</td>\n",
       "    </tr>\n",
       "    <tr>\n",
       "      <th>Apple MF259LL/A - iPhone 4s 8GB / 8MP Camera - Unlocked - Black (Certified Refurbished)</th>\n",
       "      <td>103.94</td>\n",
       "      <td>3.374698</td>\n",
       "      <td>1241</td>\n",
       "    </tr>\n",
       "    <tr>\n",
       "      <th>BLU Studio 5.0 C HD Unlocked Cellphone, Black</th>\n",
       "      <td>173.44</td>\n",
       "      <td>4.212730</td>\n",
       "      <td>1194</td>\n",
       "    </tr>\n",
       "    <tr>\n",
       "      <th>OtterBox Iphone 5/5S/SE Defender Case w/ Drop and Dust Proctection - Realtree AP Pink</th>\n",
       "      <td>6.99</td>\n",
       "      <td>3.975199</td>\n",
       "      <td>1129</td>\n",
       "    </tr>\n",
       "    <tr>\n",
       "      <th>Motorola Moto E (1st Generation) - Black - 4 GB - Global GSM Unlocked Phone</th>\n",
       "      <td>109.99</td>\n",
       "      <td>4.418811</td>\n",
       "      <td>1127</td>\n",
       "    </tr>\n",
       "  </tbody>\n",
       "</table>\n",
       "</div>"
      ],
      "text/plain": [
       "                                                                                          Price  \\\n",
       "Apple iPhone 4s 8GB Unlocked Smartphone w/ 8MP Camera, White (Certified Refurbished)     99.99    \n",
       "Apple MF259LL/A - iPhone 4s 8GB / 8MP Camera - Unlocked - Black (Certified Refurbished)  103.94   \n",
       "BLU Studio 5.0 C HD Unlocked Cellphone, Black                                            173.44   \n",
       "OtterBox Iphone 5/5S/SE Defender Case w/ Drop and Dust Proctection - Realtree AP Pink    6.99     \n",
       "Motorola Moto E (1st Generation) - Black - 4 GB - Global GSM Unlocked Phone              109.99   \n",
       "\n",
       "                                                                                           Rating  \\\n",
       "Apple iPhone 4s 8GB Unlocked Smartphone w/ 8MP Camera, White (Certified Refurbished)     3.428670   \n",
       "Apple MF259LL/A - iPhone 4s 8GB / 8MP Camera - Unlocked - Black (Certified Refurbished)  3.374698   \n",
       "BLU Studio 5.0 C HD Unlocked Cellphone, Black                                            4.212730   \n",
       "OtterBox Iphone 5/5S/SE Defender Case w/ Drop and Dust Proctection - Realtree AP Pink    3.975199   \n",
       "Motorola Moto E (1st Generation) - Black - 4 GB - Global GSM Unlocked Phone              4.418811   \n",
       "\n",
       "                                                                                         Count  \n",
       "Apple iPhone 4s 8GB Unlocked Smartphone w/ 8MP Camera, White (Certified Refurbished)     1451   \n",
       "Apple MF259LL/A - iPhone 4s 8GB / 8MP Camera - Unlocked - Black (Certified Refurbished)  1241   \n",
       "BLU Studio 5.0 C HD Unlocked Cellphone, Black                                            1194   \n",
       "OtterBox Iphone 5/5S/SE Defender Case w/ Drop and Dust Proctection - Realtree AP Pink    1129   \n",
       "Motorola Moto E (1st Generation) - Black - 4 GB - Global GSM Unlocked Phone              1127   "
      ]
     },
     "execution_count": 631,
     "metadata": {},
     "output_type": "execute_result"
    }
   ],
   "source": [
    "top1000_price_and_rating[:5]"
   ]
  },
  {
   "cell_type": "markdown",
   "metadata": {},
   "source": [
    "Among the top 1000 most frequent products, lets now visualize the relationships between price, rating, and count:"
   ]
  },
  {
   "cell_type": "code",
   "execution_count": 634,
   "metadata": {
    "colab": {
     "base_uri": "https://localhost:8080/",
     "height": 766
    },
    "colab_type": "code",
    "id": "-yvVM5fvf6Jf",
    "outputId": "d858fb0b-3b97-4723-dab6-e24205ac5b29"
   },
   "outputs": [
    {
     "data": {
      "text/plain": [
       "<matplotlib.axes._subplots.AxesSubplot at 0x14e8842a630>"
      ]
     },
     "execution_count": 634,
     "metadata": {},
     "output_type": "execute_result"
    },
    {
     "data": {
      "image/png": "[encoded data removed]",
      "text/plain": [
       "<matplotlib.figure.Figure at 0x14e842f2320>"
      ]
     },
     "metadata": {},
     "output_type": "display_data"
    }
   ],
   "source": [
    "plt.subplots(2,2, figsize=(18,12))\n",
    "\n",
    "plt.subplot(2,2,1)\n",
    "plt.scatter(\"Rating\", \"Price\", data=top1000_price_and_rating)\n",
    "plt.title(\"Rating vs Price\")\n",
    "plt.xlabel(\"Rating\")\n",
    "plt.ylabel(\"Price\")\n",
    "\n",
    "plt.subplot(2,2,2)\n",
    "plt.scatter(\"Price\", \"Count\", data=top1000_price_and_rating)\n",
    "plt.title(\"Price vs Count\")\n",
    "plt.xlabel(\"Price\")\n",
    "plt.ylabel(\"Count\")\n",
    "\n",
    "plt.subplot(2,2,3)\n",
    "plt.scatter(\"Rating\", \"Count\", data=top1000_price_and_rating)\n",
    "plt.title(\"Rating vs Count\")\n",
    "plt.xlabel(\"Rating\")\n",
    "plt.ylabel(\"Count\")\n",
    "\n",
    "plt.subplot(2,2,4)\n",
    "sns.heatmap(top1000_price_and_rating.corr()) # pearson correlation limited to linear relationships only"
   ]
  },
  {
   "cell_type": "code",
   "execution_count": 635,
   "metadata": {},
   "outputs": [
    {
     "data": {
      "text/html": [
       "<div>\n",
       "<style scoped>\n",
       "    .dataframe tbody tr th:only-of-type {\n",
       "        vertical-align: middle;\n",
       "    }\n",
       "\n",
       "    .dataframe tbody tr th {\n",
       "        vertical-align: top;\n",
       "    }\n",
       "\n",
       "    .dataframe thead th {\n",
       "        text-align: right;\n",
       "    }\n",
       "</style>\n",
       "<table border=\"1\" class=\"dataframe\">\n",
       "  <thead>\n",
       "    <tr style=\"text-align: right;\">\n",
       "      <th></th>\n",
       "      <th>Price</th>\n",
       "      <th>Rating</th>\n",
       "      <th>Count</th>\n",
       "    </tr>\n",
       "  </thead>\n",
       "  <tbody>\n",
       "    <tr>\n",
       "      <th>Price</th>\n",
       "      <td>1.000000</td>\n",
       "      <td>0.282069</td>\n",
       "      <td>-0.020859</td>\n",
       "    </tr>\n",
       "    <tr>\n",
       "      <th>Rating</th>\n",
       "      <td>0.282069</td>\n",
       "      <td>1.000000</td>\n",
       "      <td>0.030110</td>\n",
       "    </tr>\n",
       "    <tr>\n",
       "      <th>Count</th>\n",
       "      <td>-0.020859</td>\n",
       "      <td>0.030110</td>\n",
       "      <td>1.000000</td>\n",
       "    </tr>\n",
       "  </tbody>\n",
       "</table>\n",
       "</div>"
      ],
      "text/plain": [
       "           Price    Rating     Count\n",
       "Price   1.000000  0.282069 -0.020859\n",
       "Rating  0.282069  1.000000  0.030110\n",
       "Count  -0.020859  0.030110  1.000000"
      ]
     },
     "execution_count": 635,
     "metadata": {},
     "output_type": "execute_result"
    }
   ],
   "source": [
    "top1000_price_and_rating.corr()"
   ]
  },
  {
   "cell_type": "markdown",
   "metadata": {},
   "source": [
    "- Rating and price have a weak positive correlation: pricier phones are more likely to satisfy their buyers\n",
    "- The count of products in the top 1000 seems to be completely unaffected by their price or rating; they do heavily cluster around prices between 0-$500 and ratings of 3.5-4.5"
   ]
  },
  {
   "cell_type": "markdown",
   "metadata": {
    "colab_type": "text",
    "id": "Y8Db6VtCkuqj"
   },
   "source": [
    "### Brand Name"
   ]
  },
  {
   "cell_type": "code",
   "execution_count": 17,
   "metadata": {
    "colab": {
     "base_uri": "https://localhost:8080/",
     "height": 34
    },
    "colab_type": "code",
    "id": "iZXeN9N9kzFi",
    "outputId": "09b5facf-b378-4028-88fd-5960a4986940"
   },
   "outputs": [
    {
     "data": {
      "text/plain": [
       "0.15747873574328242"
      ]
     },
     "execution_count": 17,
     "metadata": {},
     "output_type": "execute_result"
    }
   ],
   "source": [
    "len(data[data[\"Brand Name\"].isnull()])/len(data[\"Brand Name\"])"
   ]
  },
  {
   "cell_type": "markdown",
   "metadata": {},
   "source": [
    "~16% of brand names are missing in this dataset."
   ]
  },
  {
   "cell_type": "markdown",
   "metadata": {},
   "source": [
    "Number of unique brands:"
   ]
  },
  {
   "cell_type": "code",
   "execution_count": 637,
   "metadata": {
    "colab": {
     "base_uri": "https://localhost:8080/",
     "height": 1332
    },
    "colab_type": "code",
    "id": "NpZHwQwHlYSR",
    "outputId": "4aabf8ed-1a7a-4f11-b9f2-8dd5125a9589"
   },
   "outputs": [
    {
     "name": "stdout",
     "output_type": "stream",
     "text": [
      "385 Unique brands.\n",
      "\n",
      "['Samsung' 'Nokia' nan 'HTM' 'Jethro' 'e passion'\n",
      " 'Cedar Tree Technologies' 'Indigi' 'Phone Baby' 'OtterBox' 'Lenovo'\n",
      " 'Huawei' 'JUNING' 'Elephone' 'Plum' 'VKworld' 'NOKIA' 'Ulefone' 'Jiuhe'\n",
      " 'inDigi' 'Acer' 'Aeku' 'AKUA' 'Alcatel' 'TCL Mobile' 'LG' 'amar' 'Amazon'\n",
      " 'Odysseus' 'Digital SNITCH' 'star' 'Android' 'Yezz' 'Yezz Wireless Ltd.'\n",
      " 'Apple' 'Apple Computer' 'Certified Refurbished'\n",
      " 'Amazon.com, LLC *** KEEP PORules ACTIVE ***' 'apple' 'ARGOM TECH' 'Asus'\n",
      " 'ASUS' 'ASUS Computers' 'asus' 'BlackBerry' 'Motorola' 'Palm' 'Pantech'\n",
      " 'ZTE' 'ATT' 'UnAssigned' 'Atoah'\n",
      " 'BlackBerry Storm 9530 Smartphone Unlocked GSM Wireless Handheld Device w/Camera Bluetooth 3.25\" Touchscreen LCD'\n",
      " 'WorryFree Gadgets' 'worryfree' 'iDROID USA' 'Blackberry (Rim)'\n",
      " 'Research In Motion' 'BLACKBERRY' 'Black Berry' 'Blackberry' 'blackberry'\n",
      " 'RIM' 'Research in Motion' 'Blackberrry' 'Storm' 'Blackview' 'BLU'\n",
      " 'Various' 'CT-Miami LLC' 'blu' 'BLUBOO' 'Bluboo' 'Iridium' 'AeroAntenna'\n",
      " 'BlueCosmo' 'GT Star' 'Boost Mobile' 'SANYO' 'sony' 'CablesOnline'\n",
      " 'Casio' 'CAT PHONES' 'CAT' 'Caterpillar' 'CATERPILLAR' 'CBSKY' 'CECTDIGI'\n",
      " 'CELLALLURE' 'Unnecto' 'CHSLING' 'CNPGD'\n",
      " 'Conquest S8 Pro 3GB Smartphone (Black)' 'Consumer Cellular' 'Junlan'\n",
      " 'Quality Technology Industrial Co., ltd.' 'Crony' 'Crown' 'China' 'HTC'\n",
      " 'Dell Computers' 'Docooler' 'DIKOO' 'DOOGEE' 'Doogee' 'KVD' 'Doro'\n",
      " 'DTECH' 'Dupad Story' 'EasyN' 'ECOO' 'Emporia' 'FIGO' 'FiGo' 'Maxwest'\n",
      " 'Futuretech' 'Wool' 'S7 active' 'Evergreen Flag & Garden' 'Generic'\n",
      " 'Getnord' 'Glocalme®' 'IPRO Group' 'Goldengulf' 'goldengulf' 'GOOGLE'\n",
      " 'Google Pixel' 'Google' 'GOSO' 'Inmarsat' 'GreatCall' 'Jitterbug'\n",
      " 'GT STAR' 'GX' 'H2O' 'china' 'Victor' 'shenzhen jinwanyi company'\n",
      " 'HOMTOM' 'JHM' 'HOMTOM HT7' 'HP Handheld' 'VoiceStream' 'HP'\n",
      " 'HTC America' 'htc' 'Huadoo' 'HUAWEI' 'XJKJ' 'LightInTheBox'\n",
      " 'winwinzonece' 'HyRich' 'Star' 'px phone' 'indigi' 'Indigi®' 'iNew'\n",
      " 'Spicy World' 'iVAPO' 'IPRO GROUP' 'Ipro' 'iRULU' 'JANIZZ' 'Jersa'\n",
      " 'Trait-Tech' 'JIAKE' 'GrandElectronics' 'Jiayu' \"John's\" \"John's Phone\"\n",
      " 'Eachbid' 'Kata' 'katito' 'KINGZONE' 'Kivors' 'Kocaso' 'KOCASO' 'KOOTION'\n",
      " 'Kovee Tech' 'Kyocera' 'LandRum' 'LBER' 'Leagoo'\n",
      " 'OTEDA Industrial Co., Limited' 'JINHAIHUAHUI'\n",
      " 'WEIL TECHNOLOGY (HK) Limited' 'iPartsBuy' 'Lenovo Manufacturer' 'DK'\n",
      " 'LeEco' 'Letv' 'lg' 'LG Electronic' 'LG Electronics' 'Wireless One'\n",
      " 'LG Electronics MobileComm USA' 'LGIC' 'P710' 'Risio' 'GL' 'LGG'\n",
      " 'LifeProof' 'Sudroid' 'Lumen' 'Mango Natural' 'MANN ZUG S Rugged Phone'\n",
      " 'Marozi International Ltd' 'MEIZU' 'Meizu' 'M-HORSE' 'Microsoft'\n",
      " 'microsoft' 'Fosler Corporation' 'FOSLER COMPANY' 'Eson'\n",
      " 'Selected-Gadgets' 'Sony Ericsson' 'Mophie' 'mophie' 'ShopTech4Less'\n",
      " 'Motorola X 2nd gen XT1093' 'motorola' 'Moto X' 'MOTOROLA'\n",
      " 'Moxee Technologies' 'MOCREO' 'KINGWELL' 'Neoix' 'Sony'\n",
      " 'New Nextel Rugged Motorola I680 Cell Phone' 'Higoo' 'Sdeals' 'Sidekick'\n",
      " 'bbfone' 'Newsunshine' 'MICROSOFT' 'Grade - A' 'nokia' 'AT&T'\n",
      " 'Nuu Mobile' 'Ofeely' 'Ofeely company' 'OLA Products' 'OnePlus' 'Orbic'\n",
      " 'Oukitel' 'UMI' 'Otium' 'Defender' 'Ultrabox' 'OUKITEL' 'Padgene'\n",
      " 'Sprint' 'PALM' 'Pandaoo' 'pantech' 'PCD' 'Tuscan Leveling System'\n",
      " 'Pharos' 'PHAROS' 'Plum Mobile' 'Polaroid' 'Posh Mobile'\n",
      " 'AMM Global Enterprises' 'QJO' 'Que Products' 'Quick-get' 'RCA' 'Rim'\n",
      " 'REACH' 'RomaCostume' 'SENTEL' 'RugGear' 'Saliency' 'SAMSUNG' 'Samssung'\n",
      " 'Luxury Phone' 'Galaxy' 'Samsung Korea LTD' 'BlueSolar'\n",
      " 'samsung galaxy international inc' 'Global Services' 'samsung'\n",
      " 'PowerMoxie' 'Unknown' 'Samsung Galaxy' 'Samsybg Galaxy'\n",
      " 'Samsung international' 'Samsung International' 'TOP' 'Vostrostone'\n",
      " 'Samsung Korea' 'samsung galaxy' 'red' 'Sanyo' 'Sanyo, Katana'\n",
      " 'Seawolf Technologies' 'SGH-T199' 'Sharp' 'SIAM' 'Blackphone'\n",
      " 'Silent Circle' 'SKY Devices' 'Sky Devices' 'VEGA' 'GEEKERA' 'JoyGeek'\n",
      " 'Smart&Cool' 'KROO' 'IPRO' 'Yota'\n",
      " 'SHENZHEN SNOPOW OUTDOOR TECHNOLOGY CO.,LTD'\n",
      " 'SHENZHEN SNOPOW OUTDOOR TECHNOLOGY CO.LTD' 'Social'\n",
      " 'Unlocked Cell Phone' 'SOLE Mobile' 'Sonim Technologies' 'SonyEricsson'\n",
      " 'SONY ERICSSON' 'sony ericsson' 'Sony Ericsson Mobile' 'Sony/Ericsson'\n",
      " 'SONY' 'EL GUAPO' 'Sonim' 'ssiony' 'Stoga' 'TracFone' 'HJ Wireless'\n",
      " 'Blue' 'Samsung/Straight Talk' 'PAE' 'ling' 'LuMen' 'Supersonic' 'SVP'\n",
      " 'MTM Trading LLC' 'Turbosight LLD' 'Tell' 'The NoPhone' 'Thetford Marine'\n",
      " 'SyuanTech Co., Ltd' 'THL' 'ThL' 'Tivax' 'T-Mobile' 'Danger Inc.'\n",
      " 'LiteFuze' 'DreamsEden' 'ToShare Tech' 'TOTO' 'TSJYING' 'TUMI' 'iFcane'\n",
      " 'ifcane' 'Peek' 'Wmicro' 'UHAPPY' 'Purplelan' 'Tsing' 'WRTeam' 'Coolpad'\n",
      " 'Cubot' 'CUBOT' 'Concox' 'KIKAR' 'the Nokia' 'NUU Mobile' 'OceanCross'\n",
      " 'UTStarcom' 'Verizon' 'Vernee' 'verykool' 'VIP' 'Ut Starcom'\n",
      " 'Visual Land' 'Wogiz' 'q' 'Shenzhen Xin Sheng Shang Technology Co.,Ltd'\n",
      " 'Xiaomi' 'SZ Wave' 'ZTE(USA) Wireless' 'Dead Sea Secrets'\n",
      " 'ZTE Corporation' 'Zte']\n"
     ]
    }
   ],
   "source": [
    "all_brands = data[\"Brand Name\"].unique()\n",
    "print(\"{} Unique brands.\\n\".format(len(all_brands)))\n",
    "print(all_brands)"
   ]
  },
  {
   "cell_type": "markdown",
   "metadata": {},
   "source": [
    "Missing brands:"
   ]
  },
  {
   "cell_type": "code",
   "execution_count": 642,
   "metadata": {},
   "outputs": [
    {
     "data": {
      "text/plain": [
       "65171"
      ]
     },
     "execution_count": 642,
     "metadata": {},
     "output_type": "execute_result"
    }
   ],
   "source": [
    "missing_brands_df = data[data[\"Brand Name\"].isnull()]\n",
    "len(missing_brands_df)"
   ]
  },
  {
   "cell_type": "code",
   "execution_count": 659,
   "metadata": {},
   "outputs": [
    {
     "data": {
      "text/html": [
       "<div>\n",
       "<style scoped>\n",
       "    .dataframe tbody tr th:only-of-type {\n",
       "        vertical-align: middle;\n",
       "    }\n",
       "\n",
       "    .dataframe tbody tr th {\n",
       "        vertical-align: top;\n",
       "    }\n",
       "\n",
       "    .dataframe thead th {\n",
       "        text-align: right;\n",
       "    }\n",
       "</style>\n",
       "<table border=\"1\" class=\"dataframe\">\n",
       "  <thead>\n",
       "    <tr style=\"text-align: right;\">\n",
       "      <th></th>\n",
       "      <th>Product Name</th>\n",
       "      <th>Brand Name</th>\n",
       "      <th>Price</th>\n",
       "      <th>Rating</th>\n",
       "      <th>Reviews</th>\n",
       "      <th>Review Votes</th>\n",
       "    </tr>\n",
       "  </thead>\n",
       "  <tbody>\n",
       "    <tr>\n",
       "      <th>110</th>\n",
       "      <td>((Unlocked))BlackBerry Bold 9650 Unlocked Clean ESN Smartphone non camera</td>\n",
       "      <td>NaN</td>\n",
       "      <td>269.1</td>\n",
       "      <td>2</td>\n",
       "      <td>when i got phone it wouldn't work I took it to a Verizon store here the battery didn't work even when I charged it for 12 hrs Verizon put another used battery in phone it started to work</td>\n",
       "      <td>0.0</td>\n",
       "    </tr>\n",
       "    <tr>\n",
       "      <th>111</th>\n",
       "      <td>((Unlocked))BlackBerry Bold 9650 Unlocked Clean ESN Smartphone non camera</td>\n",
       "      <td>NaN</td>\n",
       "      <td>269.1</td>\n",
       "      <td>4</td>\n",
       "      <td>I liked</td>\n",
       "      <td>0.0</td>\n",
       "    </tr>\n",
       "    <tr>\n",
       "      <th>112</th>\n",
       "      <td>((Unlocked))BlackBerry Bold 9650 Unlocked Clean ESN Smartphone non camera</td>\n",
       "      <td>NaN</td>\n",
       "      <td>269.1</td>\n",
       "      <td>5</td>\n",
       "      <td>Great. Arrived quickly.</td>\n",
       "      <td>0.0</td>\n",
       "    </tr>\n",
       "    <tr>\n",
       "      <th>113</th>\n",
       "      <td>((Unlocked))BlackBerry Bold 9650 Unlocked Clean ESN Smartphone non camera</td>\n",
       "      <td>NaN</td>\n",
       "      <td>269.1</td>\n",
       "      <td>4</td>\n",
       "      <td>Phone works great, you may have to get a sum card adapter to make micro sim cats work.</td>\n",
       "      <td>0.0</td>\n",
       "    </tr>\n",
       "    <tr>\n",
       "      <th>114</th>\n",
       "      <td>((Unlocked))BlackBerry Bold 9650 Unlocked Clean ESN Smartphone non camera</td>\n",
       "      <td>NaN</td>\n",
       "      <td>269.1</td>\n",
       "      <td>5</td>\n",
       "      <td>Avianna LLC is an incredible seller. The phone did take a while to get to my place however when the phone didn't work on my provider, Andrew stayed on the phone with me with tech support with my service provider for over 1.5 hrs just to try and get the phone to work. When that didn't work he immediately sent a replacement phone for me to use. He is very receptive to feedback and is constantly in contact when a problem arises. The product was as described, used Sprint Unlocked Blackberry Bold and I believe it is the service from my provider that was the problem.</td>\n",
       "      <td>0.0</td>\n",
       "    </tr>\n",
       "  </tbody>\n",
       "</table>\n",
       "</div>"
      ],
      "text/plain": [
       "                                                                  Product Name  \\\n",
       "110  ((Unlocked))BlackBerry Bold 9650 Unlocked Clean ESN Smartphone non camera   \n",
       "111  ((Unlocked))BlackBerry Bold 9650 Unlocked Clean ESN Smartphone non camera   \n",
       "112  ((Unlocked))BlackBerry Bold 9650 Unlocked Clean ESN Smartphone non camera   \n",
       "113  ((Unlocked))BlackBerry Bold 9650 Unlocked Clean ESN Smartphone non camera   \n",
       "114  ((Unlocked))BlackBerry Bold 9650 Unlocked Clean ESN Smartphone non camera   \n",
       "\n",
       "    Brand Name  Price  Rating  \\\n",
       "110  NaN        269.1  2        \n",
       "111  NaN        269.1  4        \n",
       "112  NaN        269.1  5        \n",
       "113  NaN        269.1  4        \n",
       "114  NaN        269.1  5        \n",
       "\n",
       "                                                                                                                                                                                                                                                                                                                                                                                                                                                                                                                                                                                     Reviews  \\\n",
       "110  when i got phone it wouldn't work I took it to a Verizon store here the battery didn't work even when I charged it for 12 hrs Verizon put another used battery in phone it started to work                                                                                                                                                                                                                                                                                                                                                                                                \n",
       "111  I liked                                                                                                                                                                                                                                                                                                                                                                                                                                                                                                                                                                                   \n",
       "112  Great. Arrived quickly.                                                                                                                                                                                                                                                                                                                                                                                                                                                                                                                                                                   \n",
       "113  Phone works great, you may have to get a sum card adapter to make micro sim cats work.                                                                                                                                                                                                                                                                                                                                                                                                                                                                                                    \n",
       "114  Avianna LLC is an incredible seller. The phone did take a while to get to my place however when the phone didn't work on my provider, Andrew stayed on the phone with me with tech support with my service provider for over 1.5 hrs just to try and get the phone to work. When that didn't work he immediately sent a replacement phone for me to use. He is very receptive to feedback and is constantly in contact when a problem arises. The product was as described, used Sprint Unlocked Blackberry Bold and I believe it is the service from my provider that was the problem.   \n",
       "\n",
       "     Review Votes  \n",
       "110  0.0           \n",
       "111  0.0           \n",
       "112  0.0           \n",
       "113  0.0           \n",
       "114  0.0           "
      ]
     },
     "execution_count": 659,
     "metadata": {},
     "output_type": "execute_result"
    }
   ],
   "source": [
    "missing_brands_df.head()"
   ]
  },
  {
   "cell_type": "code",
   "execution_count": 660,
   "metadata": {},
   "outputs": [
    {
     "data": {
      "text/html": [
       "<div>\n",
       "<style scoped>\n",
       "    .dataframe tbody tr th:only-of-type {\n",
       "        vertical-align: middle;\n",
       "    }\n",
       "\n",
       "    .dataframe tbody tr th {\n",
       "        vertical-align: top;\n",
       "    }\n",
       "\n",
       "    .dataframe thead th {\n",
       "        text-align: right;\n",
       "    }\n",
       "</style>\n",
       "<table border=\"1\" class=\"dataframe\">\n",
       "  <thead>\n",
       "    <tr style=\"text-align: right;\">\n",
       "      <th></th>\n",
       "      <th>Product Name</th>\n",
       "      <th>Brand Name</th>\n",
       "      <th>Price</th>\n",
       "      <th>Rating</th>\n",
       "      <th>Reviews</th>\n",
       "      <th>Review Votes</th>\n",
       "    </tr>\n",
       "  </thead>\n",
       "  <tbody>\n",
       "    <tr>\n",
       "      <th>413097</th>\n",
       "      <td>ZTE V987 Android 4.1 MT6589 Quad Core 1.2GHz Dual Sim 5.0 inch HD 1G RAM 8.0MP</td>\n",
       "      <td>NaN</td>\n",
       "      <td>167.22</td>\n",
       "      <td>5</td>\n",
       "      <td>EXCELENTE</td>\n",
       "      <td>0.0</td>\n",
       "    </tr>\n",
       "    <tr>\n",
       "      <th>413098</th>\n",
       "      <td>ZTE V987 Android 4.1 MT6589 Quad Core 1.2GHz Dual Sim 5.0 inch HD 1G RAM 8.0MP</td>\n",
       "      <td>NaN</td>\n",
       "      <td>167.22</td>\n",
       "      <td>2</td>\n",
       "      <td>Not as expected so I returned this phone</td>\n",
       "      <td>0.0</td>\n",
       "    </tr>\n",
       "    <tr>\n",
       "      <th>413099</th>\n",
       "      <td>ZTE V987 Android 4.1 MT6589 Quad Core 1.2GHz Dual Sim 5.0 inch HD 1G RAM 8.0MP</td>\n",
       "      <td>NaN</td>\n",
       "      <td>167.22</td>\n",
       "      <td>5</td>\n",
       "      <td>very well</td>\n",
       "      <td>0.0</td>\n",
       "    </tr>\n",
       "    <tr>\n",
       "      <th>413100</th>\n",
       "      <td>ZTE V987 Android 4.1 MT6589 Quad Core 1.2GHz Dual Sim 5.0 inch HD 1G RAM 8.0MP</td>\n",
       "      <td>NaN</td>\n",
       "      <td>167.22</td>\n",
       "      <td>5</td>\n",
       "      <td>excelente</td>\n",
       "      <td>0.0</td>\n",
       "    </tr>\n",
       "    <tr>\n",
       "      <th>413101</th>\n",
       "      <td>ZTE V987 Android 4.1 MT6589 Quad Core 1.2GHz Dual Sim 5.0 inch HD 1G RAM 8.0MP</td>\n",
       "      <td>NaN</td>\n",
       "      <td>167.22</td>\n",
       "      <td>5</td>\n",
       "      <td>great product! i loved!</td>\n",
       "      <td>0.0</td>\n",
       "    </tr>\n",
       "  </tbody>\n",
       "</table>\n",
       "</div>"
      ],
      "text/plain": [
       "                                                                          Product Name  \\\n",
       "413097  ZTE V987 Android 4.1 MT6589 Quad Core 1.2GHz Dual Sim 5.0 inch HD 1G RAM 8.0MP   \n",
       "413098  ZTE V987 Android 4.1 MT6589 Quad Core 1.2GHz Dual Sim 5.0 inch HD 1G RAM 8.0MP   \n",
       "413099  ZTE V987 Android 4.1 MT6589 Quad Core 1.2GHz Dual Sim 5.0 inch HD 1G RAM 8.0MP   \n",
       "413100  ZTE V987 Android 4.1 MT6589 Quad Core 1.2GHz Dual Sim 5.0 inch HD 1G RAM 8.0MP   \n",
       "413101  ZTE V987 Android 4.1 MT6589 Quad Core 1.2GHz Dual Sim 5.0 inch HD 1G RAM 8.0MP   \n",
       "\n",
       "       Brand Name   Price  Rating                                   Reviews  \\\n",
       "413097  NaN        167.22  5       EXCELENTE                                  \n",
       "413098  NaN        167.22  2       Not as expected so I returned this phone   \n",
       "413099  NaN        167.22  5       very well                                  \n",
       "413100  NaN        167.22  5       excelente                                  \n",
       "413101  NaN        167.22  5       great product! i loved!                    \n",
       "\n",
       "        Review Votes  \n",
       "413097  0.0           \n",
       "413098  0.0           \n",
       "413099  0.0           \n",
       "413100  0.0           \n",
       "413101  0.0           "
      ]
     },
     "execution_count": 660,
     "metadata": {},
     "output_type": "execute_result"
    }
   ],
   "source": [
    "missing_brands_df.tail()"
   ]
  },
  {
   "cell_type": "markdown",
   "metadata": {},
   "source": [
    "- There are over 60,000 samples with missing brands, but they're mostly for the same products\n",
    "- The brand of each product seems to occur early on in the product name string\n",
    "\n",
    "With this in mind, the algorithm for finding the brand name will do the following:\n",
    "\n",
    "- Iterate through all known brands and see if they are in the name string\n",
    "- If found in the name string, will use its index in the string as a key in a temporary dictionary that is paired with the brand name\n",
    "- Return the brand paired to the smallest index key (the first brand that came in the product name string)\n",
    "- Add the product string and its found brand as a key-value pair in a global product_dict dictionary\n",
    "- Check to see if the product string already exists in the product_dict dictionary at the beginning of each function call; if it exists it will just grab the brand from there\n",
    "- This avoids having to do the slow iteration through all known brands when looking at duplicate products"
   ]
  },
  {
   "cell_type": "code",
   "execution_count": 654,
   "metadata": {
    "colab": {},
    "colab_type": "code",
    "id": "qARKQW9DocZx"
   },
   "outputs": [],
   "source": [
    "def find_brand(row):\n",
    "    global product_dict # global dict\n",
    "    name = row[\"Product Name\"] # grab product string\n",
    "    if name in product_dict:\n",
    "        return product_dict[name] # if product string already exists in global dict use its brand\n",
    "    else:\n",
    "        found_brands = {} # initialize empty dict to store found brands\n",
    "        for brand in all_brands:\n",
    "            if str(brand) in name:\n",
    "                found_brands[name.find(str(brand))] = brand # if a known brand is in the string add it to found_brands\n",
    "                                                            # keying it with its index in the string\n",
    "        try:\n",
    "            first_brand = found_brands[min(list(found_brands.keys()))] # take the first brand found in the string \n",
    "            product_dict[name] = first_brand # add product string and found brand to global dict\n",
    "            return first_brand\n",
    "        except ValueError:\n",
    "            pass # pass if no brand is found\n",
    "    "
   ]
  },
  {
   "cell_type": "code",
   "execution_count": 655,
   "metadata": {
    "colab": {},
    "colab_type": "code",
    "id": "ylKXlTBQsPje"
   },
   "outputs": [],
   "source": [
    "product_dict = {}\n",
    "found_brands = missing_brands_df.apply(find_brand, axis=1)"
   ]
  },
  {
   "cell_type": "markdown",
   "metadata": {},
   "source": [
    "Quick look to check if it worked:"
   ]
  },
  {
   "cell_type": "code",
   "execution_count": 661,
   "metadata": {},
   "outputs": [
    {
     "data": {
      "text/plain": [
       "53253    Apple\n",
       "53254    Apple\n",
       "53255    Apple\n",
       "53256    Apple\n",
       "53257    Apple\n",
       "dtype: object"
      ]
     },
     "execution_count": 661,
     "metadata": {},
     "output_type": "execute_result"
    }
   ],
   "source": [
    "found_brands[10000:10005]"
   ]
  },
  {
   "cell_type": "code",
   "execution_count": 662,
   "metadata": {},
   "outputs": [
    {
     "data": {
      "text/plain": [
       "389822    Sony\n",
       "389823    Sony\n",
       "390911    Sony\n",
       "390912    Sony\n",
       "390913    Sony\n",
       "dtype: object"
      ]
     },
     "execution_count": 662,
     "metadata": {},
     "output_type": "execute_result"
    }
   ],
   "source": [
    "found_brands[60000:60005]"
   ]
  },
  {
   "cell_type": "markdown",
   "metadata": {},
   "source": [
    "Fill NAs and compare:"
   ]
  },
  {
   "cell_type": "code",
   "execution_count": 666,
   "metadata": {
    "colab": {
     "base_uri": "https://localhost:8080/",
     "height": 212
    },
    "colab_type": "code",
    "id": "o9tW4dmuNwqH",
    "outputId": "17854040-2a84-4b6b-9815-c32a753daf46"
   },
   "outputs": [],
   "source": [
    "data_before = data.copy() # to compare with after filling NAs\n",
    "\n",
    "data[\"Brand Name\"] = data[\"Brand Name\"].fillna(found_brands) \n",
    "data[\"Brand Name\"] = data[\"Brand Name\"].fillna(\"Other\")"
   ]
  },
  {
   "cell_type": "markdown",
   "metadata": {},
   "source": [
    "Top brand frequencies before and after filling NAs:"
   ]
  },
  {
   "cell_type": "code",
   "execution_count": 667,
   "metadata": {
    "colab": {
     "base_uri": "https://localhost:8080/",
     "height": 461
    },
    "colab_type": "code",
    "id": "G3WPT4eEPPHc",
    "outputId": "2f323bcd-fe1f-4875-c4a0-b28e3075f8dd"
   },
   "outputs": [
    {
     "name": "stdout",
     "output_type": "stream",
     "text": [
      "Before filling NAs\n",
      "Samsung       65747\n",
      "BLU           63248\n",
      "Apple         58186\n",
      "LG            22417\n",
      "BlackBerry    16872\n",
      "Nokia         16806\n",
      "Motorola      13417\n",
      "HTC           12724\n",
      "CNPGD         12613\n",
      "OtterBox      7989 \n",
      "Name: Brand Name, dtype: int64\n",
      "\n",
      "--------------------\n",
      "\n",
      "After filling NAs\n",
      "Apple             76546\n",
      "Samsung           68799\n",
      "BLU               64229\n",
      "LG                28023\n",
      "Nokia             19037\n",
      "BlackBerry        17349\n",
      "Motorola          15482\n",
      "CNPGD             13820\n",
      "HTC               13270\n",
      "Samsung Galaxy    11448\n",
      "Name: Brand Name, dtype: int64\n"
     ]
    }
   ],
   "source": [
    "print('Before filling NAs')\n",
    "print(data_before[\"Brand Name\"].value_counts()[:10])\n",
    "print(\"\\n\" + '--'*10 + \"\\n\")\n",
    "print('After filling NAs')\n",
    "print(data[\"Brand Name\"].value_counts()[:10])"
   ]
  },
  {
   "cell_type": "markdown",
   "metadata": {},
   "source": [
    "- Apple has dethroned Samsung as most common brand; makes sense considering Apple had highest product name frequency\n",
    "- Samsung Galaxy enters top 10"
   ]
  },
  {
   "cell_type": "markdown",
   "metadata": {},
   "source": [
    "Visualizing frequencies of top 25 brands:"
   ]
  },
  {
   "cell_type": "code",
   "execution_count": 26,
   "metadata": {
    "colab": {
     "base_uri": "https://localhost:8080/",
     "height": 460
    },
    "colab_type": "code",
    "id": "kdMbzA86KTT4",
    "outputId": "f8951e25-f060-400c-8899-d3d9855212dc"
   },
   "outputs": [
    {
     "data": {
      "text/plain": [
       "<matplotlib.axes._subplots.AxesSubplot at 0x14ec7a45908>"
      ]
     },
     "execution_count": 26,
     "metadata": {},
     "output_type": "execute_result"
    },
    {
     "data": {
      "image/png": "[encoded data removed]",
      "text/plain": [
       "<matplotlib.figure.Figure at 0x14ec7a0deb8>"
      ]
     },
     "metadata": {},
     "output_type": "display_data"
    }
   ],
   "source": [
    "plt.figure(figsize=(16,6))\n",
    "data_after[\"Brand Name\"].value_counts()[:25].plot(\"bar\")"
   ]
  },
  {
   "cell_type": "markdown",
   "metadata": {},
   "source": [
    "- Apple, Samsung, and BLU take up the lions share of the market\n",
    "- Samsung is the true leader of this dataset if we add Samsung Galaxy and 'samsung' name brands to its total"
   ]
  },
  {
   "cell_type": "markdown",
   "metadata": {},
   "source": [
    "Visualing average rating for top 10 brands:"
   ]
  },
  {
   "cell_type": "code",
   "execution_count": 672,
   "metadata": {
    "colab": {
     "base_uri": "https://localhost:8080/",
     "height": 457
    },
    "colab_type": "code",
    "id": "gApMLd5BUZvd",
    "outputId": "9691dc0e-0b5f-4648-9cfd-614320932732"
   },
   "outputs": [
    {
     "data": {
      "image/png": "[encoded data removed]",
      "text/plain": [
       "<matplotlib.figure.Figure at 0x14ea5f58b70>"
      ]
     },
     "metadata": {},
     "output_type": "display_data"
    }
   ],
   "source": [
    "top10_brands_ix = data[\"Brand Name\"].value_counts()[:10].index\n",
    "top10_average_ratings = data.groupby('Brand Name')['Rating'].mean()[top10_brands_ix]\n",
    "top10_average_ratings.plot(kind='bar', figsize=(16,6))\n",
    "plt.title('Average Rating')\n",
    "plt.show()"
   ]
  },
  {
   "cell_type": "markdown",
   "metadata": {},
   "source": [
    "- All but CNPGD and HTC are averaging about a 3.8, while Samsung Galaxy leads with a 4.0 average"
   ]
  },
  {
   "cell_type": "markdown",
   "metadata": {},
   "source": [
    "Visualizing average price for 10 top brands:"
   ]
  },
  {
   "cell_type": "code",
   "execution_count": 673,
   "metadata": {
    "colab": {
     "base_uri": "https://localhost:8080/",
     "height": 457
    },
    "colab_type": "code",
    "id": "Sf6n588VVXoA",
    "outputId": "ff82ff9e-08da-416e-daae-084ac426840f"
   },
   "outputs": [
    {
     "data": {
      "image/png": "[encoded data removed]",
      "text/plain": [
       "<matplotlib.figure.Figure at 0x14eb4d71470>"
      ]
     },
     "metadata": {},
     "output_type": "display_data"
    }
   ],
   "source": [
    "top10_average_price = data.groupby('Brand Name')['Price'].mean()[top10_brands_ix]\n",
    "top10_average_price.plot(kind='bar', figsize=(16,6))\n",
    "plt.title('Average Price')\n",
    "plt.show()"
   ]
  },
  {
   "cell_type": "markdown",
   "metadata": {},
   "source": [
    "- Samsung Galaxy has highest price by decent margin; perhaps explains highest average rating due to high product quality\n",
    "- Approx. $300 seems like the pricepoint where competition between leaders Apple and Samsung is at"
   ]
  },
  {
   "cell_type": "markdown",
   "metadata": {
    "colab_type": "text",
    "id": "OBgB6k_W6LRM"
   },
   "source": [
    "## Sentiment Analysis\n",
    "\n",
    "Moving onto sentiment analysis, I attempt to build a classifer that can gauge a review's general sentiments by looking at its text."
   ]
  },
  {
   "cell_type": "markdown",
   "metadata": {},
   "source": [
    "### Set target variable (Sentiments)"
   ]
  },
  {
   "cell_type": "markdown",
   "metadata": {},
   "source": [
    "In the interest of building a more accurate classifier, I will make this task a bit easier by binning the ratings from 1-5 into negative, neutral, and positive categories. There can be a lot of nuance in someone rating a product a 2 instead of 1 for example, but both of these scores are generally negative."
   ]
  },
  {
   "cell_type": "code",
   "execution_count": 329,
   "metadata": {},
   "outputs": [],
   "source": [
    "def sentiments(rating):\n",
    "    if (rating == 5) or (rating == 4):\n",
    "        return \"Positive\"\n",
    "    elif rating == 3:\n",
    "        return \"Neutral\"\n",
    "    elif (rating == 2) or (rating == 1):\n",
    "        return \"Negative\""
   ]
  },
  {
   "cell_type": "code",
   "execution_count": 330,
   "metadata": {},
   "outputs": [],
   "source": [
    "data = df.copy()\n",
    "data['Sentiment'] = data['Rating'].apply(sentiments)"
   ]
  },
  {
   "cell_type": "code",
   "execution_count": 331,
   "metadata": {},
   "outputs": [
    {
     "data": {
      "text/plain": [
       "0     Positive\n",
       "1     Positive\n",
       "2     Positive\n",
       "3     Positive\n",
       "4     Positive\n",
       "5     Negative\n",
       "6     Negative\n",
       "7     Negative\n",
       "8     Positive\n",
       "9     Neutral \n",
       "10    Neutral \n",
       "11    Positive\n",
       "12    Positive\n",
       "13    Negative\n",
       "14    Positive\n",
       "15    Negative\n",
       "16    Positive\n",
       "17    Positive\n",
       "18    Positive\n",
       "19    Neutral \n",
       "Name: Sentiment, dtype: object"
      ]
     },
     "execution_count": 331,
     "metadata": {},
     "output_type": "execute_result"
    }
   ],
   "source": [
    "data['Sentiment'][:20]"
   ]
  },
  {
   "cell_type": "markdown",
   "metadata": {},
   "source": [
    "### Split into train/test"
   ]
  },
  {
   "cell_type": "markdown",
   "metadata": {},
   "source": [
    "First, I drop any samples with no review text and shuffle all the reviews:"
   ]
  },
  {
   "cell_type": "code",
   "execution_count": 337,
   "metadata": {},
   "outputs": [
    {
     "name": "stdout",
     "output_type": "stream",
     "text": [
      "Before 413840\n",
      "After 413778\n"
     ]
    }
   ],
   "source": [
    "print(\"Before {}\".format(len(data)))\n",
    "complete = data.dropna(subset=['Reviews']) # remove samples with no review text\n",
    "shuffled_ix = np.random.permutation(len(complete))\n",
    "complete = complete.reindex(shuffled_ix)\n",
    "print(\"After {}\".format(len(complete)))"
   ]
  },
  {
   "cell_type": "markdown",
   "metadata": {},
   "source": [
    "Now that all the samples have been randomly shuffled, I will make a training set of 90,000 samples total (uniformly distributing positive, neutral, and negative reviews) by slicing the first 30,000 samples of each sentiment. I will slice the next 1000 samples of each to form the testing set:"
   ]
  },
  {
   "cell_type": "code",
   "execution_count": 434,
   "metadata": {},
   "outputs": [],
   "source": [
    "train_positive = complete[complete['Sentiment'] == 'Positive'][:30000]\n",
    "train_neutral = complete[complete['Sentiment'] == 'Neutral'][:30000]\n",
    "train_negative = complete[complete['Sentiment'] == 'Negative'][:30000]\n",
    "\n",
    "test_positive = complete[complete['Sentiment'] == 'Positive'][30000:31000]\n",
    "test_neutral = complete[complete['Sentiment'] == 'Neutral'][30000:31000]\n",
    "test_negative = complete[complete['Sentiment'] == 'Negative'][30000:31000]\n",
    "\n",
    "train = pd.concat([train_positive, train_neutral, train_negative])\n",
    "test = pd.concat([test_positive, test_neutral, test_negative])"
   ]
  },
  {
   "cell_type": "code",
   "execution_count": 435,
   "metadata": {},
   "outputs": [],
   "source": [
    "X_train = train['Reviews']\n",
    "Y_train = train['Sentiment']\n",
    "\n",
    "\n",
    "X_test = test['Reviews']\n",
    "Y_test = test['Sentiment']"
   ]
  },
  {
   "cell_type": "code",
   "execution_count": 436,
   "metadata": {},
   "outputs": [
    {
     "name": "stdout",
     "output_type": "stream",
     "text": [
      "90000 3000\n"
     ]
    }
   ],
   "source": [
    "print(len(X_train), len(X_test))"
   ]
  },
  {
   "cell_type": "markdown",
   "metadata": {},
   "source": [
    "90,000 training samples and 1000 testing samples"
   ]
  },
  {
   "cell_type": "markdown",
   "metadata": {},
   "source": [
    "### Extract Features"
   ]
  },
  {
   "cell_type": "markdown",
   "metadata": {},
   "source": [
    "I will use the 'Bag of Words' approach to building my model. This approach seeks to associate the appearance of certain words in reviews with the target sentiments. To do this, I need to first find the frequency of each word in the entirety of the training data and assign it to a column of a $MxN$ vector matrix where:\n",
    "\n",
    "- $M$ is the number of samples in either the training or test set\n",
    "- $N$ is a word that was found in the training set\n",
    "- $J$ is a word's frequency expressed as a percentage\n",
    "- $M,N[J]$ is the frequency $J$ of the $N$th word in the $M$th sample"
   ]
  },
  {
   "cell_type": "markdown",
   "metadata": {},
   "source": [
    "This matrix can be formed using Scikit-Learn's **CountVectorizer** transformer:"
   ]
  },
  {
   "cell_type": "code",
   "execution_count": 437,
   "metadata": {},
   "outputs": [],
   "source": [
    "from sklearn.feature_extraction.text import CountVectorizer"
   ]
  },
  {
   "cell_type": "code",
   "execution_count": 439,
   "metadata": {},
   "outputs": [
    {
     "data": {
      "text/plain": [
       "(90000, 37669)"
      ]
     },
     "execution_count": 439,
     "metadata": {},
     "output_type": "execute_result"
    }
   ],
   "source": [
    "count_vect = CountVectorizer()\n",
    "X_train_counts = count_vect.fit_transform(X_train)\n",
    "X_train_counts.shape"
   ]
  },
  {
   "cell_type": "markdown",
   "metadata": {},
   "source": [
    "90,000 sample rows, 37,669 word columns"
   ]
  },
  {
   "cell_type": "markdown",
   "metadata": {},
   "source": [
    "**CountVectorizer** gives us the count of each $N$ word in every $M$ sample. It creates a sparse matrix (i.e. a vector matrix where most elements are 0 and memory isn't used representing them) since only a relatively small subset of unique words found across the entirety of the training data will be in a single review. However, using words' counts as features is flawed as some longer reviews might have higher absolute word counts but may not be expressing necessarily stronger sentiments.\n",
    "\n",
    "A more nuanced approach is to turn individual word counts into frequency percentages ($J$) using Scikit-Learn's **TfidfTransformer**. It does this by dividing the occurrences of each word by the number of total words in the review (**Tf** = 'term frequency'). A further refinement in addition to this is weighing common words across many reviews less; this will help the model assign less value to unimportant stopwords like 'the', 'if', 'a', 'that', etc. This technique is known as using the 'inverse document frequency' (**idf**)."
   ]
  },
  {
   "cell_type": "code",
   "execution_count": 440,
   "metadata": {},
   "outputs": [],
   "source": [
    "from sklearn.feature_extraction.text import TfidfTransformer"
   ]
  },
  {
   "cell_type": "code",
   "execution_count": 441,
   "metadata": {},
   "outputs": [],
   "source": [
    "tf_transformer = TfidfTransformer(use_idf=False).fit(X_train_counts)\n",
    "X_train_tf = tf_transformer.transform(X_train_counts)"
   ]
  },
  {
   "cell_type": "code",
   "execution_count": 442,
   "metadata": {},
   "outputs": [
    {
     "data": {
      "text/plain": [
       "(90000, 37669)"
      ]
     },
     "execution_count": 442,
     "metadata": {},
     "output_type": "execute_result"
    }
   ],
   "source": [
    "tfidf_transformer = TfidfTransformer()\n",
    "X_train_tfidf = tfidf_transformer.fit_transform(X_train_counts)\n",
    "X_train_tfidf.shape"
   ]
  },
  {
   "cell_type": "markdown",
   "metadata": {},
   "source": [
    "Merging these two transformations into a single pipeline:"
   ]
  },
  {
   "cell_type": "code",
   "execution_count": 497,
   "metadata": {},
   "outputs": [],
   "source": [
    "from sklearn.pipeline import Pipeline"
   ]
  },
  {
   "cell_type": "code",
   "execution_count": 498,
   "metadata": {},
   "outputs": [],
   "source": [
    "feat_pipe = Pipeline([('count_vect', CountVectorizer()),\n",
    "                      ('tfidf', TfidfTransformer())])"
   ]
  },
  {
   "cell_type": "markdown",
   "metadata": {},
   "source": [
    "This pipeline can be fit to the training set and then transform other samples into a $MxN$ frequency matrix using the $N$ words found in the training set.\n",
    "\n",
    "Let's use it to create our tfidf transformed training and testing sets:"
   ]
  },
  {
   "cell_type": "code",
   "execution_count": 499,
   "metadata": {},
   "outputs": [],
   "source": [
    "X_train_tfidf = feat_pipe.fit_transform(X_train)\n",
    "X_test_tfidf = feat_pipe.transform(X_test)"
   ]
  },
  {
   "cell_type": "markdown",
   "metadata": {},
   "source": [
    "### Test Models"
   ]
  },
  {
   "cell_type": "markdown",
   "metadata": {},
   "source": [
    "Quickly test a number of different classification models to see how well they fit the training data:"
   ]
  },
  {
   "cell_type": "markdown",
   "metadata": {},
   "source": [
    "#### Logistic Regression"
   ]
  },
  {
   "cell_type": "code",
   "execution_count": 465,
   "metadata": {},
   "outputs": [],
   "source": [
    "from sklearn.linear_model import LogisticRegression"
   ]
  },
  {
   "cell_type": "code",
   "execution_count": 466,
   "metadata": {},
   "outputs": [],
   "source": [
    "log_clf = LogisticRegression().fit(X_train_tfidf, Y_train)"
   ]
  },
  {
   "cell_type": "code",
   "execution_count": 484,
   "metadata": {},
   "outputs": [],
   "source": [
    "predicted = log_clf.predict(X_train_tfidf)"
   ]
  },
  {
   "cell_type": "code",
   "execution_count": 485,
   "metadata": {},
   "outputs": [
    {
     "data": {
      "text/plain": [
       "0.8061666666666667"
      ]
     },
     "execution_count": 485,
     "metadata": {},
     "output_type": "execute_result"
    }
   ],
   "source": [
    "np.mean(predicted == Y_train)"
   ]
  },
  {
   "cell_type": "markdown",
   "metadata": {},
   "source": [
    "#### SVM"
   ]
  },
  {
   "cell_type": "code",
   "execution_count": 453,
   "metadata": {},
   "outputs": [],
   "source": [
    "from sklearn.svm import LinearSVC\n",
    "svm_clf = LinearSVC().fit(X_train_tfidf, Y_train)"
   ]
  },
  {
   "cell_type": "code",
   "execution_count": 486,
   "metadata": {},
   "outputs": [],
   "source": [
    "predicted = svm_clf.predict(X_train_tfidf)"
   ]
  },
  {
   "cell_type": "code",
   "execution_count": 488,
   "metadata": {},
   "outputs": [
    {
     "data": {
      "text/plain": [
       "0.8612222222222222"
      ]
     },
     "execution_count": 488,
     "metadata": {},
     "output_type": "execute_result"
    }
   ],
   "source": [
    "np.mean(predicted == Y_train)"
   ]
  },
  {
   "cell_type": "markdown",
   "metadata": {},
   "source": [
    "#### Decision Tree"
   ]
  },
  {
   "cell_type": "code",
   "execution_count": 458,
   "metadata": {},
   "outputs": [],
   "source": [
    "from sklearn.tree import DecisionTreeClassifier"
   ]
  },
  {
   "cell_type": "code",
   "execution_count": 459,
   "metadata": {},
   "outputs": [],
   "source": [
    "tree_clf = DecisionTreeClassifier().fit(X_train_tfidf, Y_train)"
   ]
  },
  {
   "cell_type": "code",
   "execution_count": 489,
   "metadata": {},
   "outputs": [],
   "source": [
    "predicted = tree_clf.predict(X_train_tfidf)"
   ]
  },
  {
   "cell_type": "code",
   "execution_count": 490,
   "metadata": {
    "scrolled": true
   },
   "outputs": [
    {
     "data": {
      "text/plain": [
       "0.9849111111111111"
      ]
     },
     "execution_count": 490,
     "metadata": {},
     "output_type": "execute_result"
    }
   ],
   "source": [
    "np.mean(predicted == Y_train)"
   ]
  },
  {
   "cell_type": "markdown",
   "metadata": {},
   "source": [
    "- This is very strong; likely overfitting the training set"
   ]
  },
  {
   "cell_type": "markdown",
   "metadata": {},
   "source": [
    "#### Random Forest"
   ]
  },
  {
   "cell_type": "code",
   "execution_count": 470,
   "metadata": {},
   "outputs": [],
   "source": [
    "from sklearn.ensemble import RandomForestClassifier"
   ]
  },
  {
   "cell_type": "code",
   "execution_count": 471,
   "metadata": {},
   "outputs": [],
   "source": [
    "forest_clf = RandomForestClassifier().fit(X_train_tfidf, Y_train)"
   ]
  },
  {
   "cell_type": "code",
   "execution_count": 491,
   "metadata": {},
   "outputs": [],
   "source": [
    "predicted = forest_clf.predict(X_train_tfidf)"
   ]
  },
  {
   "cell_type": "code",
   "execution_count": 483,
   "metadata": {},
   "outputs": [
    {
     "data": {
      "text/plain": [
       "0.9807777777777777"
      ]
     },
     "execution_count": 483,
     "metadata": {},
     "output_type": "execute_result"
    }
   ],
   "source": [
    "np.mean(predictions == Y_train)"
   ]
  },
  {
   "cell_type": "markdown",
   "metadata": {},
   "source": [
    "- Overfitting again"
   ]
  },
  {
   "cell_type": "markdown",
   "metadata": {},
   "source": [
    "#### Multinomial Naive Bayes"
   ]
  },
  {
   "cell_type": "code",
   "execution_count": 452,
   "metadata": {},
   "outputs": [],
   "source": [
    "from sklearn.naive_bayes import MultinomialNB"
   ]
  },
  {
   "cell_type": "code",
   "execution_count": 462,
   "metadata": {},
   "outputs": [],
   "source": [
    "naive_clf = MultinomialNB().fit(X_train_tfidf, Y_train)"
   ]
  },
  {
   "cell_type": "code",
   "execution_count": 493,
   "metadata": {},
   "outputs": [],
   "source": [
    "predicted = naive_clf.predict(X_train_tfidf)"
   ]
  },
  {
   "cell_type": "code",
   "execution_count": 494,
   "metadata": {},
   "outputs": [
    {
     "data": {
      "text/plain": [
       "0.7587666666666667"
      ]
     },
     "execution_count": 494,
     "metadata": {},
     "output_type": "execute_result"
    }
   ],
   "source": [
    "np.mean(predicted == Y_train)"
   ]
  },
  {
   "cell_type": "markdown",
   "metadata": {},
   "source": [
    "Tree-based classifiers were the most accurate, but its highly likely that they both were overfitting the training set. I'll still use the random forest as the chosen classifier for my model though, as its generalized accuracy will likely still be higher than the other classifiers."
   ]
  },
  {
   "cell_type": "markdown",
   "metadata": {},
   "source": [
    "### Fine tuning the Random Forest classifier"
   ]
  },
  {
   "cell_type": "markdown",
   "metadata": {},
   "source": [
    "I will tune the Random Forest classifier using Scikit-Learn's **GridSearchCV** function. It takes all available combinations of hyperparameter values and performs K-fold cross-validation for each one. K-fold cross-validation essentially splits the training data into $K$ chunks and trains $K$ different classifiers using $K-1$ different chunk combinations, testing each one on the single chunk left out. These testing results are then averaged to produce a generalized score for the fitness of that given model and its hyperparameters.\n",
    "\n",
    "This entire process can be very slow, because you're training and testing the model $K$ times multiplied by the product of all the different hyperparameter combinations. It's made even slower in this case because each Random Forest classifier works by training $N$ number of trees on its own different data chunks to create its own generalized score."
   ]
  },
  {
   "cell_type": "code",
   "execution_count": 528,
   "metadata": {},
   "outputs": [],
   "source": [
    "from sklearn.model_selection import GridSearchCV"
   ]
  },
  {
   "cell_type": "code",
   "execution_count": 541,
   "metadata": {},
   "outputs": [],
   "source": [
    "param_grid = [\n",
    "    {'n_estimators': [3,10,30], 'max_features': [5000, 15000, 'log2','auto'], 'bootstrap': [False]}\n",
    "]"
   ]
  },
  {
   "cell_type": "code",
   "execution_count": 542,
   "metadata": {},
   "outputs": [],
   "source": [
    "grid_search = GridSearchCV(forest_clf, param_grid, cv=5, verbose=2)"
   ]
  },
  {
   "cell_type": "markdown",
   "metadata": {},
   "source": [
    "3 **n_estimators** x 4 **max_features** x 1 **bootstrap** x 5 K-Folds for each cross validation = 60 trained random forests\n",
    "\n",
    "Each **n_estimator** hyperparameter value represents the number of trees trained in the Random Forest, so:\n",
    "\n",
    "(3 trees x 4 **max_features** x 5 K-folds) + (10 trees x 4 **max_features** x 5 K-folds) + (30 trees x 4 **max_features** x 5 K-folds) = 860 individual trees trained\n",
    "\n",
    "This will take a long time!"
   ]
  },
  {
   "cell_type": "code",
   "execution_count": 543,
   "metadata": {},
   "outputs": [
    {
     "name": "stdout",
     "output_type": "stream",
     "text": [
      "Fitting 5 folds for each of 12 candidates, totalling 60 fits\n",
      "[CV] bootstrap=False, max_features=5000, n_estimators=3 ..............\n",
      "[CV]  bootstrap=False, max_features=5000, n_estimators=3, total= 1.9min\n",
      "[CV] bootstrap=False, max_features=5000, n_estimators=3 ..............\n"
     ]
    },
    {
     "name": "stderr",
     "output_type": "stream",
     "text": [
      "[Parallel(n_jobs=1)]: Done   1 out of   1 | elapsed:  2.0min remaining:    0.0s\n"
     ]
    },
    {
     "name": "stdout",
     "output_type": "stream",
     "text": [
      "[CV]  bootstrap=False, max_features=5000, n_estimators=3, total= 2.0min\n",
      "[CV] bootstrap=False, max_features=5000, n_estimators=3 ..............\n",
      "[CV]  bootstrap=False, max_features=5000, n_estimators=3, total= 2.0min\n",
      "[CV] bootstrap=False, max_features=5000, n_estimators=3 ..............\n",
      "[CV]  bootstrap=False, max_features=5000, n_estimators=3, total= 2.0min\n",
      "[CV] bootstrap=False, max_features=5000, n_estimators=3 ..............\n",
      "[CV]  bootstrap=False, max_features=5000, n_estimators=3, total= 2.0min\n",
      "[CV] bootstrap=False, max_features=5000, n_estimators=10 .............\n",
      "[CV]  bootstrap=False, max_features=5000, n_estimators=10, total= 6.6min\n",
      "[CV] bootstrap=False, max_features=5000, n_estimators=10 .............\n",
      "[CV]  bootstrap=False, max_features=5000, n_estimators=10, total= 6.7min\n",
      "[CV] bootstrap=False, max_features=5000, n_estimators=10 .............\n",
      "[CV]  bootstrap=False, max_features=5000, n_estimators=10, total= 6.5min\n",
      "[CV] bootstrap=False, max_features=5000, n_estimators=10 .............\n",
      "[CV]  bootstrap=False, max_features=5000, n_estimators=10, total= 6.6min\n",
      "[CV] bootstrap=False, max_features=5000, n_estimators=10 .............\n",
      "[CV]  bootstrap=False, max_features=5000, n_estimators=10, total= 6.8min\n",
      "[CV] bootstrap=False, max_features=5000, n_estimators=30 .............\n",
      "[CV]  bootstrap=False, max_features=5000, n_estimators=30, total=19.3min\n",
      "[CV] bootstrap=False, max_features=5000, n_estimators=30 .............\n",
      "[CV]  bootstrap=False, max_features=5000, n_estimators=30, total=19.6min\n",
      "[CV] bootstrap=False, max_features=5000, n_estimators=30 .............\n",
      "[CV]  bootstrap=False, max_features=5000, n_estimators=30, total=19.8min\n",
      "[CV] bootstrap=False, max_features=5000, n_estimators=30 .............\n",
      "[CV]  bootstrap=False, max_features=5000, n_estimators=30, total=20.1min\n",
      "[CV] bootstrap=False, max_features=5000, n_estimators=30 .............\n",
      "[CV]  bootstrap=False, max_features=5000, n_estimators=30, total=18.1min\n",
      "[CV] bootstrap=False, max_features=15000, n_estimators=3 .............\n",
      "[CV]  bootstrap=False, max_features=15000, n_estimators=3, total= 3.2min\n",
      "[CV] bootstrap=False, max_features=15000, n_estimators=3 .............\n",
      "[CV]  bootstrap=False, max_features=15000, n_estimators=3, total= 2.2min\n",
      "[CV] bootstrap=False, max_features=15000, n_estimators=3 .............\n",
      "[CV]  bootstrap=False, max_features=15000, n_estimators=3, total= 4.1min\n",
      "[CV] bootstrap=False, max_features=15000, n_estimators=3 .............\n",
      "[CV]  bootstrap=False, max_features=15000, n_estimators=3, total= 3.8min\n",
      "[CV] bootstrap=False, max_features=15000, n_estimators=3 .............\n",
      "[CV]  bootstrap=False, max_features=15000, n_estimators=3, total= 1.8min\n",
      "[CV] bootstrap=False, max_features=15000, n_estimators=10 ............\n",
      "[CV]  bootstrap=False, max_features=15000, n_estimators=10, total=12.9min\n",
      "[CV] bootstrap=False, max_features=15000, n_estimators=10 ............\n",
      "[CV]  bootstrap=False, max_features=15000, n_estimators=10, total=13.3min\n",
      "[CV] bootstrap=False, max_features=15000, n_estimators=10 ............\n",
      "[CV]  bootstrap=False, max_features=15000, n_estimators=10, total=13.3min\n",
      "[CV] bootstrap=False, max_features=15000, n_estimators=10 ............\n",
      "[CV]  bootstrap=False, max_features=15000, n_estimators=10, total=13.2min\n",
      "[CV] bootstrap=False, max_features=15000, n_estimators=10 ............\n",
      "[CV]  bootstrap=False, max_features=15000, n_estimators=10, total=13.3min\n",
      "[CV] bootstrap=False, max_features=15000, n_estimators=30 ............\n",
      "[CV]  bootstrap=False, max_features=15000, n_estimators=30, total=39.6min\n",
      "[CV] bootstrap=False, max_features=15000, n_estimators=30 ............\n",
      "[CV]  bootstrap=False, max_features=15000, n_estimators=30, total=39.8min\n",
      "[CV] bootstrap=False, max_features=15000, n_estimators=30 ............\n",
      "[CV]  bootstrap=False, max_features=15000, n_estimators=30, total=39.7min\n",
      "[CV] bootstrap=False, max_features=15000, n_estimators=30 ............\n",
      "[CV]  bootstrap=False, max_features=15000, n_estimators=30, total=39.7min\n",
      "[CV] bootstrap=False, max_features=15000, n_estimators=30 ............\n",
      "[CV]  bootstrap=False, max_features=15000, n_estimators=30, total=39.5min\n",
      "[CV] bootstrap=False, max_features=log2, n_estimators=3 ..............\n",
      "[CV]  bootstrap=False, max_features=log2, n_estimators=3, total= 1.2min\n",
      "[CV] bootstrap=False, max_features=log2, n_estimators=3 ..............\n",
      "[CV]  bootstrap=False, max_features=log2, n_estimators=3, total= 1.2min\n",
      "[CV] bootstrap=False, max_features=log2, n_estimators=3 ..............\n",
      "[CV]  bootstrap=False, max_features=log2, n_estimators=3, total= 1.2min\n",
      "[CV] bootstrap=False, max_features=log2, n_estimators=3 ..............\n",
      "[CV]  bootstrap=False, max_features=log2, n_estimators=3, total= 1.2min\n",
      "[CV] bootstrap=False, max_features=log2, n_estimators=3 ..............\n",
      "[CV]  bootstrap=False, max_features=log2, n_estimators=3, total= 1.2min\n",
      "[CV] bootstrap=False, max_features=log2, n_estimators=10 .............\n",
      "[CV]  bootstrap=False, max_features=log2, n_estimators=10, total= 3.9min\n",
      "[CV] bootstrap=False, max_features=log2, n_estimators=10 .............\n",
      "[CV]  bootstrap=False, max_features=log2, n_estimators=10, total= 3.9min\n",
      "[CV] bootstrap=False, max_features=log2, n_estimators=10 .............\n",
      "[CV]  bootstrap=False, max_features=log2, n_estimators=10, total= 4.0min\n",
      "[CV] bootstrap=False, max_features=log2, n_estimators=10 .............\n",
      "[CV]  bootstrap=False, max_features=log2, n_estimators=10, total= 4.0min\n",
      "[CV] bootstrap=False, max_features=log2, n_estimators=10 .............\n",
      "[CV]  bootstrap=False, max_features=log2, n_estimators=10, total= 3.9min\n",
      "[CV] bootstrap=False, max_features=log2, n_estimators=30 .............\n",
      "[CV]  bootstrap=False, max_features=log2, n_estimators=30, total=11.7min\n",
      "[CV] bootstrap=False, max_features=log2, n_estimators=30 .............\n",
      "[CV]  bootstrap=False, max_features=log2, n_estimators=30, total=11.6min\n",
      "[CV] bootstrap=False, max_features=log2, n_estimators=30 .............\n",
      "[CV]  bootstrap=False, max_features=log2, n_estimators=30, total=11.7min\n",
      "[CV] bootstrap=False, max_features=log2, n_estimators=30 .............\n",
      "[CV]  bootstrap=False, max_features=log2, n_estimators=30, total=11.8min\n",
      "[CV] bootstrap=False, max_features=log2, n_estimators=30 .............\n",
      "[CV]  bootstrap=False, max_features=log2, n_estimators=30, total=11.8min\n",
      "[CV] bootstrap=False, max_features=auto, n_estimators=3 ..............\n",
      "[CV]  bootstrap=False, max_features=auto, n_estimators=3, total=  58.2s\n",
      "[CV] bootstrap=False, max_features=auto, n_estimators=3 ..............\n",
      "[CV]  bootstrap=False, max_features=auto, n_estimators=3, total=  59.0s\n",
      "[CV] bootstrap=False, max_features=auto, n_estimators=3 ..............\n",
      "[CV]  bootstrap=False, max_features=auto, n_estimators=3, total=  59.4s\n",
      "[CV] bootstrap=False, max_features=auto, n_estimators=3 ..............\n",
      "[CV]  bootstrap=False, max_features=auto, n_estimators=3, total=  57.8s\n",
      "[CV] bootstrap=False, max_features=auto, n_estimators=3 ..............\n",
      "[CV]  bootstrap=False, max_features=auto, n_estimators=3, total=  58.2s\n",
      "[CV] bootstrap=False, max_features=auto, n_estimators=10 .............\n",
      "[CV]  bootstrap=False, max_features=auto, n_estimators=10, total= 3.3min\n",
      "[CV] bootstrap=False, max_features=auto, n_estimators=10 .............\n",
      "[CV]  bootstrap=False, max_features=auto, n_estimators=10, total= 3.2min\n",
      "[CV] bootstrap=False, max_features=auto, n_estimators=10 .............\n",
      "[CV]  bootstrap=False, max_features=auto, n_estimators=10, total= 3.2min\n",
      "[CV] bootstrap=False, max_features=auto, n_estimators=10 .............\n",
      "[CV]  bootstrap=False, max_features=auto, n_estimators=10, total= 3.2min\n",
      "[CV] bootstrap=False, max_features=auto, n_estimators=10 .............\n",
      "[CV]  bootstrap=False, max_features=auto, n_estimators=10, total= 3.3min\n",
      "[CV] bootstrap=False, max_features=auto, n_estimators=30 .............\n",
      "[CV]  bootstrap=False, max_features=auto, n_estimators=30, total= 9.8min\n",
      "[CV] bootstrap=False, max_features=auto, n_estimators=30 .............\n",
      "[CV]  bootstrap=False, max_features=auto, n_estimators=30, total= 9.7min\n",
      "[CV] bootstrap=False, max_features=auto, n_estimators=30 .............\n",
      "[CV]  bootstrap=False, max_features=auto, n_estimators=30, total= 9.8min\n",
      "[CV] bootstrap=False, max_features=auto, n_estimators=30 .............\n"
     ]
    },
    {
     "name": "stdout",
     "output_type": "stream",
     "text": [
      "[CV]  bootstrap=False, max_features=auto, n_estimators=30, total= 9.7min\n",
      "[CV] bootstrap=False, max_features=auto, n_estimators=30 .............\n",
      "[CV]  bootstrap=False, max_features=auto, n_estimators=30, total= 9.8min\n"
     ]
    },
    {
     "name": "stderr",
     "output_type": "stream",
     "text": [
      "[Parallel(n_jobs=1)]: Done  60 out of  60 | elapsed: 576.7min finished\n"
     ]
    },
    {
     "data": {
      "text/plain": [
       "GridSearchCV(cv=5, error_score='raise',\n",
       "       estimator=RandomForestClassifier(bootstrap=True, class_weight=None, criterion='gini',\n",
       "            max_depth=None, max_features='auto', max_leaf_nodes=None,\n",
       "            min_impurity_decrease=0.0, min_impurity_split=None,\n",
       "            min_samples_leaf=1, min_samples_split=2,\n",
       "            min_weight_fraction_leaf=0.0, n_estimators=10, n_jobs=1,\n",
       "            oob_score=False, random_state=None, verbose=0,\n",
       "            warm_start=False),\n",
       "       fit_params=None, iid=True, n_jobs=1,\n",
       "       param_grid=[{'n_estimators': [3, 10, 30], 'max_features': [5000, 15000, 'log2', 'auto'], 'bootstrap': [False]}],\n",
       "       pre_dispatch='2*n_jobs', refit=True, return_train_score='warn',\n",
       "       scoring=None, verbose=2)"
      ]
     },
     "execution_count": 543,
     "metadata": {},
     "output_type": "execute_result"
    }
   ],
   "source": [
    "grid_search.fit(X_train_tfidf, Y_train)"
   ]
  },
  {
   "cell_type": "markdown",
   "metadata": {},
   "source": [
    "After almost 10 hours, the search is complete.\n",
    "\n",
    "Let's first assign the best estimator to a variable and see its hyperparamter combo:"
   ]
  },
  {
   "cell_type": "code",
   "execution_count": 682,
   "metadata": {},
   "outputs": [
    {
     "data": {
      "text/plain": [
       "{'bootstrap': False, 'max_features': 'auto', 'n_estimators': 30}"
      ]
     },
     "execution_count": 682,
     "metadata": {},
     "output_type": "execute_result"
    }
   ],
   "source": [
    "final_model = grid_search.best_estimator_\n",
    "grid_search.best_params_"
   ]
  },
  {
   "cell_type": "markdown",
   "metadata": {},
   "source": [
    "More tree estimators seemed to help. Now let's the score this model achieved:"
   ]
  },
  {
   "cell_type": "code",
   "execution_count": 683,
   "metadata": {},
   "outputs": [
    {
     "data": {
      "text/plain": [
       "0.8367444444444444"
      ]
     },
     "execution_count": 683,
     "metadata": {},
     "output_type": "execute_result"
    }
   ],
   "source": [
    "grid_search.best_score_"
   ]
  },
  {
   "cell_type": "markdown",
   "metadata": {},
   "source": [
    "Much less than the 98% fit to the entire training set. Cross-validation gives a much better idea of how well the Random Forest generalizes to new samples.\n",
    "\n",
    "Since the grid search took so long, I'm going to write the final model to my hard drive using Python's pickle module so I don't lose it:"
   ]
  },
  {
   "cell_type": "code",
   "execution_count": 674,
   "metadata": {},
   "outputs": [],
   "source": [
    "import os\n",
    "import pickle"
   ]
  },
  {
   "cell_type": "code",
   "execution_count": 680,
   "metadata": {},
   "outputs": [],
   "source": [
    "path = os.path.join(os.getcwd(), 'final_model.p')\n",
    "pickle.dump(final_model, open(path, 'wb'))"
   ]
  },
  {
   "cell_type": "markdown",
   "metadata": {},
   "source": [
    "## Final Model"
   ]
  },
  {
   "cell_type": "markdown",
   "metadata": {},
   "source": [
    "All that's left to do is see how the final model performs on the test set:"
   ]
  },
  {
   "cell_type": "code",
   "execution_count": 684,
   "metadata": {},
   "outputs": [],
   "source": [
    "from sklearn.metrics import classification_report\n",
    "from sklearn.metrics import accuracy_score"
   ]
  },
  {
   "cell_type": "code",
   "execution_count": 685,
   "metadata": {},
   "outputs": [],
   "source": [
    "predictions = final_model.predict(X_test_tfidf)"
   ]
  },
  {
   "cell_type": "markdown",
   "metadata": {},
   "source": [
    "To evaluate the model we'll look at the **precision**, **recall**, and **f1-score** for each target label as well as averages and the **accuracy** for the entire set.\n",
    "\n",
    "- **precision** is the percentage of true positive predictions over all positive predictions, giving an idea of the model's ability to correctly classify only relevant instances\n",
    "\n",
    "- **recall** is the percentage of true positives over all the positives in the dataset, giving an idea of how well the model can identify correct instances\n",
    "\n",
    "- **f1-score** is the harmonized mean of precision and recall; it is higher when both of precision and recall are high and punishes extreme discrepancies between them\n",
    "\n",
    "- **accuracy** is simply the percentage of correct predictions in the entire testing set"
   ]
  },
  {
   "cell_type": "code",
   "execution_count": 686,
   "metadata": {
    "scrolled": true
   },
   "outputs": [
    {
     "name": "stdout",
     "output_type": "stream",
     "text": [
      "             precision    recall  f1-score   support\n",
      "\n",
      "   Negative       0.81      0.92      0.86      1000\n",
      "    Neutral       0.89      0.79      0.84      1000\n",
      "   Positive       0.87      0.85      0.86      1000\n",
      "\n",
      "avg / total       0.86      0.85      0.85      3000\n",
      "\n",
      "Accuracy: 0.855\n"
     ]
    }
   ],
   "source": [
    "print(classification_report(Y_test, predictions))\n",
    "print('Accuracy: {}'. format(accuracy_score(Y_test, predictions)))"
   ]
  },
  {
   "cell_type": "markdown",
   "metadata": {},
   "source": [
    "- The model performs well across all three categories with an average f1-score and overall accuracy of 0.85\n",
    "- Positive sentiments are closely balanced between precision and recall, but the difference is a bit more pronounced for Negative and Neutral labels\n",
    "- With a higher recall for Negative labels it seems that the model was able to create strong word associations that captured most negative expressions. It makes sense to me that precision might be lower here since negative words could be paired with words to flip their meanings around (e.g. 'not broken').\n",
    "- Neutral's scores are very interesting because it should be the more difficult label to predict; it is less extreme and obvious than Positive or Negative sentiments. Low recall is to be expected considering how it could be easy to see enough positive or negative words in a review to predict it into that respective category. The high precision here shows that the model was more likely to predict positive or negative, but predicted neutral in only the most clear-cut cases.\n",
    "\n",
    "Overall the model performed admirably with the simplified task of predicting the reviews' sentiments as opposed to their actual ratings. The scores for the model could likely be pushed into +90% ranges if Neutral sentiments were ignored, as the differences between only Positive and Negative sentiments are easier to discern.\n",
    "\n",
    "Now let's see the model in action with some new reviews:"
   ]
  },
  {
   "cell_type": "code",
   "execution_count": 622,
   "metadata": {},
   "outputs": [],
   "source": [
    "docs_new = ['The phone seemed cheap, I threw it down the stairs and the screen got scratched.', # negative\n",
    "            'My new favorite phone - it works very well. My baby is quite happy chewing on it.', # positive\n",
    "            'The phone is simply ok for the price. Not perfect but it gets the job done.'] # neutral|"
   ]
  },
  {
   "cell_type": "code",
   "execution_count": 623,
   "metadata": {},
   "outputs": [
    {
     "data": {
      "text/plain": [
       "array(['Negative', 'Positive', 'Neutral'], dtype=object)"
      ]
     },
     "execution_count": 623,
     "metadata": {},
     "output_type": "execute_result"
    }
   ],
   "source": [
    "docs_prepared = feat_pipe.transform(docs_new)\n",
    "forest_clf.predict(docs_prepared)"
   ]
  }
 ],
 "metadata": {
  "colab": {
   "collapsed_sections": [],
   "name": "Amazon Unlocked Phone Analysis.ipynb",
   "provenance": [],
   "toc_visible": true,
   "version": "0.3.2"
  },
  "kernelspec": {
   "display_name": "Python 3",
   "language": "python",
   "name": "python3"
  },
  "language_info": {
   "codemirror_mode": {
    "name": "ipython",
    "version": 3
   },
   "file_extension": ".py",
   "mimetype": "text/x-python",
   "name": "python",
   "nbconvert_exporter": "python",
   "pygments_lexer": "ipython3",
   "version": "3.6.4"
  }
 },
 "nbformat": 4,
 "nbformat_minor": 1
}
