{
 "cells": [
  {
   "cell_type": "markdown",
   "metadata": {},
   "source": [
    "# Toronto Death Registry Statistics\n",
    "\n",
    "This dataset includes information relating to the registration of deaths documented by Registry Services staff located in four of the civic centres (Scarborough, North York, Toronto and Etobicoke). Registration of death data is entered into the Registry Services Tracking System (RSTS), from which aggregate statistical information is generated to create the dataset. The dataset resides in an Oracle database in the City's environment.\n",
    "\n",
    "The dataset is created in support of the Vital Statistics Act, which is a Provincial legislation. The dataset also supports the City's operational requirements and business functions.\n",
    "\n",
    "TIME_PERIOD: Month and Year the death registered\n",
    "\n",
    "CIVIC_CENTRE: Civic centre code. ET-Etobicoke SC-Scarborough NY-North York TO-Toronto\n",
    "\n",
    "PLACE_OF_DEATH: Toronto or Outside City Limits\n",
    "\n",
    "DEATH_LICENSES: Number of deaths registered in the month\n",
    "\n",
    "**I'm working through this dataset to practice my basic data manipulation skills with pandas and python. I'll attempt to answer some basic questions that have come to my mind with some descriptive statistics. I'll then try to apply some machine learning models out of the box on the dataset and see if this is a problem that could be conceivably solved by refined models in the future.**\n",
    "\n",
    "**Questions: Which year had the most deaths? Which CIVIC_AREA area has the most deaths (sorted by place)? Do most deaths occur outside of city limits or in Toronto? Which month is the most deadly?**"
   ]
  },
  {
   "cell_type": "markdown",
   "metadata": {},
   "source": [
    "## 1. Imports"
   ]
  },
  {
   "cell_type": "code",
   "execution_count": 1,
   "metadata": {
    "collapsed": false
   },
   "outputs": [],
   "source": [
    "import pandas as pd\n",
    "import numpy as np\n",
    "import matplotlib.pyplot as plt\n",
    "import seaborn as sns\n",
    "%matplotlib inline"
   ]
  },
  {
   "cell_type": "markdown",
   "metadata": {},
   "source": [
    "## 2. Restructure the Data"
   ]
  },
  {
   "cell_type": "code",
   "execution_count": 2,
   "metadata": {
    "collapsed": false
   },
   "outputs": [
    {
     "data": {
      "text/html": [
       "<div>\n",
       "<table border=\"1\" class=\"dataframe\">\n",
       "  <thead>\n",
       "    <tr style=\"text-align: right;\">\n",
       "      <th></th>\n",
       "      <th>TIME_PERIOD</th>\n",
       "      <th>CIVIC_CENTRE</th>\n",
       "      <th>PLACE_OF_DEATH</th>\n",
       "      <th>DEATH_LICENSES</th>\n",
       "    </tr>\n",
       "  </thead>\n",
       "  <tbody>\n",
       "    <tr>\n",
       "      <th>0</th>\n",
       "      <td>2011-01</td>\n",
       "      <td>ET</td>\n",
       "      <td>Outside City Limits</td>\n",
       "      <td>69</td>\n",
       "    </tr>\n",
       "    <tr>\n",
       "      <th>1</th>\n",
       "      <td>2011-01</td>\n",
       "      <td>ET</td>\n",
       "      <td>Toronto</td>\n",
       "      <td>341</td>\n",
       "    </tr>\n",
       "    <tr>\n",
       "      <th>2</th>\n",
       "      <td>2011-01</td>\n",
       "      <td>NY</td>\n",
       "      <td>Outside City Limits</td>\n",
       "      <td>141</td>\n",
       "    </tr>\n",
       "    <tr>\n",
       "      <th>3</th>\n",
       "      <td>2011-01</td>\n",
       "      <td>NY</td>\n",
       "      <td>Toronto</td>\n",
       "      <td>540</td>\n",
       "    </tr>\n",
       "    <tr>\n",
       "      <th>4</th>\n",
       "      <td>2011-01</td>\n",
       "      <td>SC</td>\n",
       "      <td>Outside City Limits</td>\n",
       "      <td>129</td>\n",
       "    </tr>\n",
       "    <tr>\n",
       "      <th>5</th>\n",
       "      <td>2011-01</td>\n",
       "      <td>SC</td>\n",
       "      <td>Toronto</td>\n",
       "      <td>545</td>\n",
       "    </tr>\n",
       "    <tr>\n",
       "      <th>6</th>\n",
       "      <td>2011-01</td>\n",
       "      <td>TO</td>\n",
       "      <td>Toronto</td>\n",
       "      <td>297</td>\n",
       "    </tr>\n",
       "    <tr>\n",
       "      <th>7</th>\n",
       "      <td>2011-02</td>\n",
       "      <td>ET</td>\n",
       "      <td>Outside City Limits</td>\n",
       "      <td>83</td>\n",
       "    </tr>\n",
       "    <tr>\n",
       "      <th>8</th>\n",
       "      <td>2011-02</td>\n",
       "      <td>ET</td>\n",
       "      <td>Toronto</td>\n",
       "      <td>224</td>\n",
       "    </tr>\n",
       "    <tr>\n",
       "      <th>9</th>\n",
       "      <td>2011-02</td>\n",
       "      <td>NY</td>\n",
       "      <td>Outside City Limits</td>\n",
       "      <td>81</td>\n",
       "    </tr>\n",
       "  </tbody>\n",
       "</table>\n",
       "</div>"
      ],
      "text/plain": [
       "  TIME_PERIOD CIVIC_CENTRE       PLACE_OF_DEATH  DEATH_LICENSES\n",
       "0     2011-01           ET  Outside City Limits              69\n",
       "1     2011-01           ET              Toronto             341\n",
       "2     2011-01           NY  Outside City Limits             141\n",
       "3     2011-01           NY              Toronto             540\n",
       "4     2011-01           SC  Outside City Limits             129\n",
       "5     2011-01           SC              Toronto             545\n",
       "6     2011-01           TO              Toronto             297\n",
       "7     2011-02           ET  Outside City Limits              83\n",
       "8     2011-02           ET              Toronto             224\n",
       "9     2011-02           NY  Outside City Limits              81"
      ]
     },
     "execution_count": 2,
     "metadata": {},
     "output_type": "execute_result"
    }
   ],
   "source": [
    "df = pd.read_csv('.\\death.csv')\n",
    "df.head(10)"
   ]
  },
  {
   "cell_type": "code",
   "execution_count": 3,
   "metadata": {
    "collapsed": false
   },
   "outputs": [
    {
     "name": "stdout",
     "output_type": "stream",
     "text": [
      "<class 'pandas.core.frame.DataFrame'>\n",
      "RangeIndex: 449 entries, 0 to 448\n",
      "Data columns (total 4 columns):\n",
      "TIME_PERIOD       449 non-null object\n",
      "CIVIC_CENTRE      449 non-null object\n",
      "PLACE_OF_DEATH    449 non-null object\n",
      "DEATH_LICENSES    449 non-null int64\n",
      "dtypes: int64(1), object(3)\n",
      "memory usage: 14.1+ KB\n"
     ]
    }
   ],
   "source": [
    "df.info()"
   ]
  },
  {
   "cell_type": "code",
   "execution_count": 4,
   "metadata": {
    "collapsed": false
   },
   "outputs": [
    {
     "data": {
      "text/plain": [
       "array(['2011-01', '2011-02', '2011-03', '2011-04', '2011-05', '2011-06',\n",
       "       '2011-07', '2011-08', '2011-09', '2011-10', '2011-11', '2011-12',\n",
       "       '2012-01', '2012-02', '2012-03', '2012-04', '2012-05', '2012-06',\n",
       "       '2012-07', '2012-08', '2012-09', '2012-10', '2012-11', '2012-12',\n",
       "       '2013-01', '2013-02', '2013-03', '2013-04', '2013-05', '2013-06',\n",
       "       '2013-07', '2013-08', '2013-09', '2013-10', '2013-11', '2013-12',\n",
       "       '2014-01', '2014-02', '2014-03', '2014-04', '2014-05', '2014-06',\n",
       "       '2014-07', '2014-08', '2014-09', '2014-10', '2014-11', '2014-12',\n",
       "       '2015-01', '2015-02', '2015-03', '2015-04', '2015-05', '2015-06',\n",
       "       '2015-07', '2015-08', '2015-09', '2015-10', '2015-11', '2015-12',\n",
       "       '2016-01', '2016-02', '2016-03', '2016-04', '2016-05', '2016-06',\n",
       "       '2016-07', '2016-08', '2016-09', '2016-10', '2016-11', '2016-12',\n",
       "       '2017-01'], dtype=object)"
      ]
     },
     "execution_count": 4,
     "metadata": {},
     "output_type": "execute_result"
    }
   ],
   "source": [
    "df.TIME_PERIOD.unique()"
   ]
  },
  {
   "cell_type": "code",
   "execution_count": 5,
   "metadata": {
    "collapsed": false
   },
   "outputs": [
    {
     "data": {
      "text/plain": [
       "array(['ET', 'NY', 'SC', 'TO'], dtype=object)"
      ]
     },
     "execution_count": 5,
     "metadata": {},
     "output_type": "execute_result"
    }
   ],
   "source": [
    "df.CIVIC_CENTRE.unique()"
   ]
  },
  {
   "cell_type": "code",
   "execution_count": 6,
   "metadata": {
    "collapsed": false
   },
   "outputs": [
    {
     "data": {
      "text/plain": [
       "array(['Outside City Limits', 'Toronto'], dtype=object)"
      ]
     },
     "execution_count": 6,
     "metadata": {},
     "output_type": "execute_result"
    }
   ],
   "source": [
    "df.PLACE_OF_DEATH.unique()"
   ]
  },
  {
   "cell_type": "code",
   "execution_count": 7,
   "metadata": {
    "collapsed": false
   },
   "outputs": [
    {
     "name": "stderr",
     "output_type": "stream",
     "text": [
      "C:\\Users\\Will\\Anaconda2\\lib\\site-packages\\ipykernel\\__main__.py:5: SettingWithCopyWarning: \n",
      "A value is trying to be set on a copy of a slice from a DataFrame\n",
      "\n",
      "See the caveats in the documentation: http://pandas.pydata.org/pandas-docs/stable/indexing.html#indexing-view-versus-copy\n",
      "C:\\Users\\Will\\Anaconda2\\lib\\site-packages\\ipykernel\\__main__.py:6: SettingWithCopyWarning: \n",
      "A value is trying to be set on a copy of a slice from a DataFrame\n",
      "\n",
      "See the caveats in the documentation: http://pandas.pydata.org/pandas-docs/stable/indexing.html#indexing-view-versus-copy\n",
      "C:\\Users\\Will\\Anaconda2\\lib\\site-packages\\ipykernel\\__main__.py:7: SettingWithCopyWarning: \n",
      "A value is trying to be set on a copy of a slice from a DataFrame\n",
      "\n",
      "See the caveats in the documentation: http://pandas.pydata.org/pandas-docs/stable/indexing.html#indexing-view-versus-copy\n"
     ]
    }
   ],
   "source": [
    "df['YEAR'] = 0\n",
    "df['MONTH'] = 0\n",
    "for i in df.index:\n",
    "    x = str(df['TIME_PERIOD'][i])\n",
    "    df['YEAR'][i] = int(x[0:4])\n",
    "    df['MONTH'][i] = (x[5:])\n",
    "    df['MONTH'][i] = int(df['MONTH'][i])\n",
    "df = df[['YEAR', 'MONTH', 'CIVIC_CENTRE', 'PLACE_OF_DEATH', 'DEATH_LICENSES']]"
   ]
  },
  {
   "cell_type": "code",
   "execution_count": 8,
   "metadata": {
    "collapsed": false
   },
   "outputs": [
    {
     "data": {
      "text/html": [
       "<div>\n",
       "<table border=\"1\" class=\"dataframe\">\n",
       "  <thead>\n",
       "    <tr style=\"text-align: right;\">\n",
       "      <th></th>\n",
       "      <th>YEAR</th>\n",
       "      <th>MONTH</th>\n",
       "      <th>CIVIC_CENTRE</th>\n",
       "      <th>PLACE_OF_DEATH</th>\n",
       "      <th>DEATH_LICENSES</th>\n",
       "    </tr>\n",
       "  </thead>\n",
       "  <tbody>\n",
       "    <tr>\n",
       "      <th>0</th>\n",
       "      <td>2011</td>\n",
       "      <td>1</td>\n",
       "      <td>ET</td>\n",
       "      <td>Outside City Limits</td>\n",
       "      <td>69</td>\n",
       "    </tr>\n",
       "    <tr>\n",
       "      <th>1</th>\n",
       "      <td>2011</td>\n",
       "      <td>1</td>\n",
       "      <td>ET</td>\n",
       "      <td>Toronto</td>\n",
       "      <td>341</td>\n",
       "    </tr>\n",
       "    <tr>\n",
       "      <th>2</th>\n",
       "      <td>2011</td>\n",
       "      <td>1</td>\n",
       "      <td>NY</td>\n",
       "      <td>Outside City Limits</td>\n",
       "      <td>141</td>\n",
       "    </tr>\n",
       "    <tr>\n",
       "      <th>3</th>\n",
       "      <td>2011</td>\n",
       "      <td>1</td>\n",
       "      <td>NY</td>\n",
       "      <td>Toronto</td>\n",
       "      <td>540</td>\n",
       "    </tr>\n",
       "    <tr>\n",
       "      <th>4</th>\n",
       "      <td>2011</td>\n",
       "      <td>1</td>\n",
       "      <td>SC</td>\n",
       "      <td>Outside City Limits</td>\n",
       "      <td>129</td>\n",
       "    </tr>\n",
       "  </tbody>\n",
       "</table>\n",
       "</div>"
      ],
      "text/plain": [
       "   YEAR  MONTH CIVIC_CENTRE       PLACE_OF_DEATH  DEATH_LICENSES\n",
       "0  2011      1           ET  Outside City Limits              69\n",
       "1  2011      1           ET              Toronto             341\n",
       "2  2011      1           NY  Outside City Limits             141\n",
       "3  2011      1           NY              Toronto             540\n",
       "4  2011      1           SC  Outside City Limits             129"
      ]
     },
     "execution_count": 8,
     "metadata": {},
     "output_type": "execute_result"
    }
   ],
   "source": [
    "df.head()"
   ]
  },
  {
   "cell_type": "markdown",
   "metadata": {},
   "source": [
    "## 3. Analysis"
   ]
  },
  {
   "cell_type": "code",
   "execution_count": 9,
   "metadata": {
    "collapsed": true
   },
   "outputs": [],
   "source": [
    "# So we can quickly export charts later\n",
    "charts = []"
   ]
  },
  {
   "cell_type": "markdown",
   "metadata": {},
   "source": [
    "### A. Which year had the most death licenses registered?"
   ]
  },
  {
   "cell_type": "code",
   "execution_count": 10,
   "metadata": {
    "collapsed": false
   },
   "outputs": [
    {
     "data": {
      "image/png": "[encoded data removed]",
      "text/plain": [
       "<matplotlib.figure.Figure at 0xc0fac18>"
      ]
     },
     "metadata": {},
     "output_type": "display_data"
    }
   ],
   "source": [
    "year = df.groupby('YEAR')['DEATH_LICENSES'].sum()\n",
    "year\n",
    "yearChart = plt.figure(figsize=(8,6))\n",
    "sns.barplot(x=year.index, y=year.values)\n",
    "plt.ylabel('Number of Deaths Registered')\n",
    "plt.xlabel('Year')\n",
    "plt.title('Number of Deaths Registered by Year in the GTA')\n",
    "\n",
    "charts.append(yearChart)"
   ]
  },
  {
   "cell_type": "markdown",
   "metadata": {},
   "source": [
    "### B. Which civic centre has registered the most deaths in the dataset?"
   ]
  },
  {
   "cell_type": "code",
   "execution_count": 11,
   "metadata": {
    "collapsed": false,
    "scrolled": false
   },
   "outputs": [
    {
     "data": {
      "image/png": "[encoded data removed]",
      "text/plain": [
       "<matplotlib.figure.Figure at 0xc2bc978>"
      ]
     },
     "metadata": {},
     "output_type": "display_data"
    }
   ],
   "source": [
    "regions = df.groupby(df['CIVIC_CENTRE']).sum()\n",
    "regions.drop(['YEAR', 'MONTH'], axis=1, inplace=True)\n",
    "\n",
    "totalCivicChart = plt.figure(figsize=(8,6))\n",
    "sns.barplot(x=regions.index, y=regions.DEATH_LICENSES)\n",
    "plt.ylabel('Number of Deaths Registered')\n",
    "plt.xlabel('Region')\n",
    "plt.title('Total Number of Deaths Registered by each Region')\n",
    "\n",
    "charts.append(totalCivicChart)"
   ]
  },
  {
   "cell_type": "markdown",
   "metadata": {},
   "source": [
    "### C. How many death registrations has their been each year, and in total?"
   ]
  },
  {
   "cell_type": "code",
   "execution_count": 12,
   "metadata": {
    "collapsed": false,
    "scrolled": false
   },
   "outputs": [
    {
     "name": "stdout",
     "output_type": "stream",
     "text": [
      "YEAR\n",
      "2011    17330\n",
      "2012    16999\n",
      "2013    17440\n",
      "2014    18100\n",
      "2015    17674\n",
      "2016    17700\n",
      "2017     2202\n",
      "Name: DEATH_LICENSES, dtype: int64\n",
      "\n",
      "Total Number of Deaths Registered 2011 - 2017: 107445\n"
     ]
    }
   ],
   "source": [
    "deaths_each_year = df.DEATH_LICENSES.groupby(df['YEAR']).sum()\n",
    "print deaths_each_year\n",
    "print '\\nTotal Number of Deaths Registered 2011 - 2017: ' + str(deaths_each_year.sum())"
   ]
  },
  {
   "cell_type": "markdown",
   "metadata": {},
   "source": [
    "### D. Which Civic Centres register the most deaths, and where are the places of death?"
   ]
  },
  {
   "cell_type": "code",
   "execution_count": 13,
   "metadata": {
    "collapsed": false,
    "scrolled": false
   },
   "outputs": [
    {
     "data": {
      "image/png": "[encoded data removed]",
      "text/plain": [
       "<matplotlib.figure.Figure at 0xc529160>"
      ]
     },
     "metadata": {},
     "output_type": "display_data"
    }
   ],
   "source": [
    "avgCivicChart = plt.figure(figsize=(8,6))\n",
    "sns.barplot(x=df.CIVIC_CENTRE, y=df.DEATH_LICENSES, hue=df.PLACE_OF_DEATH)\n",
    "plt.title('Average amount of Death Licenses by Civic Centre')\n",
    "plt.xlabel('Civic Centres')\n",
    "plt.ylabel('Average Amount of Death Licenses')\n",
    "plt.legend()\n",
    "\n",
    "charts.append(avgCivicChart)"
   ]
  },
  {
   "cell_type": "markdown",
   "metadata": {},
   "source": [
    "### E. How are the death registrations distributed across months, on average?"
   ]
  },
  {
   "cell_type": "code",
   "execution_count": 14,
   "metadata": {
    "collapsed": false,
    "scrolled": false
   },
   "outputs": [
    {
     "data": {
      "image/png": "[encoded data removed]",
      "text/plain": [
       "<matplotlib.figure.Figure at 0xc745be0>"
      ]
     },
     "metadata": {},
     "output_type": "display_data"
    }
   ],
   "source": [
    "months = df.groupby(['MONTH']).sum()\n",
    "months.index = ['Jan', 'Feb', 'Mar', 'Apr', 'May', 'Jun', 'Jul', 'Aug', 'Sep', 'Oct', 'Nov', 'Dec']\n",
    "\n",
    "monthChart = plt.figure(figsize=(8,6))\n",
    "sns.barplot(x=months.index, y=months.DEATH_LICENSES)\n",
    "plt.title('Total Death Registries made by Month')\n",
    "plt.xlabel('Month')\n",
    "plt.ylabel('Total Death Registries Made')\n",
    "\n",
    "charts.append(monthChart)"
   ]
  },
  {
   "cell_type": "markdown",
   "metadata": {},
   "source": [
    "## 5. Export Charts as PNGs"
   ]
  },
  {
   "cell_type": "code",
   "execution_count": 15,
   "metadata": {
    "collapsed": true
   },
   "outputs": [],
   "source": [
    "import os\n",
    "folder = 'Toronto Death Registry Charts'\n",
    "if not os.path.exists(folder):\n",
    "    os.makedirs(folder)\n",
    "os.chdir(folder)\n",
    "count = 0\n",
    "for x in charts:\n",
    "    x.savefig(str(count) + '.png')\n",
    "    count += 1"
   ]
  },
  {
   "cell_type": "markdown",
   "metadata": {},
   "source": [
    "## 6. Machine Learning"
   ]
  },
  {
   "cell_type": "markdown",
   "metadata": {},
   "source": [
    "Can we reliably determine CIVIC_CENTRE based on the dataset's other features?"
   ]
  },
  {
   "cell_type": "code",
   "execution_count": 16,
   "metadata": {
    "collapsed": true
   },
   "outputs": [],
   "source": [
    "from sklearn.preprocessing import LabelEncoder\n",
    "from sklearn.metrics import accuracy_score\n",
    "from sklearn.model_selection import train_test_split\n",
    "\n",
    "from sklearn.svm import SVC\n",
    "from sklearn.metrics import accuracy_score\n",
    "from sklearn.linear_model import LogisticRegression\n",
    "from sklearn.tree import DecisionTreeClassifier\n",
    "from sklearn.linear_model import Perceptron\n",
    "from sklearn.neighbors import KNeighborsClassifier"
   ]
  },
  {
   "cell_type": "code",
   "execution_count": 17,
   "metadata": {
    "collapsed": false
   },
   "outputs": [
    {
     "data": {
      "text/html": [
       "<div>\n",
       "<table border=\"1\" class=\"dataframe\">\n",
       "  <thead>\n",
       "    <tr style=\"text-align: right;\">\n",
       "      <th></th>\n",
       "      <th>YEAR</th>\n",
       "      <th>MONTH</th>\n",
       "      <th>CIVIC_CENTRE</th>\n",
       "      <th>PLACE_OF_DEATH</th>\n",
       "      <th>DEATH_LICENSES</th>\n",
       "    </tr>\n",
       "  </thead>\n",
       "  <tbody>\n",
       "    <tr>\n",
       "      <th>0</th>\n",
       "      <td>0</td>\n",
       "      <td>0</td>\n",
       "      <td>0</td>\n",
       "      <td>0</td>\n",
       "      <td>36</td>\n",
       "    </tr>\n",
       "    <tr>\n",
       "      <th>1</th>\n",
       "      <td>0</td>\n",
       "      <td>0</td>\n",
       "      <td>0</td>\n",
       "      <td>1</td>\n",
       "      <td>173</td>\n",
       "    </tr>\n",
       "    <tr>\n",
       "      <th>2</th>\n",
       "      <td>0</td>\n",
       "      <td>0</td>\n",
       "      <td>1</td>\n",
       "      <td>0</td>\n",
       "      <td>95</td>\n",
       "    </tr>\n",
       "    <tr>\n",
       "      <th>3</th>\n",
       "      <td>0</td>\n",
       "      <td>0</td>\n",
       "      <td>1</td>\n",
       "      <td>1</td>\n",
       "      <td>259</td>\n",
       "    </tr>\n",
       "    <tr>\n",
       "      <th>4</th>\n",
       "      <td>0</td>\n",
       "      <td>0</td>\n",
       "      <td>2</td>\n",
       "      <td>0</td>\n",
       "      <td>87</td>\n",
       "    </tr>\n",
       "  </tbody>\n",
       "</table>\n",
       "</div>"
      ],
      "text/plain": [
       "   YEAR  MONTH  CIVIC_CENTRE  PLACE_OF_DEATH  DEATH_LICENSES\n",
       "0     0      0             0               0              36\n",
       "1     0      0             0               1             173\n",
       "2     0      0             1               0              95\n",
       "3     0      0             1               1             259\n",
       "4     0      0             2               0              87"
      ]
     },
     "execution_count": 17,
     "metadata": {},
     "output_type": "execute_result"
    }
   ],
   "source": [
    "le = LabelEncoder()\n",
    "for col in df.columns:\n",
    "    df[col] = le.fit_transform(df[col])\n",
    "df.head()"
   ]
  },
  {
   "cell_type": "code",
   "execution_count": 18,
   "metadata": {
    "collapsed": false
   },
   "outputs": [],
   "source": [
    "train, test = train_test_split(df, test_size=0.2)\n",
    "\n",
    "train_x = train[[x for x in train.columns if 'CIVIC_CENTRE' not in x]]\n",
    "train_y = train['CIVIC_CENTRE']\n",
    "\n",
    "test_x = test[[x for x in test.columns if 'CIVIC_CENTRE' not in x]]\n",
    "test_y = test['CIVIC_CENTRE']"
   ]
  },
  {
   "cell_type": "code",
   "execution_count": 19,
   "metadata": {
    "collapsed": false
   },
   "outputs": [
    {
     "name": "stdout",
     "output_type": "stream",
     "text": [
      "The accuracy of SVC RBF is: 0.3\n",
      "The accuracy of SVC Linear is: 0.244\n",
      "The accuracy of Logistic Regression is: 0.288\n",
      "The accuracy of Decision Tree is: 0.344\n",
      "The accuracy of Perceptron is: 0.255\n",
      "The accuracy of K Neighbours is: 0.366\n"
     ]
    }
   ],
   "source": [
    "models = [SVC(kernel='rbf', random_state=0),\n",
    "          SVC(kernel='linear', random_state=0), \n",
    "          LogisticRegression(),\n",
    "          DecisionTreeClassifier(), \n",
    "          Perceptron(),\n",
    "          KNeighborsClassifier()]\n",
    "\n",
    "model_names = ['SVC RBF', 'SVC Linear', 'Logistic Regression', 'Decision Tree', 'Perceptron', 'K Neighbours']\n",
    "\n",
    "for i, model in enumerate(models):\n",
    "    model.fit(train_x, train_y)\n",
    "    print('The accuracy of ' + model_names[i] + ' is: ' + str(accuracy_score(test_y, model.predict(test_x)))[:5])"
   ]
  },
  {
   "cell_type": "markdown",
   "metadata": {},
   "source": [
    "Just from implementing these ML models out of the box, it seems like this question would need specific parameter tweaking to get anywhere close a reliable answer. Something to return to once I have a better understanding of ML algorithms."
   ]
  }
 ],
 "metadata": {
  "anaconda-cloud": {},
  "kernelspec": {
   "display_name": "Python [conda root]",
   "language": "python",
   "name": "conda-root-py"
  },
  "language_info": {
   "codemirror_mode": {
    "name": "ipython",
    "version": 2
   },
   "file_extension": ".py",
   "mimetype": "text/x-python",
   "name": "python",
   "nbconvert_exporter": "python",
   "pygments_lexer": "ipython2",
   "version": "2.7.12"
  }
 },
 "nbformat": 4,
 "nbformat_minor": 1
}
