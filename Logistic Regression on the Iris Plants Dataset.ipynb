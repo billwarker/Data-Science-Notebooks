{
 "cells": [
  {
   "cell_type": "markdown",
   "metadata": {},
   "source": [
    "# Logistic Regression on the Iris Plants Dataset\n",
    "\n",
    "In this notebook I'm going to quickly run through the Iris Plants Database. Used very frequently in classification exercises and pattern recognition, this classic dataset is clean and has an equal distribution of examples for its three plant classes: Iris-Setosa, Iris-Versicolour, Iris-Virginica. As a general fan of nature, it's always a *thrill* to examine data about plants.\n",
    "\n",
    "This notebook will contain a brief exploratory visualization between the features in the set, and will then proceed into a hand-made implementation of Logistic Regression. I will also attempt to use the 'Early Stopping' technique to regularize my model."
   ]
  },
  {
   "cell_type": "markdown",
   "metadata": {},
   "source": [
    "## Imports"
   ]
  },
  {
   "cell_type": "code",
   "execution_count": 1,
   "metadata": {
    "collapsed": false
   },
   "outputs": [],
   "source": [
    "import numpy as np\n",
    "import matplotlib.pyplot as plt\n",
    "import pandas as pd\n",
    "% matplotlib inline\n",
    "from sklearn.datasets import load_iris"
   ]
  },
  {
   "cell_type": "markdown",
   "metadata": {},
   "source": [
    "## Load and Explore Dataset"
   ]
  },
  {
   "cell_type": "code",
   "execution_count": 2,
   "metadata": {
    "collapsed": true
   },
   "outputs": [],
   "source": [
    "data = load_iris()"
   ]
  },
  {
   "cell_type": "code",
   "execution_count": 3,
   "metadata": {
    "collapsed": false,
    "scrolled": false
   },
   "outputs": [
    {
     "name": "stdout",
     "output_type": "stream",
     "text": [
      "Iris Plants Database\n",
      "====================\n",
      "\n",
      "Notes\n",
      "-----\n",
      "Data Set Characteristics:\n",
      "    :Number of Instances: 150 (50 in each of three classes)\n",
      "    :Number of Attributes: 4 numeric, predictive attributes and the class\n",
      "    :Attribute Information:\n",
      "        - sepal length in cm\n",
      "        - sepal width in cm\n",
      "        - petal length in cm\n",
      "        - petal width in cm\n",
      "        - class:\n",
      "                - Iris-Setosa\n",
      "                - Iris-Versicolour\n",
      "                - Iris-Virginica\n",
      "    :Summary Statistics:\n",
      "\n",
      "    ============== ==== ==== ======= ===== ====================\n",
      "                    Min  Max   Mean    SD   Class Correlation\n",
      "    ============== ==== ==== ======= ===== ====================\n",
      "    sepal length:   4.3  7.9   5.84   0.83    0.7826\n",
      "    sepal width:    2.0  4.4   3.05   0.43   -0.4194\n",
      "    petal length:   1.0  6.9   3.76   1.76    0.9490  (high!)\n",
      "    petal width:    0.1  2.5   1.20  0.76     0.9565  (high!)\n",
      "    ============== ==== ==== ======= ===== ====================\n",
      "\n",
      "    :Missing Attribute Values: None\n",
      "    :Class Distribution: 33.3% for each of 3 classes.\n",
      "    :Creator: R.A. Fisher\n",
      "    :Donor: Michael Marshall (MARSHALL%PLU@io.arc.nasa.gov)\n",
      "    :Date: July, 1988\n",
      "\n",
      "This is a copy of UCI ML iris datasets.\n",
      "http://archive.ics.uci.edu/ml/datasets/Iris\n",
      "\n",
      "The famous Iris database, first used by Sir R.A Fisher\n",
      "\n",
      "This is perhaps the best known database to be found in the\n",
      "pattern recognition literature.  Fisher's paper is a classic in the field and\n",
      "is referenced frequently to this day.  (See Duda & Hart, for example.)  The\n",
      "data set contains 3 classes of 50 instances each, where each class refers to a\n",
      "type of iris plant.  One class is linearly separable from the other 2; the\n",
      "latter are NOT linearly separable from each other.\n",
      "\n",
      "References\n",
      "----------\n",
      "   - Fisher,R.A. \"The use of multiple measurements in taxonomic problems\"\n",
      "     Annual Eugenics, 7, Part II, 179-188 (1936); also in \"Contributions to\n",
      "     Mathematical Statistics\" (John Wiley, NY, 1950).\n",
      "   - Duda,R.O., & Hart,P.E. (1973) Pattern Classification and Scene Analysis.\n",
      "     (Q327.D83) John Wiley & Sons.  ISBN 0-471-22361-1.  See page 218.\n",
      "   - Dasarathy, B.V. (1980) \"Nosing Around the Neighborhood: A New System\n",
      "     Structure and Classification Rule for Recognition in Partially Exposed\n",
      "     Environments\".  IEEE Transactions on Pattern Analysis and Machine\n",
      "     Intelligence, Vol. PAMI-2, No. 1, 67-71.\n",
      "   - Gates, G.W. (1972) \"The Reduced Nearest Neighbor Rule\".  IEEE Transactions\n",
      "     on Information Theory, May 1972, 431-433.\n",
      "   - See also: 1988 MLC Proceedings, 54-64.  Cheeseman et al\"s AUTOCLASS II\n",
      "     conceptual clustering system finds 3 classes in the data.\n",
      "   - Many, many more ...\n",
      "\n"
     ]
    }
   ],
   "source": [
    "print(data['DESCR'])"
   ]
  },
  {
   "cell_type": "markdown",
   "metadata": {},
   "source": [
    "Reading through summary statistics in the description, we can see that sepal length, petal length, and petal width all have relatively high positive correlations with classifications. There also appears to be a moderate negative correlation with sepal width as well (i.e., smaller sepal widths seem to relate to a certain class)."
   ]
  },
  {
   "cell_type": "markdown",
   "metadata": {},
   "source": [
    "### Load into Pandas Dataframe"
   ]
  },
  {
   "cell_type": "code",
   "execution_count": 4,
   "metadata": {
    "collapsed": false
   },
   "outputs": [],
   "source": [
    "X, y = data['data'], data['target']"
   ]
  },
  {
   "cell_type": "code",
   "execution_count": 5,
   "metadata": {
    "collapsed": false
   },
   "outputs": [
    {
     "data": {
      "text/plain": [
       "array([[ 5.1,  3.5,  1.4,  0.2,  0. ],\n",
       "       [ 4.9,  3. ,  1.4,  0.2,  0. ],\n",
       "       [ 4.7,  3.2,  1.3,  0.2,  0. ],\n",
       "       [ 4.6,  3.1,  1.5,  0.2,  0. ],\n",
       "       [ 5. ,  3.6,  1.4,  0.2,  0. ]])"
      ]
     },
     "execution_count": 5,
     "metadata": {},
     "output_type": "execute_result"
    }
   ],
   "source": [
    "full_iris = np.c_[X, y]\n",
    "full_iris[:5]"
   ]
  },
  {
   "cell_type": "code",
   "execution_count": 6,
   "metadata": {
    "collapsed": false
   },
   "outputs": [],
   "source": [
    "iris = pd.DataFrame(full_iris)\n",
    "iris.columns = ['s_len', 's_wid', 'p_len', 'p_wid', 'class']"
   ]
  },
  {
   "cell_type": "code",
   "execution_count": 7,
   "metadata": {
    "collapsed": false
   },
   "outputs": [
    {
     "data": {
      "text/html": [
       "<div>\n",
       "<table border=\"1\" class=\"dataframe\">\n",
       "  <thead>\n",
       "    <tr style=\"text-align: right;\">\n",
       "      <th></th>\n",
       "      <th>s_len</th>\n",
       "      <th>s_wid</th>\n",
       "      <th>p_len</th>\n",
       "      <th>p_wid</th>\n",
       "      <th>class</th>\n",
       "    </tr>\n",
       "  </thead>\n",
       "  <tbody>\n",
       "    <tr>\n",
       "      <th>0</th>\n",
       "      <td>5.1</td>\n",
       "      <td>3.5</td>\n",
       "      <td>1.4</td>\n",
       "      <td>0.2</td>\n",
       "      <td>0.0</td>\n",
       "    </tr>\n",
       "    <tr>\n",
       "      <th>1</th>\n",
       "      <td>4.9</td>\n",
       "      <td>3.0</td>\n",
       "      <td>1.4</td>\n",
       "      <td>0.2</td>\n",
       "      <td>0.0</td>\n",
       "    </tr>\n",
       "    <tr>\n",
       "      <th>2</th>\n",
       "      <td>4.7</td>\n",
       "      <td>3.2</td>\n",
       "      <td>1.3</td>\n",
       "      <td>0.2</td>\n",
       "      <td>0.0</td>\n",
       "    </tr>\n",
       "    <tr>\n",
       "      <th>3</th>\n",
       "      <td>4.6</td>\n",
       "      <td>3.1</td>\n",
       "      <td>1.5</td>\n",
       "      <td>0.2</td>\n",
       "      <td>0.0</td>\n",
       "    </tr>\n",
       "    <tr>\n",
       "      <th>4</th>\n",
       "      <td>5.0</td>\n",
       "      <td>3.6</td>\n",
       "      <td>1.4</td>\n",
       "      <td>0.2</td>\n",
       "      <td>0.0</td>\n",
       "    </tr>\n",
       "  </tbody>\n",
       "</table>\n",
       "</div>"
      ],
      "text/plain": [
       "   s_len  s_wid  p_len  p_wid  class\n",
       "0    5.1    3.5    1.4    0.2    0.0\n",
       "1    4.9    3.0    1.4    0.2    0.0\n",
       "2    4.7    3.2    1.3    0.2    0.0\n",
       "3    4.6    3.1    1.5    0.2    0.0\n",
       "4    5.0    3.6    1.4    0.2    0.0"
      ]
     },
     "execution_count": 7,
     "metadata": {},
     "output_type": "execute_result"
    }
   ],
   "source": [
    "iris.head()"
   ]
  },
  {
   "cell_type": "markdown",
   "metadata": {},
   "source": [
    "### Visualize relationships between petal, sepal length/width"
   ]
  },
  {
   "cell_type": "markdown",
   "metadata": {},
   "source": [
    "### Petal"
   ]
  },
  {
   "cell_type": "code",
   "execution_count": 8,
   "metadata": {
    "collapsed": false,
    "scrolled": false
   },
   "outputs": [
    {
     "data": {
      "text/plain": [
       "<matplotlib.legend.Legend at 0x20b492a8400>"
      ]
     },
     "execution_count": 8,
     "metadata": {},
     "output_type": "execute_result"
    },
    {
     "data": {
      "image/png": "[encoded data removed]",
      "text/plain": [
       "<matplotlib.figure.Figure at 0x20b4919f240>"
      ]
     },
     "metadata": {},
     "output_type": "display_data"
    }
   ],
   "source": [
    "plt.figure(figsize=(13,8))\n",
    "ax = plt.subplot()\n",
    "ax.scatter(iris['p_len'].loc[iris['class'] == 0],\n",
    "           iris['p_wid'].loc[iris['class'] == 0],\n",
    "           s=40,\n",
    "           c='b',\n",
    "           label=data['target_names'][0])\n",
    "\n",
    "ax.scatter(iris['p_len'].loc[iris['class'] == 1],\n",
    "           iris['p_wid'].loc[iris['class'] == 1],\n",
    "           s=40,\n",
    "           c='r',\n",
    "           label=data['target_names'][1])\n",
    "\n",
    "ax.scatter(iris['p_len'].loc[iris['class'] == 2],\n",
    "           iris['p_wid'].loc[iris['class'] == 2],\n",
    "           s=40,\n",
    "           c='g',\n",
    "           label=data['target_names'][2])\n",
    "\n",
    "ax.set_xlabel('Petal Length (cm)')\n",
    "ax.set_ylabel('Petal Width (cm)')\n",
    "ax.legend(loc='upper left')"
   ]
  },
  {
   "cell_type": "markdown",
   "metadata": {},
   "source": [
    "Wow! The dimensions of an iris' petal have really clear distinctions on class type. Iris-Setosa has the smallest petals, width lengths no longer than 2 cm and widths maxing out around 0.7 cm. Iris-Setosa is very clearly linearly separable from the other types based solely on petal. Versicolor and Virginica are also pretty distinct, although there is an overlap around petal lengths at 5 cm and widths at 1.5 cm. \n",
    "\n",
    "It seems that building a classifier to determine which classes are Setosa would likely result in a high classification accuracy."
   ]
  },
  {
   "cell_type": "markdown",
   "metadata": {},
   "source": [
    "### Sepal"
   ]
  },
  {
   "cell_type": "code",
   "execution_count": 9,
   "metadata": {
    "collapsed": false,
    "scrolled": false
   },
   "outputs": [
    {
     "data": {
      "text/plain": [
       "<matplotlib.legend.Legend at 0x20b49420f98>"
      ]
     },
     "execution_count": 9,
     "metadata": {},
     "output_type": "execute_result"
    },
    {
     "data": {
      "image/png": "[encoded data removed]",
      "text/plain": [
       "<matplotlib.figure.Figure at 0x20b49665c50>"
      ]
     },
     "metadata": {},
     "output_type": "display_data"
    }
   ],
   "source": [
    "plt.figure(figsize=(13,8))\n",
    "ax = plt.subplot()\n",
    "ax.scatter(iris['s_len'].loc[iris['class'] == 0],\n",
    "           iris['s_wid'].loc[iris['class'] == 0],\n",
    "           s=40,\n",
    "           c='b',\n",
    "           label=data['target_names'][0])\n",
    "\n",
    "ax.scatter(iris['s_len'].loc[iris['class'] == 1],\n",
    "           iris['s_wid'].loc[iris['class'] == 1],\n",
    "           s=41,\n",
    "           c='r',\n",
    "           label=data['target_names'][1])\n",
    "\n",
    "ax.scatter(iris['s_len'].loc[iris['class'] == 2],\n",
    "           iris['s_wid'].loc[iris['class'] == 2],\n",
    "           s=40,\n",
    "           c='g',\n",
    "           label=data['target_names'][2])\n",
    "\n",
    "ax.set_xlabel('Sepal Length (cm)')\n",
    "ax.set_ylabel('Sepal Width (cm)')\n",
    "ax.legend(loc='upper left')"
   ]
  },
  {
   "cell_type": "markdown",
   "metadata": {},
   "source": [
    "Once again, it seems as though Iris-Setosa is linearly separable from the other two classes. There is much more overlap in the sepals of Versicolor and Virginica, however."
   ]
  },
  {
   "cell_type": "markdown",
   "metadata": {},
   "source": [
    "## Data Preparation for Logistic Regression"
   ]
  },
  {
   "cell_type": "markdown",
   "metadata": {},
   "source": [
    "### Create Stratified Train and Test Sets\n",
    "\n",
    "Since the iris dataset is only contains 150 examples, simply doing a random test-train split would result in a high variance of classes in training and test sets. For example, it wouldn't make sense to train a classifer on a set that got almost all of the Iris-Setosa classes and test it against a set that conversely got almost none. The solution is to do a stratified shuffle of the examples by class type and split on that."
   ]
  },
  {
   "cell_type": "code",
   "execution_count": 10,
   "metadata": {
    "collapsed": true
   },
   "outputs": [],
   "source": [
    "from sklearn.model_selection import StratifiedShuffleSplit"
   ]
  },
  {
   "cell_type": "code",
   "execution_count": 11,
   "metadata": {
    "collapsed": true
   },
   "outputs": [],
   "source": [
    "split = StratifiedShuffleSplit(n_splits=1, test_size=0.2, random_state=42)\n",
    "for train_index, test_index in split.split(iris, iris['class']):\n",
    "    strat_train_set = iris.iloc[train_index]\n",
    "    strat_test_set = iris.iloc[test_index]"
   ]
  },
  {
   "cell_type": "code",
   "execution_count": 12,
   "metadata": {
    "collapsed": false
   },
   "outputs": [
    {
     "name": "stdout",
     "output_type": "stream",
     "text": [
      "training set size: 120\n",
      "# of class 0 in training set: 40\n",
      "# of class 1 in training set: 40\n",
      "# of class 2 in training set: 40\n"
     ]
    }
   ],
   "source": [
    "print('training set size: ' + str(len(strat_train_set)))\n",
    "for x in range(3):\n",
    "    print(('# of class {} in training set: {}').format(x, (strat_train_set['class'] == x).sum()))"
   ]
  },
  {
   "cell_type": "markdown",
   "metadata": {},
   "source": [
    "### Format sets into Numpy Arrays"
   ]
  },
  {
   "cell_type": "code",
   "execution_count": 13,
   "metadata": {
    "collapsed": false
   },
   "outputs": [
    {
     "data": {
      "text/plain": [
       "array([[ 1. ,  4.4,  2.9,  1.4,  0.2],\n",
       "       [ 1. ,  4.9,  2.5,  4.5,  1.7],\n",
       "       [ 1. ,  6.8,  2.8,  4.8,  1.4],\n",
       "       [ 1. ,  4.9,  3.1,  1.5,  0.1],\n",
       "       [ 1. ,  5.5,  2.5,  4. ,  1.3],\n",
       "       [ 1. ,  6.3,  2.5,  5. ,  1.9],\n",
       "       [ 1. ,  5.6,  2.7,  4.2,  1.3],\n",
       "       [ 1. ,  6.3,  2.8,  5.1,  1.5],\n",
       "       [ 1. ,  7.7,  3. ,  6.1,  2.3],\n",
       "       [ 1. ,  7.7,  3.8,  6.7,  2.2]])"
      ]
     },
     "execution_count": 13,
     "metadata": {},
     "output_type": "execute_result"
    }
   ],
   "source": [
    "train_X = strat_train_set.drop('class', axis=1).values\n",
    "train_X = np.c_[np.ones((len(train_X), 1)), train_X]\n",
    "train_X[:10]"
   ]
  },
  {
   "cell_type": "code",
   "execution_count": 14,
   "metadata": {
    "collapsed": false,
    "scrolled": true
   },
   "outputs": [
    {
     "data": {
      "text/plain": [
       "array([[ 1. ,  4.4,  3. ,  1.3,  0.2],\n",
       "       [ 1. ,  6.1,  3. ,  4.9,  1.8],\n",
       "       [ 1. ,  4.9,  2.4,  3.3,  1. ],\n",
       "       [ 1. ,  5. ,  2.3,  3.3,  1. ],\n",
       "       [ 1. ,  4.4,  3.2,  1.3,  0.2],\n",
       "       [ 1. ,  6.3,  3.3,  4.7,  1.6],\n",
       "       [ 1. ,  4.6,  3.6,  1. ,  0.2],\n",
       "       [ 1. ,  5.4,  3.4,  1.7,  0.2],\n",
       "       [ 1. ,  6.5,  3. ,  5.2,  2. ],\n",
       "       [ 1. ,  5.4,  3. ,  4.5,  1.5]])"
      ]
     },
     "execution_count": 14,
     "metadata": {},
     "output_type": "execute_result"
    }
   ],
   "source": [
    "test_X = strat_test_set.drop('class', axis=1).values\n",
    "# add x0 = 1 \n",
    "test_X = np.c_[np.ones((len(test_X), 1)), test_X]\n",
    "test_X[:10]"
   ]
  },
  {
   "cell_type": "code",
   "execution_count": 15,
   "metadata": {
    "collapsed": true
   },
   "outputs": [],
   "source": [
    "train_y = (strat_train_set['class'] == 2).astype(np.int).values\n",
    "test_y = (strat_test_set['class'] == 2).astype(np.int).values"
   ]
  },
  {
   "cell_type": "code",
   "execution_count": 16,
   "metadata": {
    "collapsed": false,
    "scrolled": false
   },
   "outputs": [
    {
     "data": {
      "text/plain": [
       "array([0, 1, 0, 0, 0, 1, 0, 1, 1, 1, 1, 0, 0, 0, 0, 0, 0, 1, 1, 0, 0, 0, 1,\n",
       "       0, 0, 1, 1, 0, 1, 0, 0, 0, 0, 0, 1, 1, 0, 0, 1, 0, 0, 0, 0, 1, 0, 0,\n",
       "       1, 0, 0, 0, 0, 0, 1, 0, 0, 1, 0, 1, 0, 1, 0, 0, 1, 0, 0, 0, 1, 0, 0,\n",
       "       1, 0, 0, 0, 1, 0, 1, 0, 1, 1, 0, 0, 1, 0, 0, 1, 0, 1, 0, 0, 0, 0, 1,\n",
       "       0, 0, 1, 1, 1, 0, 1, 0, 1, 0, 1, 1, 0, 0, 0, 0, 0, 0, 0, 1, 0, 0, 0,\n",
       "       0, 0, 0, 0, 0])"
      ]
     },
     "execution_count": 16,
     "metadata": {},
     "output_type": "execute_result"
    }
   ],
   "source": [
    "train_y"
   ]
  },
  {
   "cell_type": "markdown",
   "metadata": {},
   "source": [
    "### Scale Features"
   ]
  },
  {
   "cell_type": "code",
   "execution_count": 17,
   "metadata": {
    "collapsed": true
   },
   "outputs": [],
   "source": [
    "### y[x] / y[x.max()]\n",
    "\n",
    "def scaler(data):\n",
    "    m, n = data.shape\n",
    "    scaled_list = []\n",
    "    for attribute in range(n):\n",
    "        col = data[:, attribute] / data[:, attribute].max()\n",
    "        scaled_list.append(col)\n",
    "    scaled_set = np.array(scaled_list).T\n",
    "    \n",
    "    return scaled_set"
   ]
  },
  {
   "cell_type": "code",
   "execution_count": 18,
   "metadata": {
    "collapsed": true
   },
   "outputs": [],
   "source": [
    "train_X_scaled = scaler(train_X)\n",
    "test_X_scaled = scaler(test_X)"
   ]
  },
  {
   "cell_type": "markdown",
   "metadata": {},
   "source": [
    "### Create initial theta parameter"
   ]
  },
  {
   "cell_type": "code",
   "execution_count": 19,
   "metadata": {
    "collapsed": false
   },
   "outputs": [],
   "source": [
    "m, n = train_X.shape\n",
    "theta = np.zeros((n, 1))"
   ]
  },
  {
   "cell_type": "markdown",
   "metadata": {},
   "source": [
    "## Implementing Hand-made Logistic Regression"
   ]
  },
  {
   "cell_type": "code",
   "execution_count": 20,
   "metadata": {
    "collapsed": true
   },
   "outputs": [],
   "source": [
    "def sigmoid(z):\n",
    "    return 1/(1 + (np.e)**(-z))\n",
    "\n",
    "def hypothesis(X, theta):\n",
    "    return sigmoid(np.dot(X,theta))\n",
    "\n",
    "def cost_function(theta,X,y):\n",
    "    m, n = X.shape \n",
    "    theta = theta.reshape((n,1))\n",
    "    y = y.reshape((m,1))\n",
    "    term1 = np.log(hypothesis(X, theta))\n",
    "    term2 = np.log(1 - hypothesis(X, theta))\n",
    "    term1 = term1.reshape((m,1))\n",
    "    term2 = term2.reshape((m,1))\n",
    "    term = y * term1 + (1 - y) * term2\n",
    "    J = -((np.sum(term))/m)\n",
    "    \n",
    "    return J\n",
    "\n",
    "def gradient(theta,X,y):\n",
    "    m , n = X.shape\n",
    "    theta = theta.reshape((n,1))\n",
    "    y = y.reshape((m,1))\n",
    "    sigmoid_x_theta = sigmoid(X.dot(theta))\n",
    "    grad = ((X.T).dot(sigmoid_x_theta-y))/m\n",
    "    return grad\n",
    "\n",
    "def threshold(hypothesis):\n",
    "    m = len(hypothesis)\n",
    "    result = []\n",
    "    for x in range(m):\n",
    "        if hypothesis[x] >= 0.5:\n",
    "            result.append(1)\n",
    "        else:\n",
    "            result.append(0)\n",
    "    result_vector = np.array(result)\n",
    "    #result_vector = result_vector.reshape((m,1))\n",
    "    return result_vector\n",
    "\n",
    "### Batch Gradient Descent for Logistic Regression\n",
    "\n",
    "def log_bgd(theta, X, y, n_iter=1000, eta=0.1):\n",
    "    for iteration in range(n_iter):\n",
    "        theta = theta - (eta * gradient(theta, X, y))\n",
    "        \n",
    "    return theta"
   ]
  },
  {
   "cell_type": "markdown",
   "metadata": {},
   "source": [
    "Let's check to see what the cost function with our initial theta:"
   ]
  },
  {
   "cell_type": "code",
   "execution_count": 21,
   "metadata": {
    "collapsed": false
   },
   "outputs": [
    {
     "data": {
      "text/plain": [
       "0.69314718055994529"
      ]
     },
     "execution_count": 21,
     "metadata": {},
     "output_type": "execute_result"
    }
   ],
   "source": [
    "cost_function(theta, train_X_scaled, train_y)"
   ]
  },
  {
   "cell_type": "markdown",
   "metadata": {},
   "source": [
    "Now let's run batch gradient descent to optimize theta:"
   ]
  },
  {
   "cell_type": "code",
   "execution_count": 22,
   "metadata": {
    "collapsed": false
   },
   "outputs": [
    {
     "data": {
      "text/plain": [
       "array([[-2.78455178],\n",
       "       [-0.52070608],\n",
       "       [-1.69452189],\n",
       "       [ 2.39621901],\n",
       "       [ 3.92959938]])"
      ]
     },
     "execution_count": 22,
     "metadata": {},
     "output_type": "execute_result"
    }
   ],
   "source": [
    "new_theta = log_bgd(theta, train_X_scaled, train_y)\n",
    "new_theta"
   ]
  },
  {
   "cell_type": "code",
   "execution_count": 23,
   "metadata": {
    "collapsed": false
   },
   "outputs": [
    {
     "data": {
      "text/plain": [
       "0.28360562319264415"
      ]
     },
     "execution_count": 23,
     "metadata": {},
     "output_type": "execute_result"
    }
   ],
   "source": [
    "cost_function(new_theta, train_X_scaled, train_y)"
   ]
  },
  {
   "cell_type": "markdown",
   "metadata": {},
   "source": [
    "Much better! Now let's see the accuracy that these parameters score in the logistic regression:"
   ]
  },
  {
   "cell_type": "code",
   "execution_count": 24,
   "metadata": {
    "collapsed": false
   },
   "outputs": [
    {
     "data": {
      "text/plain": [
       "0.97499999999999998"
      ]
     },
     "execution_count": 24,
     "metadata": {},
     "output_type": "execute_result"
    }
   ],
   "source": [
    "y_pred = threshold(hypothesis(train_X_scaled, new_theta))\n",
    "accuracy = (y_pred == train_y).mean()\n",
    "accuracy"
   ]
  },
  {
   "cell_type": "markdown",
   "metadata": {},
   "source": [
    "97%! It seems like the model fit the training set almost perfectly. But did it overfit?"
   ]
  },
  {
   "cell_type": "markdown",
   "metadata": {},
   "source": [
    "## Early Stopping to prevent Overfitting"
   ]
  },
  {
   "cell_type": "markdown",
   "metadata": {},
   "source": [
    "One way to regularize learning algorithms like Gradient Descent is to stop training as soon as the validation error reaches a minimum. To do this, you cumulatively increase the number of iterations that Gradient Descent takes during training. The accuracy on the training set and validation set will naturally go up over time as the model improves, but the validation set might begin to slightly dip again as it begins to overfit. Early stopping grabs the parameters of the model when the accuracy is at its maximum."
   ]
  },
  {
   "cell_type": "markdown",
   "metadata": {},
   "source": [
    "### Create validation set out of previous training set"
   ]
  },
  {
   "cell_type": "code",
   "execution_count": 25,
   "metadata": {
    "collapsed": true
   },
   "outputs": [],
   "source": [
    "for new_train_index, val_index in split.split(train_X_scaled, train_y):\n",
    "    new_train_X = train_X_scaled[new_train_index]\n",
    "    validation_X = train_X_scaled[val_index]"
   ]
  },
  {
   "cell_type": "code",
   "execution_count": 26,
   "metadata": {
    "collapsed": true
   },
   "outputs": [],
   "source": [
    "new_train_y = train_y[new_train_index]\n",
    "validation_y = train_y[val_index]"
   ]
  },
  {
   "cell_type": "code",
   "execution_count": 28,
   "metadata": {
    "collapsed": false,
    "scrolled": true
   },
   "outputs": [
    {
     "data": {
      "text/plain": [
       "((96, 5), (24, 5))"
      ]
     },
     "execution_count": 28,
     "metadata": {},
     "output_type": "execute_result"
    }
   ],
   "source": [
    "new_train_X.shape, validation_X.shape"
   ]
  },
  {
   "cell_type": "markdown",
   "metadata": {},
   "source": [
    "### Early Stopping algorithm"
   ]
  },
  {
   "cell_type": "code",
   "execution_count": 29,
   "metadata": {
    "collapsed": false
   },
   "outputs": [
    {
     "name": "stdout",
     "output_type": "stream",
     "text": [
      "0.333333333333\n",
      "0.666666666667\n",
      "0.708333333333\n",
      "0.75\n",
      "0.791666666667\n",
      "0.833333333333\n",
      "0.875\n",
      "0.916666666667\n",
      "0.958333333333\n",
      "1.0\n"
     ]
    }
   ],
   "source": [
    "val_acc = []\n",
    "train_acc = []\n",
    "\n",
    "best_accuracy = 0\n",
    "best_epoch = None\n",
    "best_model = None\n",
    "for epoch in range(1000):\n",
    "    model = log_bgd(theta, new_train_X, new_train_y, n_iter=epoch, eta=0.1)\n",
    "    y_val_predict = threshold(hypothesis(validation_X, model))\n",
    "    train_predict = threshold(hypothesis(new_train_X, model))\n",
    "    \n",
    "    accuracy = (y_val_predict == validation_y).mean()\n",
    "    train_accuracy = (train_predict == new_train_y).mean()\n",
    "    val_acc.append(accuracy)\n",
    "    train_acc.append(train_accuracy)\n",
    "    \n",
    "    if accuracy > best_accuracy:\n",
    "        print(accuracy)\n",
    "        best_accuracy = accuracy\n",
    "        best_epoch = epoch\n",
    "        best_model = model"
   ]
  },
  {
   "cell_type": "code",
   "execution_count": 30,
   "metadata": {
    "collapsed": false
   },
   "outputs": [
    {
     "data": {
      "text/plain": [
       "(1.0, 655, array([[-2.25323376],\n",
       "        [-0.40886589],\n",
       "        [-1.30523874],\n",
       "        [ 1.88729181],\n",
       "        [ 3.08139929]]))"
      ]
     },
     "execution_count": 30,
     "metadata": {},
     "output_type": "execute_result"
    }
   ],
   "source": [
    "best_accuracy, best_epoch, best_model"
   ]
  },
  {
   "cell_type": "markdown",
   "metadata": {},
   "source": [
    "Hmmm... It seems that with the smaller training set, the model can fit our mini validation set perfectly! Let's visualize what happened:"
   ]
  },
  {
   "cell_type": "code",
   "execution_count": 31,
   "metadata": {
    "collapsed": false
   },
   "outputs": [
    {
     "data": {
      "text/plain": [
       "<matplotlib.legend.Legend at 0x20b49e22ba8>"
      ]
     },
     "execution_count": 31,
     "metadata": {},
     "output_type": "execute_result"
    },
    {
     "data": {
      "image/png": "[encoded data removed]",
      "text/plain": [
       "<matplotlib.figure.Figure at 0x20b49da0898>"
      ]
     },
     "metadata": {},
     "output_type": "display_data"
    }
   ],
   "source": [
    "plt.figure(figsize=(13,7))\n",
    "iterations = np.arange(0, 1000, 1)\n",
    "ax = plt.subplot()\n",
    "ax.axis([0, 999, 0, 1.2])\n",
    "ax.plot(iterations, val_acc, 'r--', label='Validation Set')\n",
    "ax.plot(iterations, train_acc, 'b-', label='Training Set')\n",
    "ax.set_title('Accuracy Over Gradient Descent Iterations')\n",
    "ax.set_xlabel('Gradient Descent Iterations')\n",
    "ax.set_ylabel('Accuracy')\n",
    "ax.legend(loc='center', fontsize=14)"
   ]
  },
  {
   "cell_type": "markdown",
   "metadata": {},
   "source": [
    "We can see that the both the training and validation set accuracy were steadily increasing as the iterations of gradient descent increased. It seems like the fit on the training set is best arond 500 iterations, and then slightly declines towards 600. Around 650 iterations of gradient descent, the validation accuracy plateaued at a perfect score! **Wow!**\n",
    "\n",
    "Given the small amount of training data we have to work with, it seems as though there isn't any significant overfit on the training set. It doesn't really seem like Early Stopping achieved its intended goal here... Ah well."
   ]
  },
  {
   "cell_type": "markdown",
   "metadata": {},
   "source": [
    "## Evaluate on Test Set\n",
    "\n",
    "Lets evaluate the models we got from our Early Stopping (655 iterations) and Batch Gradient Descent (1000 iterations) and see if there's any real difference."
   ]
  },
  {
   "cell_type": "markdown",
   "metadata": {},
   "source": [
    "### Early Stopping"
   ]
  },
  {
   "cell_type": "code",
   "execution_count": 32,
   "metadata": {
    "collapsed": true
   },
   "outputs": [],
   "source": [
    "test_y_pred = threshold(hypothesis(test_X_scaled, best_model))\n",
    "accuracy = (test_y_pred == test_y).mean()"
   ]
  },
  {
   "cell_type": "code",
   "execution_count": 33,
   "metadata": {
    "collapsed": false
   },
   "outputs": [
    {
     "data": {
      "text/plain": [
       "0.33249144550474574"
      ]
     },
     "execution_count": 33,
     "metadata": {},
     "output_type": "execute_result"
    }
   ],
   "source": [
    "cost_function(best_model, test_X_scaled, test_y)"
   ]
  },
  {
   "cell_type": "code",
   "execution_count": 34,
   "metadata": {
    "collapsed": false
   },
   "outputs": [
    {
     "data": {
      "text/plain": [
       "0.96666666666666667"
      ]
     },
     "execution_count": 34,
     "metadata": {},
     "output_type": "execute_result"
    }
   ],
   "source": [
    "accuracy"
   ]
  },
  {
   "cell_type": "markdown",
   "metadata": {},
   "source": [
    "### Batch Gradient Descent"
   ]
  },
  {
   "cell_type": "code",
   "execution_count": 35,
   "metadata": {
    "collapsed": true
   },
   "outputs": [],
   "source": [
    "test_y_pred2 = threshold(hypothesis(test_X_scaled, new_theta))\n",
    "accuracy2 = (test_y_pred2 == test_y).mean()"
   ]
  },
  {
   "cell_type": "code",
   "execution_count": 36,
   "metadata": {
    "collapsed": false
   },
   "outputs": [
    {
     "data": {
      "text/plain": [
       "0.29516247852754629"
      ]
     },
     "execution_count": 36,
     "metadata": {},
     "output_type": "execute_result"
    }
   ],
   "source": [
    "cost_function(new_theta, test_X_scaled, test_y)"
   ]
  },
  {
   "cell_type": "code",
   "execution_count": 37,
   "metadata": {
    "collapsed": false
   },
   "outputs": [
    {
     "data": {
      "text/plain": [
       "0.96666666666666667"
      ]
     },
     "execution_count": 37,
     "metadata": {},
     "output_type": "execute_result"
    }
   ],
   "source": [
    "accuracy2"
   ]
  },
  {
   "cell_type": "markdown",
   "metadata": {},
   "source": [
    "No difference in terms of accuracy! It seems that 650 iterations of Gradient Descent is enough to achieve the best result that a barebones Logistic Regression can muster with these features."
   ]
  },
  {
   "cell_type": "code",
   "execution_count": 38,
   "metadata": {
    "collapsed": false
   },
   "outputs": [
    {
     "data": {
      "text/plain": [
       "array([[-2.25323376],\n",
       "       [-0.40886589],\n",
       "       [-1.30523874],\n",
       "       [ 1.88729181],\n",
       "       [ 3.08139929]])"
      ]
     },
     "execution_count": 38,
     "metadata": {},
     "output_type": "execute_result"
    }
   ],
   "source": [
    "best_model"
   ]
  },
  {
   "cell_type": "code",
   "execution_count": 39,
   "metadata": {
    "collapsed": false
   },
   "outputs": [
    {
     "data": {
      "text/plain": [
       "array([[-2.78455178],\n",
       "       [-0.52070608],\n",
       "       [-1.69452189],\n",
       "       [ 2.39621901],\n",
       "       [ 3.92959938]])"
      ]
     },
     "execution_count": 39,
     "metadata": {},
     "output_type": "execute_result"
    }
   ],
   "source": [
    "new_theta"
   ]
  }
 ],
 "metadata": {
  "kernelspec": {
   "display_name": "Python 3",
   "language": "python",
   "name": "python3"
  },
  "language_info": {
   "codemirror_mode": {
    "name": "ipython",
    "version": 3
   },
   "file_extension": ".py",
   "mimetype": "text/x-python",
   "name": "python",
   "nbconvert_exporter": "python",
   "pygments_lexer": "ipython3",
   "version": "3.6.0"
  }
 },
 "nbformat": 4,
 "nbformat_minor": 2
}
