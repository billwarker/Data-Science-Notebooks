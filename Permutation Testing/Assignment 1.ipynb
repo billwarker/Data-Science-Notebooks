{
 "cells": [
  {
   "cell_type": "markdown",
   "metadata": {},
   "source": [
    "# Assignment 1 - Will Barker"
   ]
  },
  {
   "cell_type": "code",
   "execution_count": 1,
   "metadata": {},
   "outputs": [],
   "source": [
    "import pandas as pd\n",
    "import numpy as np\n",
    "import matplotlib.pyplot as plt\n",
    "% matplotlib inline"
   ]
  },
  {
   "cell_type": "code",
   "execution_count": 2,
   "metadata": {},
   "outputs": [],
   "source": [
    "np.random.seed(95)"
   ]
  },
  {
   "cell_type": "code",
   "execution_count": 3,
   "metadata": {},
   "outputs": [
    {
     "data": {
      "text/html": [
       "<div>\n",
       "<style scoped>\n",
       "    .dataframe tbody tr th:only-of-type {\n",
       "        vertical-align: middle;\n",
       "    }\n",
       "\n",
       "    .dataframe tbody tr th {\n",
       "        vertical-align: top;\n",
       "    }\n",
       "\n",
       "    .dataframe thead th {\n",
       "        text-align: right;\n",
       "    }\n",
       "</style>\n",
       "<table border=\"1\" class=\"dataframe\">\n",
       "  <thead>\n",
       "    <tr style=\"text-align: right;\">\n",
       "      <th></th>\n",
       "      <th>Response</th>\n",
       "      <th>Treatment</th>\n",
       "    </tr>\n",
       "  </thead>\n",
       "  <tbody>\n",
       "    <tr>\n",
       "      <th>0</th>\n",
       "      <td>27</td>\n",
       "      <td>Beer</td>\n",
       "    </tr>\n",
       "    <tr>\n",
       "      <th>1</th>\n",
       "      <td>20</td>\n",
       "      <td>Beer</td>\n",
       "    </tr>\n",
       "    <tr>\n",
       "      <th>2</th>\n",
       "      <td>21</td>\n",
       "      <td>Beer</td>\n",
       "    </tr>\n",
       "    <tr>\n",
       "      <th>3</th>\n",
       "      <td>26</td>\n",
       "      <td>Beer</td>\n",
       "    </tr>\n",
       "    <tr>\n",
       "      <th>4</th>\n",
       "      <td>27</td>\n",
       "      <td>Beer</td>\n",
       "    </tr>\n",
       "  </tbody>\n",
       "</table>\n",
       "</div>"
      ],
      "text/plain": [
       "   Response Treatment\n",
       "0        27      Beer\n",
       "1        20      Beer\n",
       "2        21      Beer\n",
       "3        26      Beer\n",
       "4        27      Beer"
      ]
     },
     "execution_count": 3,
     "metadata": {},
     "output_type": "execute_result"
    }
   ],
   "source": [
    "df = pd.read_csv(\"mosquitos_data-2.csv\")\n",
    "df.head()"
   ]
  },
  {
   "cell_type": "markdown",
   "metadata": {},
   "source": [
    "### 1. Create side-by-side boxplots for the number of mosquitoes in each group (beer vs water)"
   ]
  },
  {
   "cell_type": "code",
   "execution_count": 4,
   "metadata": {
    "scrolled": false
   },
   "outputs": [
    {
     "data": {
      "text/plain": [
       "<matplotlib.axes._subplots.AxesSubplot at 0x7fb851061358>"
      ]
     },
     "execution_count": 4,
     "metadata": {},
     "output_type": "execute_result"
    },
    {
     "data": {
      "image/png": "[encoded data removed]",
      "text/plain": [
       "<Figure size 864x576 with 1 Axes>"
      ]
     },
     "metadata": {
      "needs_background": "light"
     },
     "output_type": "display_data"
    }
   ],
   "source": [
    "df.boxplot(\"Response\", by='Treatment', figsize=(12,8))"
   ]
  },
  {
   "cell_type": "markdown",
   "metadata": {},
   "source": [
    "### 2. Answer the question: What does the graph reveal about the data for both groups? Is there an association between beer consumption and attractiveness to mosquitoes?"
   ]
  },
  {
   "cell_type": "markdown",
   "metadata": {},
   "source": [
    "The boxplot visualizes key statistics in the distributions of the beer and water groups. The bottom and top whiskers of each boxplot show the range of values outside of the 1st and 3rd quartiles respectively. The boxes themselves show the interquartile range (range of values between 1st and 3rd quartiles), while the green line represents the distribution's median (2nd quartile).\n",
    "\n",
    "The boxplots reveal a sizeable difference between the median mosquitos of beer and water drinkers - 24 and 20. This provides some evidence towards the hypothesis that there is a difference between the groups.\n",
    "\n",
    "For beer drinkers, the boxplot shows that 50% of the sample results (data between the 1st and 3rd interquartile range) were between 20 and 27 mosquitos. This is a fairly large spread, suggesting a higher degree of uncertainty around 24 mosquitos being the population mean for beer drinkers.\n",
    "\n",
    "The interquartile range for water drinkers is slightly smaller, between 16 and 22 mosquitos. This range is also kind of big so it's hard to be too confident about our median being representative of the populatin.\n",
    "\n",
    "An overlap exists between the interquartile ranges of the two groups - there is some probability that these results could just be the result of noise from a single distribution (i.e. these results could be the result of random chance)."
   ]
  },
  {
   "cell_type": "markdown",
   "metadata": {},
   "source": [
    "### 3. Calculate basic statistics measures for each group: the mean, median, standard deviation and explain the numbers."
   ]
  },
  {
   "cell_type": "markdown",
   "metadata": {},
   "source": [
    "Mean - the average value in a set of data, the mean is a point statistic describing central tendency. Here, the average value of mosquitos in the beer and water samples are 23.6 and 19.22, respectively."
   ]
  },
  {
   "cell_type": "code",
   "execution_count": 5,
   "metadata": {},
   "outputs": [
    {
     "data": {
      "text/html": [
       "<div>\n",
       "<style scoped>\n",
       "    .dataframe tbody tr th:only-of-type {\n",
       "        vertical-align: middle;\n",
       "    }\n",
       "\n",
       "    .dataframe tbody tr th {\n",
       "        vertical-align: top;\n",
       "    }\n",
       "\n",
       "    .dataframe thead th {\n",
       "        text-align: right;\n",
       "    }\n",
       "</style>\n",
       "<table border=\"1\" class=\"dataframe\">\n",
       "  <thead>\n",
       "    <tr style=\"text-align: right;\">\n",
       "      <th></th>\n",
       "      <th>Response</th>\n",
       "    </tr>\n",
       "    <tr>\n",
       "      <th>Treatment</th>\n",
       "      <th></th>\n",
       "    </tr>\n",
       "  </thead>\n",
       "  <tbody>\n",
       "    <tr>\n",
       "      <th>Beer</th>\n",
       "      <td>23.600000</td>\n",
       "    </tr>\n",
       "    <tr>\n",
       "      <th>Water</th>\n",
       "      <td>19.222222</td>\n",
       "    </tr>\n",
       "  </tbody>\n",
       "</table>\n",
       "</div>"
      ],
      "text/plain": [
       "            Response\n",
       "Treatment           \n",
       "Beer       23.600000\n",
       "Water      19.222222"
      ]
     },
     "execution_count": 5,
     "metadata": {},
     "output_type": "execute_result"
    }
   ],
   "source": [
    "groups = df.groupby(\"Treatment\")\n",
    "group_means = groups.mean()\n",
    "group_means"
   ]
  },
  {
   "cell_type": "markdown",
   "metadata": {},
   "source": [
    "Median - the \"middle\" number of mosquitos in an ordered list of each group's samples. Another way of expressing central tendency, but less sensitive to outliers than the mean. In this case the median is close to the mean, sitting at 24 mosquitos for the beer samples and 20 mosquitos for the water samples."
   ]
  },
  {
   "cell_type": "code",
   "execution_count": 6,
   "metadata": {},
   "outputs": [
    {
     "data": {
      "text/html": [
       "<div>\n",
       "<style scoped>\n",
       "    .dataframe tbody tr th:only-of-type {\n",
       "        vertical-align: middle;\n",
       "    }\n",
       "\n",
       "    .dataframe tbody tr th {\n",
       "        vertical-align: top;\n",
       "    }\n",
       "\n",
       "    .dataframe thead th {\n",
       "        text-align: right;\n",
       "    }\n",
       "</style>\n",
       "<table border=\"1\" class=\"dataframe\">\n",
       "  <thead>\n",
       "    <tr style=\"text-align: right;\">\n",
       "      <th></th>\n",
       "      <th>Response</th>\n",
       "    </tr>\n",
       "    <tr>\n",
       "      <th>Treatment</th>\n",
       "      <th></th>\n",
       "    </tr>\n",
       "  </thead>\n",
       "  <tbody>\n",
       "    <tr>\n",
       "      <th>Beer</th>\n",
       "      <td>24</td>\n",
       "    </tr>\n",
       "    <tr>\n",
       "      <th>Water</th>\n",
       "      <td>20</td>\n",
       "    </tr>\n",
       "  </tbody>\n",
       "</table>\n",
       "</div>"
      ],
      "text/plain": [
       "           Response\n",
       "Treatment          \n",
       "Beer             24\n",
       "Water            20"
      ]
     },
     "execution_count": 6,
     "metadata": {},
     "output_type": "execute_result"
    }
   ],
   "source": [
    "group_medians = groups.median()\n",
    "group_medians"
   ]
  },
  {
   "cell_type": "markdown",
   "metadata": {},
   "source": [
    "Standard Deviation - a measure of dispersion in the group's distributions. A smaller standard deviation indicates that the data tends to be closer to the mean, while a larger standard deviation indicates that it's more spread out. The standard deviation is larger for beer drinkers, indicating that the data is more spread out among those samples."
   ]
  },
  {
   "cell_type": "code",
   "execution_count": 7,
   "metadata": {},
   "outputs": [
    {
     "data": {
      "text/html": [
       "<div>\n",
       "<style scoped>\n",
       "    .dataframe tbody tr th:only-of-type {\n",
       "        vertical-align: middle;\n",
       "    }\n",
       "\n",
       "    .dataframe tbody tr th {\n",
       "        vertical-align: top;\n",
       "    }\n",
       "\n",
       "    .dataframe thead th {\n",
       "        text-align: right;\n",
       "    }\n",
       "</style>\n",
       "<table border=\"1\" class=\"dataframe\">\n",
       "  <thead>\n",
       "    <tr style=\"text-align: right;\">\n",
       "      <th></th>\n",
       "      <th>Response</th>\n",
       "    </tr>\n",
       "    <tr>\n",
       "      <th>Treatment</th>\n",
       "      <th></th>\n",
       "    </tr>\n",
       "  </thead>\n",
       "  <tbody>\n",
       "    <tr>\n",
       "      <th>Beer</th>\n",
       "      <td>4.133199</td>\n",
       "    </tr>\n",
       "    <tr>\n",
       "      <th>Water</th>\n",
       "      <td>3.671120</td>\n",
       "    </tr>\n",
       "  </tbody>\n",
       "</table>\n",
       "</div>"
      ],
      "text/plain": [
       "           Response\n",
       "Treatment          \n",
       "Beer       4.133199\n",
       "Water      3.671120"
      ]
     },
     "execution_count": 7,
     "metadata": {},
     "output_type": "execute_result"
    }
   ],
   "source": [
    "group_std = groups.std()\n",
    "group_std"
   ]
  },
  {
   "cell_type": "markdown",
   "metadata": {},
   "source": [
    "### 4. Write the code to implement the data simulation demonstrated in the above mentioned video. Calculate the probability of obtaining the experiment outcome.\n",
    "\n",
    "We conduct a random permutation test to see if a difference of 4.4 mosquitos between the groups is significant.\n",
    "\n",
    "The **Null Hypothesis** in this test is that there is no difference between the groups.\n",
    "The **Alternate Hypothesis** is that there is a difference.\n",
    "\n",
    "By randomly shuffling the data, reassigning into the beer and water labels, and taking the difference between the two means, we build the sampling distribution of the Null Hypothesis (that there is no difference between the groups). We can then see whether a difference of 4.4 mosquitos is either large enough to be significantly rare or explainable by randomness."
   ]
  },
  {
   "cell_type": "code",
   "execution_count": 8,
   "metadata": {},
   "outputs": [],
   "source": [
    "mosquito_diff = 4.4                         # Is this difference between our original beer\n",
    "                                            # and water samples statistically significant?\n",
    "\n",
    "n_trials = 50000                            # Run 50,000 random permutations\n",
    "n_beer = len(df[df.Treatment == 'Beer'])    # We can split our shuffled data at the point of the first n_beer values\n",
    "responses = df.Response"
   ]
  },
  {
   "cell_type": "code",
   "execution_count": 9,
   "metadata": {},
   "outputs": [],
   "source": [
    "def shuffle_and_calculate_means():\n",
    "    shuffled_data = np.random.permutation(responses)\n",
    "    beer, water = shuffled_data[:n_beer], shuffled_data[n_beer:]   # The new data for beer and water groups\n",
    "    beer_mean, water_mean = beer.mean(), water.mean()              # Calculate each group's mean\n",
    "    \n",
    "    return beer_mean, water_mean"
   ]
  },
  {
   "cell_type": "code",
   "execution_count": 19,
   "metadata": {},
   "outputs": [],
   "source": [
    "deltas = []\n",
    "for _ in range(n_trials):\n",
    "    beer, water = shuffle_and_calculate_means()\n",
    "    deltas.append(beer - water)                    # Take the difference between both groups\n",
    "\n",
    "delta_permutations = pd.Series(deltas)"
   ]
  },
  {
   "cell_type": "code",
   "execution_count": 20,
   "metadata": {},
   "outputs": [
    {
     "data": {
      "text/plain": [
       "Text(0.5,1,'Histogram of delta between beer and water means')"
      ]
     },
     "execution_count": 20,
     "metadata": {},
     "output_type": "execute_result"
    },
    {
     "data": {
      "image/png": "[encoded data removed]",
      "text/plain": [
       "<Figure size 864x576 with 1 Axes>"
      ]
     },
     "metadata": {
      "needs_background": "light"
     },
     "output_type": "display_data"
    }
   ],
   "source": [
    "delta_permutations.hist(bins=30, figsize=(12,8))\n",
    "plt.axvline(mosquito_diff, c='r')\n",
    "plt.title(\"Histogram of delta between beer and water means\")"
   ]
  },
  {
   "cell_type": "markdown",
   "metadata": {},
   "source": [
    "The histogram of deltas shows that under the Null Hypothesis, the deltas are unsurprisingly centered around 0. Deltas of 4.4 or higher hardly ever occurred, with that point being designated by the red vertical line at the right tail. Therefore, we can conclude that under the Null Hypothesis a delta of 4.4 is statistically significant."
   ]
  },
  {
   "cell_type": "code",
   "execution_count": 21,
   "metadata": {},
   "outputs": [],
   "source": [
    "n_critical = len(delta_permutations[delta_permutations >= mosquito_diff]) # How many delta were equal or greater\n",
    "pct = round((n_critical/len(delta_permutations)) * 100, 3)                # than 4.4?"
   ]
  },
  {
   "cell_type": "code",
   "execution_count": 22,
   "metadata": {},
   "outputs": [
    {
     "name": "stdout",
     "output_type": "stream",
     "text": [
      "# permutations equal or greater than origial sample difference: 24 (0.048% of total)\n"
     ]
    }
   ],
   "source": [
    "print(\"# permutations equal or greater than origial sample difference: {} ({}% of total)\"\\\n",
    "      .format(n_critical, pct))"
   ]
  },
  {
   "cell_type": "markdown",
   "metadata": {},
   "source": [
    "Only 13 out of our 50,000 random permutations yielded a difference greater than 4.4. Given the Null Hypothesis, that there is no difference between beer and water drinkers, this result is extremely unlikely to occur. Therefore we reject the Null Hypothesis in favour of our Alternative Hypothesis, which seems to be more representative of reality: **there is a difference between beer and water drinkers.**"
   ]
  }
 ],
 "metadata": {
  "kernelspec": {
   "display_name": "Python 3",
   "language": "python",
   "name": "python3"
  },
  "language_info": {
   "codemirror_mode": {
    "name": "ipython",
    "version": 3
   },
   "file_extension": ".py",
   "mimetype": "text/x-python",
   "name": "python",
   "nbconvert_exporter": "python",
   "pygments_lexer": "ipython3",
   "version": "3.7.2"
  }
 },
 "nbformat": 4,
 "nbformat_minor": 2
}
