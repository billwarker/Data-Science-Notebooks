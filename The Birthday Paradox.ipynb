{
 "cells": [
  {
   "cell_type": "markdown",
   "metadata": {},
   "source": [
    "# The Birthday Paradox\n",
    "\n",
    "The Birthday Paradox asks the question: in a set of N people, what is the probability that at least two people will have the same birthday?\n",
    "\n",
    "I will approximate this probability for a class of 45 students by generating randomly generated birthday lists and counting the  number of successful samples (i.e. at least two matching days from 1-366*).\n",
    "\n",
    "\\**366 possible birthdays including leap years' February 29th.*"
   ]
  },
  {
   "cell_type": "markdown",
   "metadata": {},
   "source": [
    "## 1. Generate random sample lists"
   ]
  },
  {
   "cell_type": "code",
   "execution_count": 1,
   "metadata": {},
   "outputs": [],
   "source": [
    "from random import randint"
   ]
  },
  {
   "cell_type": "code",
   "execution_count": 2,
   "metadata": {},
   "outputs": [],
   "source": [
    "def generate_samples(num_samples, sample_size):\n",
    "    master = []\n",
    "    for i in range(num_samples):\n",
    "        sample = []\n",
    "        for x in range(sample_size):\n",
    "            birthday = randint(1, 366) # 366 possible birthdays\n",
    "            sample.append(birthday)\n",
    "        master.append(sample)\n",
    "    return master"
   ]
  },
  {
   "cell_type": "code",
   "execution_count": 3,
   "metadata": {},
   "outputs": [],
   "source": [
    "three_samples = generate_samples(3, 45)"
   ]
  },
  {
   "cell_type": "code",
   "execution_count": 4,
   "metadata": {},
   "outputs": [
    {
     "data": {
      "text/plain": [
       "[[296,\n",
       "  221,\n",
       "  192,\n",
       "  255,\n",
       "  62,\n",
       "  199,\n",
       "  89,\n",
       "  223,\n",
       "  80,\n",
       "  153,\n",
       "  150,\n",
       "  232,\n",
       "  65,\n",
       "  238,\n",
       "  52,\n",
       "  51,\n",
       "  74,\n",
       "  349,\n",
       "  76,\n",
       "  264,\n",
       "  39,\n",
       "  237,\n",
       "  104,\n",
       "  225,\n",
       "  274,\n",
       "  168,\n",
       "  310,\n",
       "  27,\n",
       "  357,\n",
       "  70,\n",
       "  51,\n",
       "  123,\n",
       "  78,\n",
       "  23,\n",
       "  51,\n",
       "  205,\n",
       "  305,\n",
       "  301,\n",
       "  129,\n",
       "  74,\n",
       "  309,\n",
       "  232,\n",
       "  77,\n",
       "  336,\n",
       "  137],\n",
       " [348,\n",
       "  224,\n",
       "  357,\n",
       "  287,\n",
       "  73,\n",
       "  79,\n",
       "  167,\n",
       "  118,\n",
       "  233,\n",
       "  312,\n",
       "  100,\n",
       "  13,\n",
       "  169,\n",
       "  149,\n",
       "  278,\n",
       "  61,\n",
       "  95,\n",
       "  120,\n",
       "  318,\n",
       "  204,\n",
       "  170,\n",
       "  12,\n",
       "  290,\n",
       "  364,\n",
       "  30,\n",
       "  102,\n",
       "  121,\n",
       "  313,\n",
       "  335,\n",
       "  229,\n",
       "  207,\n",
       "  292,\n",
       "  109,\n",
       "  163,\n",
       "  123,\n",
       "  233,\n",
       "  113,\n",
       "  326,\n",
       "  129,\n",
       "  164,\n",
       "  282,\n",
       "  257,\n",
       "  120,\n",
       "  107,\n",
       "  131],\n",
       " [250,\n",
       "  291,\n",
       "  214,\n",
       "  311,\n",
       "  284,\n",
       "  246,\n",
       "  153,\n",
       "  359,\n",
       "  137,\n",
       "  140,\n",
       "  14,\n",
       "  36,\n",
       "  201,\n",
       "  82,\n",
       "  326,\n",
       "  280,\n",
       "  251,\n",
       "  18,\n",
       "  109,\n",
       "  205,\n",
       "  150,\n",
       "  98,\n",
       "  184,\n",
       "  165,\n",
       "  335,\n",
       "  217,\n",
       "  261,\n",
       "  254,\n",
       "  281,\n",
       "  104,\n",
       "  268,\n",
       "  243,\n",
       "  252,\n",
       "  94,\n",
       "  87,\n",
       "  64,\n",
       "  304,\n",
       "  171,\n",
       "  321,\n",
       "  349,\n",
       "  205,\n",
       "  320,\n",
       "  47,\n",
       "  35,\n",
       "  289]]"
      ]
     },
     "execution_count": 4,
     "metadata": {},
     "output_type": "execute_result"
    }
   ],
   "source": [
    "three_samples"
   ]
  },
  {
   "cell_type": "markdown",
   "metadata": {},
   "source": [
    "## 2. Check for duplicate birthdays in each sample list"
   ]
  },
  {
   "cell_type": "code",
   "execution_count": 5,
   "metadata": {},
   "outputs": [],
   "source": [
    "def has_duplicates(sample, print_results=True):\n",
    "    check = []\n",
    "    duplicates = []\n",
    "    for birthday in sample:\n",
    "        if birthday in check:\n",
    "            duplicates.append(birthday)\n",
    "        check.append(birthday)\n",
    "    if print_results:\n",
    "        print(\"Duplicate birthdays: {}\".format(str(duplicates)))\n",
    "    return len(duplicates) > 0"
   ]
  },
  {
   "cell_type": "code",
   "execution_count": 6,
   "metadata": {},
   "outputs": [
    {
     "name": "stdout",
     "output_type": "stream",
     "text": [
      "Duplicate birthdays: [107, 241, 241]\n"
     ]
    },
    {
     "data": {
      "text/plain": [
       "True"
      ]
     },
     "execution_count": 6,
     "metadata": {},
     "output_type": "execute_result"
    }
   ],
   "source": [
    "one_sample = generate_samples(1, 45)\n",
    "has_duplicates(one_sample[0]) # index placed at 0 as generate_samples creates a nested list"
   ]
  },
  {
   "cell_type": "code",
   "execution_count": 7,
   "metadata": {},
   "outputs": [
    {
     "name": "stdout",
     "output_type": "stream",
     "text": [
      "Duplicate birthdays: [51, 51, 74, 232]\n",
      "Duplicate birthdays: [233, 120]\n",
      "Duplicate birthdays: [205]\n"
     ]
    }
   ],
   "source": [
    "for sample in three_samples:\n",
    "    has_duplicates(sample)"
   ]
  },
  {
   "cell_type": "markdown",
   "metadata": {},
   "source": [
    "## 3. Run experiments with large sample sizes to find probabilities"
   ]
  },
  {
   "cell_type": "markdown",
   "metadata": {},
   "source": [
    "The law of large numbers in statistics tells us that as the number of samples approaches infinity, the ratio of outcomes will move towards the expected value for the distribution. By calculating the mean of a large number of samples, we can get a close approximation of the probability that at least two students will have the same birthday in **any** given sample."
   ]
  },
  {
   "cell_type": "code",
   "execution_count": 8,
   "metadata": {},
   "outputs": [],
   "source": [
    "def experiment(sample_sizes, class_size):\n",
    "    print(\"Conducting this experiment with sample classes of {} students.\\n\".format(str(class_size)))\n",
    "    probabilities = []\n",
    "    for ix, size in enumerate(sample_sizes):\n",
    "        duplicates = 0\n",
    "        test = generate_samples(size, class_size)\n",
    "        for sample in test:\n",
    "            if has_duplicates(sample, print_results=False): # Not going to print results for thousands of samples\n",
    "                duplicates += 1\n",
    "        duplicates_pct = round((duplicates/size), 4)*100\n",
    "        print(\"Test: {} | Number of Samples: {} | Duplicates: {} ({}%)\".format((ix + 1), size, duplicates, duplicates_pct))"
   ]
  },
  {
   "cell_type": "markdown",
   "metadata": {},
   "source": [
    "### 45 Students"
   ]
  },
  {
   "cell_type": "code",
   "execution_count": 9,
   "metadata": {
    "scrolled": true
   },
   "outputs": [
    {
     "name": "stdout",
     "output_type": "stream",
     "text": [
      "Conducting this experiment with sample classes of 45 students.\n",
      "\n",
      "Test: 1 | Number of Samples: 1 | Duplicates: 1 (100.0%)\n",
      "Test: 2 | Number of Samples: 10 | Duplicates: 10 (100.0%)\n",
      "Test: 3 | Number of Samples: 100 | Duplicates: 91 (91.0%)\n",
      "Test: 4 | Number of Samples: 1000 | Duplicates: 944 (94.39999999999999%)\n",
      "Test: 5 | Number of Samples: 10000 | Duplicates: 9390 (93.89999999999999%)\n",
      "Test: 6 | Number of Samples: 100000 | Duplicates: 93962 (93.96%)\n"
     ]
    }
   ],
   "source": [
    "sample_sizes = [1, 10, 100, 1000, 10000, 100000]\n",
    "experiment(sample_sizes, 45)"
   ]
  },
  {
   "cell_type": "markdown",
   "metadata": {},
   "source": [
    "With 100,000 samples we get a fairly close approximation of the underlying probability - with a class of 45 students, there's a 94% chance that at least two of students will have the same birthday.\n",
    "\n",
    "Here's the same experiment being run with different class sizes:"
   ]
  },
  {
   "cell_type": "markdown",
   "metadata": {},
   "source": [
    "### 20 Students"
   ]
  },
  {
   "cell_type": "code",
   "execution_count": 10,
   "metadata": {},
   "outputs": [
    {
     "name": "stdout",
     "output_type": "stream",
     "text": [
      "Conducting this experiment with sample classes of 20 students.\n",
      "\n",
      "Test: 1 | Number of Samples: 1 | Duplicates: 1 (100.0%)\n",
      "Test: 2 | Number of Samples: 10 | Duplicates: 6 (60.0%)\n",
      "Test: 3 | Number of Samples: 100 | Duplicates: 46 (46.0%)\n",
      "Test: 4 | Number of Samples: 1000 | Duplicates: 402 (40.2%)\n",
      "Test: 5 | Number of Samples: 10000 | Duplicates: 4150 (41.5%)\n",
      "Test: 6 | Number of Samples: 100000 | Duplicates: 41140 (41.14%)\n"
     ]
    }
   ],
   "source": [
    "experiment(sample_sizes, 20)"
   ]
  },
  {
   "cell_type": "markdown",
   "metadata": {},
   "source": [
    "### 55 Students"
   ]
  },
  {
   "cell_type": "code",
   "execution_count": 12,
   "metadata": {},
   "outputs": [
    {
     "name": "stdout",
     "output_type": "stream",
     "text": [
      "Conducting this experiment with sample classes of 55 students.\n",
      "\n",
      "Test: 1 | Number of Samples: 1 | Duplicates: 1 (100.0%)\n",
      "Test: 2 | Number of Samples: 10 | Duplicates: 10 (100.0%)\n",
      "Test: 3 | Number of Samples: 100 | Duplicates: 100 (100.0%)\n",
      "Test: 4 | Number of Samples: 1000 | Duplicates: 985 (98.5%)\n",
      "Test: 5 | Number of Samples: 10000 | Duplicates: 9861 (98.61%)\n",
      "Test: 6 | Number of Samples: 100000 | Duplicates: 98592 (98.59%)\n"
     ]
    }
   ],
   "source": [
    "experiment(sample_sizes, 55)"
   ]
  },
  {
   "cell_type": "code",
   "execution_count": 14,
   "metadata": {},
   "outputs": [
    {
     "name": "stdout",
     "output_type": "stream",
     "text": [
      "Conducting this experiment with sample classes of 70 students.\n",
      "\n",
      "Test: 1 | Number of Samples: 1 | Duplicates: 1 (100.0%)\n",
      "Test: 2 | Number of Samples: 10 | Duplicates: 10 (100.0%)\n",
      "Test: 3 | Number of Samples: 100 | Duplicates: 100 (100.0%)\n",
      "Test: 4 | Number of Samples: 1000 | Duplicates: 1000 (100.0%)\n",
      "Test: 5 | Number of Samples: 10000 | Duplicates: 9992 (99.92%)\n",
      "Test: 6 | Number of Samples: 100000 | Duplicates: 99915 (99.91%)\n"
     ]
    }
   ],
   "source": [
    "experiment(sample_sizes, 70)"
   ]
  },
  {
   "cell_type": "code",
   "execution_count": null,
   "metadata": {},
   "outputs": [],
   "source": []
  }
 ],
 "metadata": {
  "kernelspec": {
   "display_name": "Python 3",
   "language": "python",
   "name": "python3"
  },
  "language_info": {
   "codemirror_mode": {
    "name": "ipython",
    "version": 3
   },
   "file_extension": ".py",
   "mimetype": "text/x-python",
   "name": "python",
   "nbconvert_exporter": "python",
   "pygments_lexer": "ipython3",
   "version": "3.6.4"
  }
 },
 "nbformat": 4,
 "nbformat_minor": 2
}
