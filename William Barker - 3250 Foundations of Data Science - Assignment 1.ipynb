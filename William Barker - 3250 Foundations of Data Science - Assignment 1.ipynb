{
 "cells": [
  {
   "cell_type": "markdown",
   "metadata": {},
   "source": [
    "# The Birthday Paradox\n",
    "\n",
    "The Birthday Paradox asks the question: in a set of N people, what is the probability that at least two people will have the same birthday?\n",
    "\n",
    "I will approximate this probability for a class of 45 students by generating randomly generated birthday lists and counting the  number of successful samples (i.e. at least two matching days from 1-366*).\n",
    "\n",
    "\\**366 possible birthdays including leap years' February 29th.*"
   ]
  },
  {
   "cell_type": "markdown",
   "metadata": {},
   "source": [
    "## 1. Generate random sample lists"
   ]
  },
  {
   "cell_type": "code",
   "execution_count": 1,
   "metadata": {},
   "outputs": [],
   "source": [
    "from random import randint"
   ]
  },
  {
   "cell_type": "code",
   "execution_count": 2,
   "metadata": {},
   "outputs": [],
   "source": [
    "def generate_samples(num_samples, sample_size):\n",
    "    master = []\n",
    "    for i in range(num_samples):\n",
    "        sample = []\n",
    "        for x in range(sample_size):\n",
    "            birthday = randint(1, 366) # 366 possible birthdays\n",
    "            sample.append(birthday)\n",
    "        master.append(sample)\n",
    "    return master"
   ]
  },
  {
   "cell_type": "code",
   "execution_count": 3,
   "metadata": {},
   "outputs": [],
   "source": [
    "three_samples = generate_samples(3, 45)"
   ]
  },
  {
   "cell_type": "code",
   "execution_count": 4,
   "metadata": {},
   "outputs": [
    {
     "data": {
      "text/plain": [
       "[[347,\n",
       "  311,\n",
       "  253,\n",
       "  44,\n",
       "  305,\n",
       "  55,\n",
       "  142,\n",
       "  85,\n",
       "  346,\n",
       "  262,\n",
       "  138,\n",
       "  42,\n",
       "  90,\n",
       "  207,\n",
       "  5,\n",
       "  50,\n",
       "  180,\n",
       "  219,\n",
       "  83,\n",
       "  67,\n",
       "  21,\n",
       "  108,\n",
       "  348,\n",
       "  25,\n",
       "  132,\n",
       "  197,\n",
       "  23,\n",
       "  133,\n",
       "  286,\n",
       "  28,\n",
       "  315,\n",
       "  171,\n",
       "  328,\n",
       "  285,\n",
       "  248,\n",
       "  319,\n",
       "  190,\n",
       "  214,\n",
       "  155,\n",
       "  93,\n",
       "  247,\n",
       "  323,\n",
       "  284,\n",
       "  50,\n",
       "  303],\n",
       " [55,\n",
       "  330,\n",
       "  48,\n",
       "  258,\n",
       "  240,\n",
       "  231,\n",
       "  30,\n",
       "  292,\n",
       "  174,\n",
       "  1,\n",
       "  15,\n",
       "  82,\n",
       "  151,\n",
       "  278,\n",
       "  111,\n",
       "  15,\n",
       "  265,\n",
       "  211,\n",
       "  181,\n",
       "  203,\n",
       "  347,\n",
       "  361,\n",
       "  249,\n",
       "  138,\n",
       "  77,\n",
       "  189,\n",
       "  297,\n",
       "  92,\n",
       "  252,\n",
       "  232,\n",
       "  123,\n",
       "  107,\n",
       "  24,\n",
       "  343,\n",
       "  2,\n",
       "  176,\n",
       "  244,\n",
       "  164,\n",
       "  82,\n",
       "  233,\n",
       "  167,\n",
       "  172,\n",
       "  279,\n",
       "  66,\n",
       "  302],\n",
       " [111,\n",
       "  182,\n",
       "  38,\n",
       "  209,\n",
       "  334,\n",
       "  243,\n",
       "  299,\n",
       "  123,\n",
       "  278,\n",
       "  12,\n",
       "  320,\n",
       "  182,\n",
       "  31,\n",
       "  138,\n",
       "  29,\n",
       "  76,\n",
       "  321,\n",
       "  330,\n",
       "  1,\n",
       "  37,\n",
       "  154,\n",
       "  45,\n",
       "  326,\n",
       "  342,\n",
       "  141,\n",
       "  41,\n",
       "  184,\n",
       "  161,\n",
       "  123,\n",
       "  192,\n",
       "  7,\n",
       "  109,\n",
       "  144,\n",
       "  8,\n",
       "  96,\n",
       "  222,\n",
       "  37,\n",
       "  203,\n",
       "  232,\n",
       "  135,\n",
       "  333,\n",
       "  197,\n",
       "  329,\n",
       "  248,\n",
       "  277]]"
      ]
     },
     "execution_count": 4,
     "metadata": {},
     "output_type": "execute_result"
    }
   ],
   "source": [
    "three_samples"
   ]
  },
  {
   "cell_type": "markdown",
   "metadata": {},
   "source": [
    "## 2. Check for duplicate birthdays in each sample list"
   ]
  },
  {
   "cell_type": "code",
   "execution_count": 5,
   "metadata": {},
   "outputs": [],
   "source": [
    "def has_duplicates(sample, print_results=True):\n",
    "    check = []\n",
    "    duplicates = []\n",
    "    for birthday in sample:\n",
    "        if birthday in check:\n",
    "            duplicates.append(birthday)\n",
    "        check.append(birthday)\n",
    "    if print_results:\n",
    "        print(\"Duplicate birthdays: {}\".format(str(duplicates)))\n",
    "    return len(duplicates) > 0"
   ]
  },
  {
   "cell_type": "code",
   "execution_count": 6,
   "metadata": {},
   "outputs": [
    {
     "name": "stdout",
     "output_type": "stream",
     "text": [
      "Duplicate birthdays: [236, 321]\n"
     ]
    },
    {
     "data": {
      "text/plain": [
       "True"
      ]
     },
     "execution_count": 6,
     "metadata": {},
     "output_type": "execute_result"
    }
   ],
   "source": [
    "one_sample = generate_samples(1, 45)\n",
    "has_duplicates(one_sample[0]) # index placed at 0 as generate_samples creates a nested list"
   ]
  },
  {
   "cell_type": "code",
   "execution_count": 7,
   "metadata": {},
   "outputs": [
    {
     "name": "stdout",
     "output_type": "stream",
     "text": [
      "Duplicate birthdays: [50]\n",
      "Duplicate birthdays: [15, 82]\n",
      "Duplicate birthdays: [182, 123, 37]\n"
     ]
    }
   ],
   "source": [
    "for sample in three_samples:\n",
    "    has_duplicates(sample)"
   ]
  },
  {
   "cell_type": "markdown",
   "metadata": {},
   "source": [
    "## 3. Run experiments with large sample sizes to find probabilities"
   ]
  },
  {
   "cell_type": "markdown",
   "metadata": {},
   "source": [
    "The law of large numbers in statistics tells us that as the number of samples approaches infinity, the ratio of outcomes will move towards the expected value for the distribution. By calculating the mean of a large number of samples, we can get a close approximation of the probability that at least two students will have the same birthday in **any** given sample."
   ]
  },
  {
   "cell_type": "code",
   "execution_count": 8,
   "metadata": {},
   "outputs": [],
   "source": [
    "def experiment(sample_sizes, class_size):\n",
    "    print(\"Conducting this experiment with sample classes of {} students.\\n\".format(str(class_size)))\n",
    "    probabilities = []\n",
    "    for ix, size in enumerate(sample_sizes):\n",
    "        duplicates = 0\n",
    "        test = generate_samples(size, class_size)\n",
    "        for sample in test:\n",
    "            if has_duplicates(sample, print_results=False): # Not going to print results for thousands of samples\n",
    "                duplicates += 1\n",
    "        duplicates_pct = round((duplicates/size), 4)*100\n",
    "        print(\"Test: {} | Number of Samples: {} | Duplicates: {} ({}%)\".format((ix + 1), size, duplicates, duplicates_pct))"
   ]
  },
  {
   "cell_type": "markdown",
   "metadata": {},
   "source": [
    "### 45 Students"
   ]
  },
  {
   "cell_type": "code",
   "execution_count": 9,
   "metadata": {
    "scrolled": true
   },
   "outputs": [
    {
     "name": "stdout",
     "output_type": "stream",
     "text": [
      "Conducting this experiment with sample classes of 45 students.\n",
      "\n",
      "Test: 1 | Number of Samples: 1 | Duplicates: 1 (100.0%)\n",
      "Test: 2 | Number of Samples: 10 | Duplicates: 10 (100.0%)\n",
      "Test: 3 | Number of Samples: 100 | Duplicates: 95 (95.0%)\n",
      "Test: 4 | Number of Samples: 1000 | Duplicates: 936 (93.60000000000001%)\n",
      "Test: 5 | Number of Samples: 10000 | Duplicates: 9387 (93.87%)\n",
      "Test: 6 | Number of Samples: 100000 | Duplicates: 93987 (93.99%)\n"
     ]
    }
   ],
   "source": [
    "sample_sizes = [1, 10, 100, 1000, 10000, 100000]\n",
    "experiment(sample_sizes, 45)"
   ]
  },
  {
   "cell_type": "markdown",
   "metadata": {},
   "source": [
    "With 100,000 samples we get a fairly close approximation of the underlying probability - with a class of 45 students, there's a 94% chance that at least two of students will have the same birthday.\n",
    "\n",
    "Here's the same experiment being run with different class sizes:"
   ]
  },
  {
   "cell_type": "markdown",
   "metadata": {},
   "source": [
    "### 20 Students"
   ]
  },
  {
   "cell_type": "code",
   "execution_count": 10,
   "metadata": {},
   "outputs": [
    {
     "name": "stdout",
     "output_type": "stream",
     "text": [
      "Conducting this experiment with sample classes of 20 students.\n",
      "\n",
      "Test: 1 | Number of Samples: 1 | Duplicates: 0 (0.0%)\n",
      "Test: 2 | Number of Samples: 10 | Duplicates: 3 (30.0%)\n",
      "Test: 3 | Number of Samples: 100 | Duplicates: 39 (39.0%)\n",
      "Test: 4 | Number of Samples: 1000 | Duplicates: 400 (40.0%)\n",
      "Test: 5 | Number of Samples: 10000 | Duplicates: 4184 (41.839999999999996%)\n",
      "Test: 6 | Number of Samples: 100000 | Duplicates: 41322 (41.32%)\n"
     ]
    }
   ],
   "source": [
    "experiment(sample_sizes, 20)"
   ]
  },
  {
   "cell_type": "markdown",
   "metadata": {},
   "source": [
    "### 55 Students"
   ]
  },
  {
   "cell_type": "code",
   "execution_count": 11,
   "metadata": {},
   "outputs": [
    {
     "name": "stdout",
     "output_type": "stream",
     "text": [
      "Conducting this experiment with sample classes of 55 students.\n",
      "\n",
      "Test: 1 | Number of Samples: 1 | Duplicates: 1 (100.0%)\n",
      "Test: 2 | Number of Samples: 10 | Duplicates: 10 (100.0%)\n",
      "Test: 3 | Number of Samples: 100 | Duplicates: 100 (100.0%)\n",
      "Test: 4 | Number of Samples: 1000 | Duplicates: 986 (98.6%)\n",
      "Test: 5 | Number of Samples: 10000 | Duplicates: 9867 (98.67%)\n",
      "Test: 6 | Number of Samples: 100000 | Duplicates: 98631 (98.63%)\n"
     ]
    }
   ],
   "source": [
    "experiment(sample_sizes, 55)"
   ]
  }
 ],
 "metadata": {
  "kernelspec": {
   "display_name": "Python 3",
   "language": "python",
   "name": "python3"
  },
  "language_info": {
   "codemirror_mode": {
    "name": "ipython",
    "version": 3
   },
   "file_extension": ".py",
   "mimetype": "text/x-python",
   "name": "python",
   "nbconvert_exporter": "python",
   "pygments_lexer": "ipython3",
   "version": "3.6.4"
  }
 },
 "nbformat": 4,
 "nbformat_minor": 2
}
